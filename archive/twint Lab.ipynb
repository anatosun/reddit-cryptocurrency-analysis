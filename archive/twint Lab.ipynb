{
 "cells": [
  {
   "cell_type": "markdown",
   "id": "06c6a499",
   "metadata": {},
   "source": [
    "# Twint Examples"
   ]
  },
  {
   "cell_type": "code",
   "execution_count": 4,
   "id": "5b03f28b",
   "metadata": {},
   "outputs": [],
   "source": [
    "#add this for twint to work on jupyter notebook\n",
    "import nest_asyncio\n",
    "nest_asyncio.apply()"
   ]
  },
  {
   "cell_type": "markdown",
   "id": "553b2680",
   "metadata": {},
   "source": [
    "fx's code"
   ]
  },
  {
   "cell_type": "code",
   "execution_count": null,
   "id": "9d1e7832",
   "metadata": {},
   "outputs": [],
   "source": [
    "import twint\n",
    "import sys\n",
    "import json\n",
    "import storage\n",
    "\n",
    "module = sys.modules[\"twint.storage.write\"]\n",
    "db = storage.Neo4jConnection(\n",
    "    uri=\"bolt://localhost:7687\", user=\"neo4j\", password=\"neo\")\n",
    "\n",
    "\n",
    "def Json(obj, config):\n",
    "    tweet = obj.__dict__\n",
    "    db.insert_tweet(tweet)\n",
    "\n",
    "\n",
    "module.Json = Json\n",
    "c = twint.Config()\n",
    "c.Popular_tweets = True\n",
    "c.Search = \"bitcoin OR btc OR ethereum OR ether OR eth OR riple OR cryptocurrency OR monero OR blockchain OR coin OR currency OR ico OR ltc OR mining\"\n",
    "c.Show_hashtags = False\n",
    "c.Min_likes = 10\n",
    "c.Store_json = True\n",
    "c.Custom[\"user\"] = [\"id\", \"tweet\", \"user_id\",\n",
    "                    \"username\", \"hashtags\", \"mentions\"]\n",
    "c.Output = \"tweets.json\"\n",
    "c.Since = \"2019-05-20\"\n",
    "c.Lang = \"en\"\n",
    "c.Hide_output = True\n",
    "\n",
    "twint.run.Search(c)\n",
    "\n"
   ]
  },
  {
   "cell_type": "markdown",
   "id": "2060341a",
   "metadata": {},
   "source": [
    "simple tweet search"
   ]
  },
  {
   "cell_type": "code",
   "execution_count": 8,
   "id": "6d9e5f80",
   "metadata": {
    "collapsed": true
   },
   "outputs": [
    {
     "name": "stdout",
     "output_type": "stream",
     "text": [
      "1504583967366090752 2022-03-17 23:22:26 +0100 <AltcoinDailyio> @tyler Excited Apes\n",
      "1504580710446690311 2022-03-17 23:09:29 +0100 <AltcoinDailyio> INSANE CRYPTO NEWS TODAY! 🚀🚀🚀  • #Bitcoin is BULLISH! • #Ethereum Proof of Stake Coming! • Spotify Hiring for Web3 • Coinbase Integrates #Solana • #Cardano TVL Milestone  CLICK HERE 👇 &gt;&gt;  https://t.co/fbsYtWAREE  https://t.co/qV1XFSyunN\n",
      "1504563228424220683 2022-03-17 22:00:01 +0100 <AltcoinDailyio> Going LIVE on #ATB to talk $BTC, $ADA, $APE &amp; MORE!  JOIN:  https://t.co/8RCcqBPnv7\n",
      "1504527752250093574 2022-03-17 19:39:03 +0100 <AltcoinDailyio> #Bitcoin is green on St. Patrick's day. 🍀\n",
      "1504526709059579921 2022-03-17 19:34:54 +0100 <AltcoinDailyio> #Ethereum Whale Buys $6 Million Worth Of $SHIB.\n",
      "1504526032837103616 2022-03-17 19:32:13 +0100 <AltcoinDailyio> .@ewarren should educate herself on #crypto.  #Bitcoin = GOOD!\n",
      "1504517709660254214 2022-03-17 18:59:09 +0100 <AltcoinDailyio> @intocryptoverse .@Twitter needs to get us @verified now.\n",
      "1504509304639918080 2022-03-17 18:25:45 +0100 <AltcoinDailyio> Adding guacamole #edge\n",
      "1504506542330040328 2022-03-17 18:14:46 +0100 <AltcoinDailyio> More info here 👇  https://t.co/Y1UNT3Chew\n",
      "1504506401825050631 2022-03-17 18:14:13 +0100 <AltcoinDailyio> JUST IN - @Spotify is looking to add Web3 experts to its workforce.\n",
      "1504355298647060482 2022-03-17 08:13:47 +0100 <AltcoinDailyio> #Crypto #NFTs #Ethereum  https://t.co/uQuEJX2QKi\n",
      "1504259781376155649 2022-03-17 01:54:14 +0100 <AltcoinDailyio> #Avalanche or #Solana? $AVAX or $SOL?\n",
      "1504258545167962112 2022-03-17 01:49:19 +0100 <AltcoinDailyio> For info see here 👇  https://t.co/oQ0LQ5zYMH\n",
      "1504258406772887560 2022-03-17 01:48:46 +0100 <AltcoinDailyio> Cardano $ADA staking value surges past $200 million milestone 🚀\n",
      "1504253717696028672 2022-03-17 01:30:08 +0100 <AltcoinDailyio> @APompliano  https://t.co/GiFCDOz6er\n",
      "1504253086658834433 2022-03-17 01:27:38 +0100 <AltcoinDailyio> #Bitcoin bull run coming. 📈📈📈  https://t.co/JsiG6208zf\n",
      "1504248684128583682 2022-03-17 01:10:08 +0100 <AltcoinDailyio> @CryptoWendyO Thank you. 🙏\n",
      "1504247549632258050 2022-03-17 01:05:38 +0100 <AltcoinDailyio> Wish I had a Bored Ape. 😔\n",
      "1504236081213890560 2022-03-17 00:20:03 +0100 <AltcoinDailyio> BIG THINGS ARE HAPPENING W/ #CRYPTO:  -- President Ukraine Signs Bill to Legalize Crypto 🇺🇦 -- Mike Novogratz Says $BTC to 500k or Bust! -- $DOT, $ENJ, $EFI -- $AAVE, $SAND, &amp; MORE!  WATCH 👇 &gt;&gt;  https://t.co/2gP4cNM9t9  https://t.co/DWQ5zFcJrz\n",
      "1504225695249014786 2022-03-16 23:38:47 +0100 <AltcoinDailyio> Use code \"ALTCOINDAILY\" for 10% off! 👇  https://t.co/FbUu5D8ka8\n",
      "1504225178791809027 2022-03-16 23:36:44 +0100 <AltcoinDailyio> About to record an interview with @gmekhail. 💪 🚀 💎  All questions about @TheBitcoinConf are fair game!  What questions about @TheBitcoinConf do you have for him?\n",
      "1504201491598352385 2022-03-16 22:02:36 +0100 <AltcoinDailyio> Going LIVE on @Bitboy_Crypto's ATB!  Come hang!  https://t.co/FvqABUDeDo\n",
      "1504193899245441025 2022-03-16 21:32:26 +0100 <AltcoinDailyio> @Andy_destroyer1 internet gold\n",
      "1504179216786493443 2022-03-16 20:34:06 +0100 <AltcoinDailyio> @pixiekate13 @instagram Only Cardano NFTs. 🙌\n",
      "1504164257503477760 2022-03-16 19:34:39 +0100 <AltcoinDailyio> 'Steve Harvey' is trending. Has @IAmSteveHarvey bought #bitcoin?\n",
      "1504163711954522114 2022-03-16 19:32:29 +0100 <AltcoinDailyio> For more info 👇  https://t.co/vfdwC45SGH.\n",
      "1504163310605721602 2022-03-16 19:30:53 +0100 <AltcoinDailyio> #Ethereum merge to Proof of Stake was successful (on testnet).\n",
      "1504162633410236417 2022-03-16 19:28:12 +0100 <AltcoinDailyio> For more info 👇  https://t.co/N9tkrnhtIT\n",
      "1504162532914724865 2022-03-16 19:27:48 +0100 <AltcoinDailyio> Aave V3 launched today - initially launching on Polygon, Fantom, Avalanche, Arbitrum, Optimism, and Harmony.\n",
      "1504161424154669056 2022-03-16 19:23:24 +0100 <AltcoinDailyio> BREAKING: The Federal Reserve approves 0.25% interest rate hike (first in three years)!\n",
      "1504139082695290884 2022-03-16 17:54:37 +0100 <AltcoinDailyio> BREAKING: Ukraine President signs bill to legalize #crypto in Ukraine 🇺🇦\n",
      "1504088091564425217 2022-03-16 14:32:00 +0100 <AltcoinDailyio> Haters are future fans ✨\n",
      "1503905389246443520 2022-03-16 02:26:00 +0100 <AltcoinDailyio> @RaoulGMI @Okcoin Whats the ticker?\n",
      "1503895022176858115 2022-03-16 01:44:48 +0100 <AltcoinDailyio> I just found $20 in my pocket! Which #crypto should I buy?\n",
      "1503893598772682753 2022-03-16 01:39:09 +0100 <AltcoinDailyio> Pro tip: DCA in on the way down. DCA out on the way up. 🧠\n",
      "1503891035319013378 2022-03-16 01:28:58 +0100 <AltcoinDailyio> BREAKING: #Twitter has added reply downvotes ⬇️!\n",
      "1503867924788187137 2022-03-15 23:57:08 +0100 <AltcoinDailyio> What are the BEST #crypto projects in the space today?  $BTC, $ETH, $HNT, $ALGO, $ADA, $FLOW, + more.  CLICK HERE 👇 &gt;&gt;  https://t.co/PWzI69hPKz  https://t.co/egsDKQ6jrW\n",
      "1503824728607264770 2022-03-15 21:05:29 +0100 <AltcoinDailyio> For more info 👇  https://t.co/iWcODwAtR4\n",
      "1503824625670639617 2022-03-15 21:05:05 +0100 <AltcoinDailyio> Dr. Disrespect Launches #NFT Game Studio ✨\n",
      "1503822984238182401 2022-03-15 20:58:33 +0100 <AltcoinDailyio> @MetisDAO @fatpigsignals 👍\n",
      "1503815885365997568 2022-03-15 20:30:21 +0100 <AltcoinDailyio> Buy back in now? Or wait until it dips lower?  https://t.co/0UQ0la0GKg\n",
      "1503781879824072705 2022-03-15 18:15:13 +0100 <AltcoinDailyio> Who likes $EFI?\n",
      "1503731240066686978 2022-03-15 14:54:00 +0100 <AltcoinDailyio> Not only is America NOT going to ban #Ethereum, we are going to be the #1 country in the world for #ETH industry.\n",
      "1503723438476722180 2022-03-15 14:23:00 +0100 <AltcoinDailyio> ❤️ if you want #bitcoin to succeed. 🏆 🚀 💎\n",
      "1503718657582678024 2022-03-15 14:04:00 +0100 <AltcoinDailyio> The narrative is the market. 🧠\n",
      "1503716391995817985 2022-03-15 13:55:00 +0100 <AltcoinDailyio> Which #crypto should I talk about in today's video? (followers only)  👇👇\n",
      "1503516726008311808 2022-03-15 00:41:36 +0100 <AltcoinDailyio> Let's discuss THE LATEST #crypto news:  -- Chamath Talks 2022 Recession &amp; #Bitcoin -- EU Votes AGAINST PoW #Crypto Ban -- Pixar Launches NFTs w/ $OMI -- Mila Kunis #Solana NFT Animated Series -- &amp; MORE!  WATCH 👇 &gt;&gt;  https://t.co/FQs3k1x5hS  https://t.co/aBxH7egjVH\n",
      "1503489948782981120 2022-03-14 22:55:11 +0100 <AltcoinDailyio> For info see here 👇  https://t.co/ldvitn6Q1l\n",
      "1503489814129086464 2022-03-14 22:54:39 +0100 <AltcoinDailyio> Pixar #NFT drop sells out on VeVe shortly after launch\n",
      "1503450641577914370 2022-03-14 20:19:00 +0100 <AltcoinDailyio> Only really interested in projects that appreciate now.\n",
      "1503415720901701633 2022-03-14 18:00:14 +0100 <AltcoinDailyio> Read more:  https://t.co/gXeBXwPR8r\n",
      "1503415718716456960 2022-03-14 18:00:14 +0100 <AltcoinDailyio> NEW: European Union votes AGAINST banning Proof of Work #cryptocurrencies\n",
      "1503357779179937798 2022-03-14 14:10:00 +0100 <AltcoinDailyio> Two years ago today #Ethereum was $123.03 👀\n",
      "1503352997799251968 2022-03-14 13:51:00 +0100 <AltcoinDailyio> Two years ago today #Bitcoin was $5,214 👀\n",
      "1503283249082105859 2022-03-14 09:13:50 +0100 <AltcoinDailyio>  https://t.co/9ae3L2FLwJ\n",
      "1503283202323980291 2022-03-14 09:13:39 +0100 <AltcoinDailyio> Coinbase Is Testing Zero-Fees Trading For Bitcoin, Ethereum, Dogecoin.\n",
      "1503282592774197250 2022-03-14 09:11:14 +0100 <AltcoinDailyio> Original #Bitcoin logo designed by Satoshi.  https://t.co/w2u18lwNuj\n",
      "1503268359978201092 2022-03-14 08:14:41 +0100 <AltcoinDailyio> Elon Musk likes #Dogecoin a little too much.\n",
      "1503250269559144451 2022-03-14 07:02:47 +0100 <AltcoinDailyio> Favorite privacy coin? 🕵️\n",
      "1503249258836742145 2022-03-14 06:58:46 +0100 <AltcoinDailyio> @GokhanCoskun1  https://t.co/q2XEDkpSLW\n",
      "1503248493527252992 2022-03-14 06:55:44 +0100 <AltcoinDailyio> Elon Musk owns #Ethereum. 🚨\n",
      "1503243104807100418 2022-03-14 06:34:19 +0100 <AltcoinDailyio> Elon Musk owns #Ethereum. 🚨\n",
      "1503178095368581126 2022-03-14 02:16:00 +0100 <AltcoinDailyio> Remember: tweets &amp; videos are not financial advice. 👍\n",
      "1503170293803720710 2022-03-14 01:45:00 +0100 <AltcoinDailyio> People FUD bitcoin, ethereum, cardano, crypto, NFTs, etc on twitter to fit in with the audience they have cultivated. Important to rise above. Develop your own opinions and investors thesis.  Make your own decisions. Think for yourself.\n",
      "1503159385761083393 2022-03-14 01:01:39 +0100 <AltcoinDailyio> A guide to trading #bitcoin.  https://t.co/zHhFoxePfv\n",
      "1503147715261206528 2022-03-14 00:15:17 +0100 <AltcoinDailyio> I am buying the dip. 🙋‍♂️\n",
      "1503139466721959941 2022-03-13 23:42:30 +0100 <AltcoinDailyio> #Bitcoin Entering 'Golden Buy Zone'? 📈📈📈  + $FNT, $ADA, $XMR, $ZEC   &amp; @cook_finance update! #partner  CLICK HERE 👇 &gt;&gt;&gt;  https://t.co/vUhXNpYx68  https://t.co/3PEYL6ABs7\n",
      "1503132009731743744 2022-03-13 23:12:52 +0100 <AltcoinDailyio> @elonmusk  https://t.co/iRRsYIn57m\n",
      "1503130389065330688 2022-03-13 23:06:26 +0100 <AltcoinDailyio> For even more info 👇  https://t.co/P1EkMAcr2p\n",
      "1503130301366644740 2022-03-13 23:06:05 +0100 <AltcoinDailyio> JUST IN - Number of #Cardano Addresses Reaches 3.5 Million\n",
      "1503128882018349058 2022-03-13 23:00:26 +0100 <AltcoinDailyio> @melabeeofficial 🔥\n",
      "1503127564147068929 2022-03-13 22:55:12 +0100 <AltcoinDailyio> Hey you! What song are you listening to?\n",
      "1503114048094699523 2022-03-13 22:01:30 +0100 <AltcoinDailyio> The 🌎 is ready. #Ethereum  https://t.co/LVsoyCgqMe\n",
      "1503107018059526144 2022-03-13 21:33:34 +0100 <AltcoinDailyio> C A R D A N O\n",
      "1503102849340739585 2022-03-13 21:17:00 +0100 <AltcoinDailyio> #Bitcoin has properties that no other #crypto has (or can have). I hold it because I believe those properties are valuable.  I hold many other cryptos, but I believe #Bitcoin has some of the strongest fundamentals in the space. 💪 🚀 💎\n",
      "1503090858651914240 2022-03-13 20:29:21 +0100 <AltcoinDailyio> @pixiekate13 @DillonFrancis @decryptmedia 🔥\n",
      "1502806968318128128 2022-03-13 01:41:16 +0100 <AltcoinDailyio> Steve Wozniak makes BOLD #crypto prediction about #Bitcoin price.. 🚀  WATCH 👇 &gt;&gt;  https://t.co/y5H9jMTtG1  https://t.co/YCgknRn5Pe\n",
      "1502791547955281922 2022-03-13 00:40:00 +0100 <AltcoinDailyio> .@ParisHilton is a genius. 🧠\n",
      "1502766270671818752 2022-03-12 22:59:33 +0100 <AltcoinDailyio> My bags are packed. I'm ready. 🚀\n",
      "1502691136657231872 2022-03-12 18:01:00 +0100 <AltcoinDailyio> Get your tickets to Bitcoin 2022 in Miami!!! ❤️❤️❤️  💥 Use code \"ALTCOINDAILY\" for 10% off! 💥  BUY NOW 👇  https://t.co/FbUu5D8ka8\n"
     ]
    },
    {
     "name": "stdout",
     "output_type": "stream",
     "text": [
      "1502664712428789764 2022-03-12 16:16:00 +0100 <AltcoinDailyio> Do you like #bitcoin? Or do you LOVE #bitcoin? 😏\n",
      "1502429897444143104 2022-03-12 00:42:56 +0100 <AltcoinDailyio> They plan to turn over commercial rights to #NFT holders.\n",
      "1502429404412014593 2022-03-12 00:40:58 +0100 <AltcoinDailyio> For more info 👇  https://t.co/6qQvbzalz4\n",
      "1502429238930001927 2022-03-12 00:40:19 +0100 <AltcoinDailyio> BREAKING: Bored Ape Yacht Club creator has acquired the IP rights of CryptoPunks.\n",
      "1502423847525498884 2022-03-12 00:18:53 +0100 <AltcoinDailyio> Cryptocurrency News! $BTC $ETH $MANA  CLICK HERE! 👇 &gt;&gt;  https://t.co/A9eFmy2EXc  https://t.co/WGxXICcNV2\n",
      "1502380523859050498 2022-03-11 21:26:44 +0100 <AltcoinDailyio> For more info 👇  https://t.co/8dIKsQ2oA5\n",
      "1502136904992497666 2022-03-11 05:18:41 +0100 <AltcoinDailyio> Ethereum or Cardano? $ETH $ADA 🤔\n",
      "1502070181065269248 2022-03-11 00:53:32 +0100 <AltcoinDailyio> LET'S DISCUSS THE LATEST #CRYPTO NEWS:  -- #BITCOIN VS USA INFLATION (7.9%) -- $ETH USAGE FALLING -- $RUNE, $VET, $HBAR -- &amp; MORE!  WATCH 👇 &gt;&gt;  https://t.co/pVFa2sOAzB  https://t.co/OdybHAI6Ji\n",
      "1502042121934893056 2022-03-10 23:02:03 +0100 <AltcoinDailyio> Going LIVE on ATB RIGHT NOW!  JOIN 👇   https://t.co/7GQvb70MJg\n",
      "1502038022073716760 2022-03-10 22:45:45 +0100 <AltcoinDailyio> @pixiekate13 @DillonFrancis @tim_bonito @decryptmedia 🔥\n",
      "1502029108405964805 2022-03-10 22:10:20 +0100 <AltcoinDailyio> @elliotrades 🔥\n",
      "1502028228591980549 2022-03-10 22:06:50 +0100 <AltcoinDailyio> Does @TimJDillon respond?\n",
      "1502027735455076355 2022-03-10 22:04:53 +0100 <AltcoinDailyio> My message to @VitalikButerin seeing ETH still under 3k.  https://t.co/PQNm0qM33h\n",
      "1502024806312546304 2022-03-10 21:53:14 +0100 <AltcoinDailyio> Many #bitcoin holders think like this. 👇  https://t.co/mWxvzXHF9U\n",
      "1502018448083226625 2022-03-10 21:27:58 +0100 <AltcoinDailyio> So there are people holding zero $ETH?\n",
      "1502002332489314315 2022-03-10 20:23:56 +0100 <AltcoinDailyio> Over $5B+ worth of $ETH burned since EIP-1559 🔥\n",
      "1501998834657857542 2022-03-10 20:10:02 +0100 <AltcoinDailyio> Drop a hot take 👇\n",
      "1501980494031843329 2022-03-10 18:57:09 +0100 <AltcoinDailyio> My wife when she finds out our money is in #NFTs.  https://t.co/C9O2nRPIkz\n",
      "1501960479706533902 2022-03-10 17:37:38 +0100 <AltcoinDailyio> The Ethereum 2.0 Staking Contract Now Holds 10M+ $ETH 📈\n",
      "1501935917195530240 2022-03-10 16:00:01 +0100 <AltcoinDailyio> Gene Simmons REVEALS His 10x #Crypto Portfolio #ThrowbackThursday   WATCH 👇 &gt;&gt;  https://t.co/eWyOl5UXw3  https://t.co/uaN7e2AZ46\n",
      "1501926598802558985 2022-03-10 15:23:00 +0100 <AltcoinDailyio> Which #crypto should I talk about in today's video? (followers only)  👇👇\n",
      "1501920558879055875 2022-03-10 14:59:00 +0100 <AltcoinDailyio> Do you believe in #bitcoin?\n",
      "1501717974159351812 2022-03-10 01:34:00 +0100 <AltcoinDailyio> Crypto regulations is not a bad thing, just another step to mainstream adoption.\n",
      "1501702733300060162 2022-03-10 00:33:26 +0100 <AltcoinDailyio> @AlfredTran Appreciate you!\n",
      "1501702182332030977 2022-03-10 00:31:15 +0100 <AltcoinDailyio> Joe Biden thinks #crypto is something Corn Pop smokes.\n",
      "1501701049798721542 2022-03-10 00:26:45 +0100 <AltcoinDailyio> Joe Biden’s #Crypto Executive Order EXPLAINED! 💥  (Good or Bad?)  + #Cardano Founder LIED? 💀💀💀  CLICK HERE 👇 &gt;&gt;  https://t.co/renwNLWpJ9  https://t.co/SDCUeoh5z7\n",
      "1501691402299723777 2022-03-09 23:48:25 +0100 <AltcoinDailyio> @CryptoWendyO @NFTLAlive local top signal?\n",
      "1501685863947718656 2022-03-09 23:26:24 +0100 <AltcoinDailyio> Sign-up for Choice! 🎉 🎉 🎉  $50 in free bitcoin 👇  https://t.co/Wn4wrGCzU9\n",
      "1501685289844047874 2022-03-09 23:24:07 +0100 <AltcoinDailyio> Android App for @choicebyKT is HERE!\n",
      "1501679225027268608 2022-03-09 23:00:01 +0100 <AltcoinDailyio> Goin LIVE on #ATB talking #crypto!  Join!  https://t.co/kfart0qD25\n",
      "1501672836263387139 2022-03-09 22:34:38 +0100 <AltcoinDailyio> @LeahLamarr Right click &amp; saving an NFT.\n",
      "1501611522988068864 2022-03-09 18:31:00 +0100 <AltcoinDailyio> What #crypto should I buy?  https://t.co/tQAR7YsVzC\n",
      "1501606460706328581 2022-03-09 18:10:53 +0100 <AltcoinDailyio> #BITCOIN BREAKS ATH!! (IN RUSSIA) 🚀  https://t.co/HJMm2LSFOG\n",
      "1501577548890734593 2022-03-09 16:16:00 +0100 <AltcoinDailyio> Checking my portfolio like 😮  https://t.co/wARCnW0adt\n",
      "1501563707779952641 2022-03-09 15:21:00 +0100 <AltcoinDailyio> Do you like $SUPER?\n",
      "1501557919401185282 2022-03-09 14:58:00 +0100 <AltcoinDailyio> Everyone should have the goal of at least .28 $BTC in their portfolio.\n",
      "1501455093782106112 2022-03-09 08:09:24 +0100 <AltcoinDailyio> @elonmusk  https://t.co/Q2ThaNbrx7\n",
      "1501450770306134018 2022-03-09 07:52:13 +0100 <AltcoinDailyio> @elonmusk  https://t.co/qWhjokdO9U\n",
      "1501421428779806720 2022-03-09 05:55:38 +0100 <AltcoinDailyio> Fortune favors the bold. 🤠\n",
      "1501416896251318276 2022-03-09 05:37:37 +0100 <AltcoinDailyio> #Bitcoin PUMP! 📈📈📈  https://t.co/zxsUzEVVQa\n",
      "1501355616337424385 2022-03-09 01:34:07 +0100 <AltcoinDailyio> @CoinbaseExch You just listed these an hour ago?  https://t.co/4mLuzCbUDL\n",
      "1501352305567748097 2022-03-09 01:20:58 +0100 <AltcoinDailyio> @LayahHeilpern  https://t.co/m5sqPJfpSO\n",
      "1501351781044867073 2022-03-09 01:18:53 +0100 <AltcoinDailyio> Satoshi is a woman. 👏\n",
      "1501350824487763968 2022-03-09 01:15:04 +0100 <AltcoinDailyio> This is why I'm bad with names. 👇  https://t.co/ONnyw4mcoT\n",
      "1501338917986996225 2022-03-09 00:27:46 +0100 <AltcoinDailyio> Owning #bitcoin, #ethereum, &amp; #crypto in 2022 put you at a serious competitive advantage for 2020 (the decade). 🚀\n",
      "1501337625856122881 2022-03-09 00:22:38 +0100 <AltcoinDailyio> @RepTomEmmer I think she's on the take. 🤦\n",
      "1501331196923367428 2022-03-08 23:57:05 +0100 <AltcoinDailyio> Go out to a party or stay in and watch #crypto?  https://t.co/Dyp8T0ICrl\n",
      "1501328046602665988 2022-03-08 23:44:34 +0100 <AltcoinDailyio> Who are your favorite women in #web3 &amp; #crypto? 💁‍♀️\n",
      "1501325829447376901 2022-03-08 23:35:45 +0100 <AltcoinDailyio> WTF IS GOING ON WITH CRYPTO?  LET'S DISCUSS: -- #Altcoins Oversold? -- DraftKings Becomes $MATIC Validator -- Adobe Adds Support for $SOL NFTs -- $ETH, $AVAX, $SAND -- &amp; MORE!  WATCH 👇 &gt;&gt;  https://t.co/NCBMVlLwNR  https://t.co/dt5pa5GTiD\n",
      "1501316133244133376 2022-03-08 22:57:13 +0100 <AltcoinDailyio> I like the people that engage with our tweets on a regular basis. I appreciate YOU. 🙏\n",
      "1501314843520897029 2022-03-08 22:52:06 +0100 <AltcoinDailyio> Avalanche $AVAX doing big things in crypto. 👀\n",
      "1501314521415045122 2022-03-08 22:50:49 +0100 <AltcoinDailyio> For more info 👇  https://t.co/EDNgF2V7Yk\n",
      "1501314377181368321 2022-03-08 22:50:15 +0100 <AltcoinDailyio> JUST IN - Goldman Sachs Offering Clients Access to #Ethereum Fund.\n",
      "1501311474177744897 2022-03-08 22:38:43 +0100 <AltcoinDailyio> Feeling blessed to be in #crypto at this time. 🙏\n",
      "1501297743142088705 2022-03-08 21:44:09 +0100 <AltcoinDailyio> @SosonB :) 👍\n",
      "1501297483401478146 2022-03-08 21:43:07 +0100 <AltcoinDailyio> Altcoin Daily shares the crypto news that the mainstream media won't, and breaks it down in a way that other channels can't.  A video a day. Everyday. At least.  That's why you subscribe.\n",
      "1501281153226997761 2022-03-08 20:38:14 +0100 <AltcoinDailyio> Happy International Women's Day! ✨ 💎 💁‍♀️\n",
      "1501274552445321226 2022-03-08 20:12:00 +0100 <AltcoinDailyio> Life is GOOD! 💪 🚀 💎\n",
      "1501233393169698821 2022-03-08 17:28:27 +0100 <AltcoinDailyio> Read more:  https://t.co/vduD8q2XFY\n",
      "1501233391659671555 2022-03-08 17:28:26 +0100 <AltcoinDailyio> NEW: Adobe adds support for #Solana NFTs ✨\n",
      "[!] No more data! Scraping will stop now.\n",
      "found 0 deleted tweets in this search.\n"
     ]
    }
   ],
   "source": [
    "import twint\n",
    "\n",
    "c = twint.Config()\n",
    "c.Username = \"AltcoinDailyio\"\n",
    "c.Limit = 1000\n",
    "c.Since = \"2015-12-20\"\n",
    "c.Retries_count = 1000\n",
    "\n",
    "twint.run.Search(c)"
   ]
  },
  {
   "cell_type": "code",
   "execution_count": 9,
   "id": "cf7ea205",
   "metadata": {},
   "outputs": [
    {
     "ename": "JSONDecodeError",
     "evalue": "Expecting value: line 1 column 1 (char 0)",
     "output_type": "error",
     "traceback": [
      "\u001b[0;31m---------------------------------------------------------------------------\u001b[0m",
      "\u001b[0;31mJSONDecodeError\u001b[0m                           Traceback (most recent call last)",
      "Input \u001b[0;32mIn [9]\u001b[0m, in \u001b[0;36m<cell line: 9>\u001b[0;34m()\u001b[0m\n\u001b[1;32m      6\u001b[0m c\u001b[38;5;241m.\u001b[39mSince \u001b[38;5;241m=\u001b[39m \u001b[38;5;124m\"\u001b[39m\u001b[38;5;124m2015-12-20\u001b[39m\u001b[38;5;124m\"\u001b[39m\n\u001b[1;32m      7\u001b[0m c\u001b[38;5;241m.\u001b[39mRetries_count \u001b[38;5;241m=\u001b[39m \u001b[38;5;241m1000\u001b[39m\n\u001b[0;32m----> 9\u001b[0m \u001b[43mtwint\u001b[49m\u001b[38;5;241;43m.\u001b[39;49m\u001b[43mrun\u001b[49m\u001b[38;5;241;43m.\u001b[39;49m\u001b[43mProfile\u001b[49m\u001b[43m(\u001b[49m\u001b[43mc\u001b[49m\u001b[43m)\u001b[49m\n",
      "File \u001b[0;32m~/dev/sma/project/.venv/lib/python3.10/site-packages/twint/run.py:398\u001b[0m, in \u001b[0;36mProfile\u001b[0;34m(config)\u001b[0m\n\u001b[1;32m    396\u001b[0m config\u001b[38;5;241m.\u001b[39mFollowers \u001b[38;5;241m=\u001b[39m \u001b[38;5;28;01mFalse\u001b[39;00m\n\u001b[1;32m    397\u001b[0m config\u001b[38;5;241m.\u001b[39mTwitterSearch \u001b[38;5;241m=\u001b[39m \u001b[38;5;28;01mFalse\u001b[39;00m\n\u001b[0;32m--> 398\u001b[0m \u001b[43mrun\u001b[49m\u001b[43m(\u001b[49m\u001b[43mconfig\u001b[49m\u001b[43m)\u001b[49m\n\u001b[1;32m    399\u001b[0m \u001b[38;5;28;01mif\u001b[39;00m config\u001b[38;5;241m.\u001b[39mPandas_au:\n\u001b[1;32m    400\u001b[0m     storage\u001b[38;5;241m.\u001b[39mpanda\u001b[38;5;241m.\u001b[39m_autoget(\u001b[38;5;124m\"\u001b[39m\u001b[38;5;124mtweet\u001b[39m\u001b[38;5;124m\"\u001b[39m)\n",
      "File \u001b[0;32m~/dev/sma/project/.venv/lib/python3.10/site-packages/twint/run.py:329\u001b[0m, in \u001b[0;36mrun\u001b[0;34m(config, callback)\u001b[0m\n\u001b[1;32m    325\u001b[0m     logme\u001b[38;5;241m.\u001b[39mexception(\n\u001b[1;32m    326\u001b[0m         \u001b[38;5;18m__name__\u001b[39m \u001b[38;5;241m+\u001b[39m \u001b[38;5;124m'\u001b[39m\u001b[38;5;124m:run:Unexpected exception occurred while attempting to get or create a new event loop.\u001b[39m\u001b[38;5;124m'\u001b[39m)\n\u001b[1;32m    327\u001b[0m     \u001b[38;5;28;01mraise\u001b[39;00m\n\u001b[0;32m--> 329\u001b[0m \u001b[43mget_event_loop\u001b[49m\u001b[43m(\u001b[49m\u001b[43m)\u001b[49m\u001b[38;5;241;43m.\u001b[39;49m\u001b[43mrun_until_complete\u001b[49m\u001b[43m(\u001b[49m\u001b[43mTwint\u001b[49m\u001b[43m(\u001b[49m\u001b[43mconfig\u001b[49m\u001b[43m)\u001b[49m\u001b[38;5;241;43m.\u001b[39;49m\u001b[43mmain\u001b[49m\u001b[43m(\u001b[49m\u001b[43mcallback\u001b[49m\u001b[43m)\u001b[49m\u001b[43m)\u001b[49m\n",
      "File \u001b[0;32m~/dev/sma/project/.venv/lib/python3.10/site-packages/nest_asyncio.py:81\u001b[0m, in \u001b[0;36m_patch_loop.<locals>.run_until_complete\u001b[0;34m(self, future)\u001b[0m\n\u001b[1;32m     78\u001b[0m \u001b[38;5;28;01mif\u001b[39;00m \u001b[38;5;129;01mnot\u001b[39;00m f\u001b[38;5;241m.\u001b[39mdone():\n\u001b[1;32m     79\u001b[0m     \u001b[38;5;28;01mraise\u001b[39;00m \u001b[38;5;167;01mRuntimeError\u001b[39;00m(\n\u001b[1;32m     80\u001b[0m         \u001b[38;5;124m'\u001b[39m\u001b[38;5;124mEvent loop stopped before Future completed.\u001b[39m\u001b[38;5;124m'\u001b[39m)\n\u001b[0;32m---> 81\u001b[0m \u001b[38;5;28;01mreturn\u001b[39;00m \u001b[43mf\u001b[49m\u001b[38;5;241;43m.\u001b[39;49m\u001b[43mresult\u001b[49m\u001b[43m(\u001b[49m\u001b[43m)\u001b[49m\n",
      "File \u001b[0;32m~/.tools/pyenv/versions/3.10.2/lib/python3.10/asyncio/futures.py:201\u001b[0m, in \u001b[0;36mFuture.result\u001b[0;34m(self)\u001b[0m\n\u001b[1;32m    199\u001b[0m \u001b[38;5;28mself\u001b[39m\u001b[38;5;241m.\u001b[39m__log_traceback \u001b[38;5;241m=\u001b[39m \u001b[38;5;28;01mFalse\u001b[39;00m\n\u001b[1;32m    200\u001b[0m \u001b[38;5;28;01mif\u001b[39;00m \u001b[38;5;28mself\u001b[39m\u001b[38;5;241m.\u001b[39m_exception \u001b[38;5;129;01mis\u001b[39;00m \u001b[38;5;129;01mnot\u001b[39;00m \u001b[38;5;28;01mNone\u001b[39;00m:\n\u001b[0;32m--> 201\u001b[0m     \u001b[38;5;28;01mraise\u001b[39;00m \u001b[38;5;28mself\u001b[39m\u001b[38;5;241m.\u001b[39m_exception\n\u001b[1;32m    202\u001b[0m \u001b[38;5;28;01mreturn\u001b[39;00m \u001b[38;5;28mself\u001b[39m\u001b[38;5;241m.\u001b[39m_result\n",
      "File \u001b[0;32m~/.tools/pyenv/versions/3.10.2/lib/python3.10/asyncio/tasks.py:234\u001b[0m, in \u001b[0;36mTask.__step\u001b[0;34m(***failed resolving arguments***)\u001b[0m\n\u001b[1;32m    232\u001b[0m         result \u001b[38;5;241m=\u001b[39m coro\u001b[38;5;241m.\u001b[39msend(\u001b[38;5;28;01mNone\u001b[39;00m)\n\u001b[1;32m    233\u001b[0m     \u001b[38;5;28;01melse\u001b[39;00m:\n\u001b[0;32m--> 234\u001b[0m         result \u001b[38;5;241m=\u001b[39m \u001b[43mcoro\u001b[49m\u001b[38;5;241;43m.\u001b[39;49m\u001b[43mthrow\u001b[49m\u001b[43m(\u001b[49m\u001b[43mexc\u001b[49m\u001b[43m)\u001b[49m\n\u001b[1;32m    235\u001b[0m \u001b[38;5;28;01mexcept\u001b[39;00m \u001b[38;5;167;01mStopIteration\u001b[39;00m \u001b[38;5;28;01mas\u001b[39;00m exc:\n\u001b[1;32m    236\u001b[0m     \u001b[38;5;28;01mif\u001b[39;00m \u001b[38;5;28mself\u001b[39m\u001b[38;5;241m.\u001b[39m_must_cancel:\n\u001b[1;32m    237\u001b[0m         \u001b[38;5;66;03m# Task is cancelled right before coro stops.\u001b[39;00m\n",
      "File \u001b[0;32m~/dev/sma/project/.venv/lib/python3.10/site-packages/twint/run.py:235\u001b[0m, in \u001b[0;36mTwint.main\u001b[0;34m(self, callback)\u001b[0m\n\u001b[1;32m    232\u001b[0m \u001b[38;5;28;01mif\u001b[39;00m callback:\n\u001b[1;32m    233\u001b[0m     task\u001b[38;5;241m.\u001b[39madd_done_callback(callback)\n\u001b[0;32m--> 235\u001b[0m \u001b[38;5;28;01mawait\u001b[39;00m task\n",
      "File \u001b[0;32m~/.tools/pyenv/versions/3.10.2/lib/python3.10/asyncio/futures.py:284\u001b[0m, in \u001b[0;36mFuture.__await__\u001b[0;34m(self)\u001b[0m\n\u001b[1;32m    282\u001b[0m \u001b[38;5;28;01mif\u001b[39;00m \u001b[38;5;129;01mnot\u001b[39;00m \u001b[38;5;28mself\u001b[39m\u001b[38;5;241m.\u001b[39mdone():\n\u001b[1;32m    283\u001b[0m     \u001b[38;5;28mself\u001b[39m\u001b[38;5;241m.\u001b[39m_asyncio_future_blocking \u001b[38;5;241m=\u001b[39m \u001b[38;5;28;01mTrue\u001b[39;00m\n\u001b[0;32m--> 284\u001b[0m     \u001b[38;5;28;01myield\u001b[39;00m \u001b[38;5;28mself\u001b[39m  \u001b[38;5;66;03m# This tells Task to wait for completion.\u001b[39;00m\n\u001b[1;32m    285\u001b[0m \u001b[38;5;28;01mif\u001b[39;00m \u001b[38;5;129;01mnot\u001b[39;00m \u001b[38;5;28mself\u001b[39m\u001b[38;5;241m.\u001b[39mdone():\n\u001b[1;32m    286\u001b[0m     \u001b[38;5;28;01mraise\u001b[39;00m \u001b[38;5;167;01mRuntimeError\u001b[39;00m(\u001b[38;5;124m\"\u001b[39m\u001b[38;5;124mawait wasn\u001b[39m\u001b[38;5;124m'\u001b[39m\u001b[38;5;124mt used with future\u001b[39m\u001b[38;5;124m\"\u001b[39m)\n",
      "File \u001b[0;32m~/.tools/pyenv/versions/3.10.2/lib/python3.10/asyncio/tasks.py:304\u001b[0m, in \u001b[0;36mTask.__wakeup\u001b[0;34m(self, future)\u001b[0m\n\u001b[1;32m    302\u001b[0m \u001b[38;5;28;01mdef\u001b[39;00m \u001b[38;5;21m__wakeup\u001b[39m(\u001b[38;5;28mself\u001b[39m, future):\n\u001b[1;32m    303\u001b[0m     \u001b[38;5;28;01mtry\u001b[39;00m:\n\u001b[0;32m--> 304\u001b[0m         \u001b[43mfuture\u001b[49m\u001b[38;5;241;43m.\u001b[39;49m\u001b[43mresult\u001b[49m\u001b[43m(\u001b[49m\u001b[43m)\u001b[49m\n\u001b[1;32m    305\u001b[0m     \u001b[38;5;28;01mexcept\u001b[39;00m \u001b[38;5;167;01mBaseException\u001b[39;00m \u001b[38;5;28;01mas\u001b[39;00m exc:\n\u001b[1;32m    306\u001b[0m         \u001b[38;5;66;03m# This may also be a cancellation.\u001b[39;00m\n\u001b[1;32m    307\u001b[0m         \u001b[38;5;28mself\u001b[39m\u001b[38;5;241m.\u001b[39m__step(exc)\n",
      "File \u001b[0;32m~/.tools/pyenv/versions/3.10.2/lib/python3.10/asyncio/futures.py:201\u001b[0m, in \u001b[0;36mFuture.result\u001b[0;34m(self)\u001b[0m\n\u001b[1;32m    199\u001b[0m \u001b[38;5;28mself\u001b[39m\u001b[38;5;241m.\u001b[39m__log_traceback \u001b[38;5;241m=\u001b[39m \u001b[38;5;28;01mFalse\u001b[39;00m\n\u001b[1;32m    200\u001b[0m \u001b[38;5;28;01mif\u001b[39;00m \u001b[38;5;28mself\u001b[39m\u001b[38;5;241m.\u001b[39m_exception \u001b[38;5;129;01mis\u001b[39;00m \u001b[38;5;129;01mnot\u001b[39;00m \u001b[38;5;28;01mNone\u001b[39;00m:\n\u001b[0;32m--> 201\u001b[0m     \u001b[38;5;28;01mraise\u001b[39;00m \u001b[38;5;28mself\u001b[39m\u001b[38;5;241m.\u001b[39m_exception\n\u001b[1;32m    202\u001b[0m \u001b[38;5;28;01mreturn\u001b[39;00m \u001b[38;5;28mself\u001b[39m\u001b[38;5;241m.\u001b[39m_result\n",
      "File \u001b[0;32m~/.tools/pyenv/versions/3.10.2/lib/python3.10/asyncio/tasks.py:232\u001b[0m, in \u001b[0;36mTask.__step\u001b[0;34m(***failed resolving arguments***)\u001b[0m\n\u001b[1;32m    228\u001b[0m \u001b[38;5;28;01mtry\u001b[39;00m:\n\u001b[1;32m    229\u001b[0m     \u001b[38;5;28;01mif\u001b[39;00m exc \u001b[38;5;129;01mis\u001b[39;00m \u001b[38;5;28;01mNone\u001b[39;00m:\n\u001b[1;32m    230\u001b[0m         \u001b[38;5;66;03m# We use the `send` method directly, because coroutines\u001b[39;00m\n\u001b[1;32m    231\u001b[0m         \u001b[38;5;66;03m# don't have `__iter__` and `__next__` methods.\u001b[39;00m\n\u001b[0;32m--> 232\u001b[0m         result \u001b[38;5;241m=\u001b[39m \u001b[43mcoro\u001b[49m\u001b[38;5;241;43m.\u001b[39;49m\u001b[43msend\u001b[49m\u001b[43m(\u001b[49m\u001b[38;5;28;43;01mNone\u001b[39;49;00m\u001b[43m)\u001b[49m\n\u001b[1;32m    233\u001b[0m     \u001b[38;5;28;01melse\u001b[39;00m:\n\u001b[1;32m    234\u001b[0m         result \u001b[38;5;241m=\u001b[39m coro\u001b[38;5;241m.\u001b[39mthrow(exc)\n",
      "File \u001b[0;32m~/dev/sma/project/.venv/lib/python3.10/site-packages/twint/run.py:283\u001b[0m, in \u001b[0;36mTwint.run\u001b[0;34m(self)\u001b[0m\n\u001b[1;32m    281\u001b[0m \u001b[38;5;28;01melif\u001b[39;00m \u001b[38;5;28mself\u001b[39m\u001b[38;5;241m.\u001b[39mconfig\u001b[38;5;241m.\u001b[39mProfile:\n\u001b[1;32m    282\u001b[0m     logme\u001b[38;5;241m.\u001b[39mdebug(\u001b[38;5;18m__name__\u001b[39m \u001b[38;5;241m+\u001b[39m \u001b[38;5;124m'\u001b[39m\u001b[38;5;124m:Twint:main:profile\u001b[39m\u001b[38;5;124m'\u001b[39m)\n\u001b[0;32m--> 283\u001b[0m     \u001b[38;5;28;01mawait\u001b[39;00m \u001b[38;5;28mself\u001b[39m\u001b[38;5;241m.\u001b[39mprofile()\n\u001b[1;32m    284\u001b[0m \u001b[38;5;28;01melif\u001b[39;00m \u001b[38;5;28mself\u001b[39m\u001b[38;5;241m.\u001b[39mconfig\u001b[38;5;241m.\u001b[39mTwitterSearch:\n\u001b[1;32m    285\u001b[0m     logme\u001b[38;5;241m.\u001b[39mdebug(\u001b[38;5;18m__name__\u001b[39m \u001b[38;5;241m+\u001b[39m \u001b[38;5;124m'\u001b[39m\u001b[38;5;124m:Twint:main:twitter-search\u001b[39m\u001b[38;5;124m'\u001b[39m)\n",
      "File \u001b[0;32m~/dev/sma/project/.venv/lib/python3.10/site-packages/twint/run.py:210\u001b[0m, in \u001b[0;36mTwint.profile\u001b[0;34m(self)\u001b[0m\n\u001b[1;32m    209\u001b[0m \u001b[38;5;28;01masync\u001b[39;00m \u001b[38;5;28;01mdef\u001b[39;00m \u001b[38;5;21mprofile\u001b[39m(\u001b[38;5;28mself\u001b[39m):\n\u001b[0;32m--> 210\u001b[0m     \u001b[38;5;28;01mawait\u001b[39;00m \u001b[38;5;28mself\u001b[39m\u001b[38;5;241m.\u001b[39mFeed()\n\u001b[1;32m    211\u001b[0m     logme\u001b[38;5;241m.\u001b[39mdebug(\u001b[38;5;18m__name__\u001b[39m \u001b[38;5;241m+\u001b[39m \u001b[38;5;124m'\u001b[39m\u001b[38;5;124m:Twint:profile\u001b[39m\u001b[38;5;124m'\u001b[39m)\n\u001b[1;32m    212\u001b[0m     \u001b[38;5;28;01mfor\u001b[39;00m tweet \u001b[38;5;129;01min\u001b[39;00m \u001b[38;5;28mself\u001b[39m\u001b[38;5;241m.\u001b[39mfeed:\n",
      "File \u001b[0;32m~/dev/sma/project/.venv/lib/python3.10/site-packages/twint/run.py:62\u001b[0m, in \u001b[0;36mTwint.Feed\u001b[0;34m(self)\u001b[0m\n\u001b[1;32m     59\u001b[0m \u001b[38;5;28;01mwhile\u001b[39;00m \u001b[38;5;28;01mTrue\u001b[39;00m:\n\u001b[1;32m     60\u001b[0m     \u001b[38;5;66;03m# this will receive a JSON string, parse it into a `dict` and do the required stuff\u001b[39;00m\n\u001b[1;32m     61\u001b[0m     \u001b[38;5;28;01mtry\u001b[39;00m:\n\u001b[0;32m---> 62\u001b[0m         response \u001b[38;5;241m=\u001b[39m \u001b[38;5;28;01mawait\u001b[39;00m get\u001b[38;5;241m.\u001b[39mRequestUrl(\u001b[38;5;28mself\u001b[39m\u001b[38;5;241m.\u001b[39mconfig, \u001b[38;5;28mself\u001b[39m\u001b[38;5;241m.\u001b[39minit)\n\u001b[1;32m     63\u001b[0m     \u001b[38;5;28;01mexcept\u001b[39;00m TokenExpiryException \u001b[38;5;28;01mas\u001b[39;00m e:\n\u001b[1;32m     64\u001b[0m         logme\u001b[38;5;241m.\u001b[39mdebug(\u001b[38;5;18m__name__\u001b[39m \u001b[38;5;241m+\u001b[39m \u001b[38;5;124m'\u001b[39m\u001b[38;5;124mTwint:Feed:\u001b[39m\u001b[38;5;124m'\u001b[39m \u001b[38;5;241m+\u001b[39m \u001b[38;5;28mstr\u001b[39m(e))\n",
      "File \u001b[0;32m~/dev/sma/project/.venv/lib/python3.10/site-packages/twint/get.py:135\u001b[0m, in \u001b[0;36mRequestUrl\u001b[0;34m(config, init)\u001b[0m\n\u001b[1;32m    132\u001b[0m         _url \u001b[38;5;241m=\u001b[39m \u001b[38;5;28;01mawait\u001b[39;00m url\u001b[38;5;241m.\u001b[39mFavorites(config\u001b[38;5;241m.\u001b[39mUsername, init)\n\u001b[1;32m    133\u001b[0m     _serialQuery \u001b[38;5;241m=\u001b[39m _url\n\u001b[0;32m--> 135\u001b[0m response \u001b[38;5;241m=\u001b[39m \u001b[38;5;28;01mawait\u001b[39;00m Request(_url, params\u001b[38;5;241m=\u001b[39mparams, connector\u001b[38;5;241m=\u001b[39m_connector, headers\u001b[38;5;241m=\u001b[39m_headers)\n\u001b[1;32m    137\u001b[0m \u001b[38;5;28;01mif\u001b[39;00m config\u001b[38;5;241m.\u001b[39mDebug:\n\u001b[1;32m    138\u001b[0m     \u001b[38;5;28mprint\u001b[39m(_serialQuery, file\u001b[38;5;241m=\u001b[39m\u001b[38;5;28mopen\u001b[39m(\u001b[38;5;124m\"\u001b[39m\u001b[38;5;124mtwint-request_urls.log\u001b[39m\u001b[38;5;124m\"\u001b[39m, \u001b[38;5;124m\"\u001b[39m\u001b[38;5;124ma\u001b[39m\u001b[38;5;124m\"\u001b[39m, encoding\u001b[38;5;241m=\u001b[39m\u001b[38;5;124m\"\u001b[39m\u001b[38;5;124mutf-8\u001b[39m\u001b[38;5;124m\"\u001b[39m))\n",
      "File \u001b[0;32m~/dev/sma/project/.venv/lib/python3.10/site-packages/twint/get.py:161\u001b[0m, in \u001b[0;36mRequest\u001b[0;34m(_url, connector, params, headers)\u001b[0m\n\u001b[1;32m    159\u001b[0m logme\u001b[38;5;241m.\u001b[39mdebug(\u001b[38;5;18m__name__\u001b[39m \u001b[38;5;241m+\u001b[39m \u001b[38;5;124m'\u001b[39m\u001b[38;5;124m:Request:Connector\u001b[39m\u001b[38;5;124m'\u001b[39m)\n\u001b[1;32m    160\u001b[0m \u001b[38;5;28;01masync\u001b[39;00m \u001b[38;5;28;01mwith\u001b[39;00m aiohttp\u001b[38;5;241m.\u001b[39mClientSession(connector\u001b[38;5;241m=\u001b[39mconnector, headers\u001b[38;5;241m=\u001b[39mheaders) \u001b[38;5;28;01mas\u001b[39;00m session:\n\u001b[0;32m--> 161\u001b[0m     \u001b[38;5;28;01mreturn\u001b[39;00m \u001b[38;5;28;01mawait\u001b[39;00m Response(session, _url, params)\n",
      "File \u001b[0;32m~/dev/sma/project/.venv/lib/python3.10/site-packages/twint/get.py:170\u001b[0m, in \u001b[0;36mResponse\u001b[0;34m(session, _url, params)\u001b[0m\n\u001b[1;32m    168\u001b[0m resp \u001b[38;5;241m=\u001b[39m \u001b[38;5;28;01mawait\u001b[39;00m response\u001b[38;5;241m.\u001b[39mtext()\n\u001b[1;32m    169\u001b[0m \u001b[38;5;28;01mif\u001b[39;00m response\u001b[38;5;241m.\u001b[39mstatus \u001b[38;5;241m==\u001b[39m \u001b[38;5;241m429\u001b[39m:  \u001b[38;5;66;03m# 429 implies Too many requests i.e. Rate Limit Exceeded\u001b[39;00m\n\u001b[0;32m--> 170\u001b[0m     \u001b[38;5;28;01mraise\u001b[39;00m TokenExpiryException(\u001b[43mloads\u001b[49m\u001b[43m(\u001b[49m\u001b[43mresp\u001b[49m\u001b[43m)\u001b[49m[\u001b[38;5;124m'\u001b[39m\u001b[38;5;124merrors\u001b[39m\u001b[38;5;124m'\u001b[39m][\u001b[38;5;241m0\u001b[39m][\u001b[38;5;124m'\u001b[39m\u001b[38;5;124mmessage\u001b[39m\u001b[38;5;124m'\u001b[39m])\n\u001b[1;32m    171\u001b[0m \u001b[38;5;28;01mreturn\u001b[39;00m resp\n",
      "File \u001b[0;32m~/.tools/pyenv/versions/3.10.2/lib/python3.10/json/__init__.py:346\u001b[0m, in \u001b[0;36mloads\u001b[0;34m(s, cls, object_hook, parse_float, parse_int, parse_constant, object_pairs_hook, **kw)\u001b[0m\n\u001b[1;32m    341\u001b[0m     s \u001b[38;5;241m=\u001b[39m s\u001b[38;5;241m.\u001b[39mdecode(detect_encoding(s), \u001b[38;5;124m'\u001b[39m\u001b[38;5;124msurrogatepass\u001b[39m\u001b[38;5;124m'\u001b[39m)\n\u001b[1;32m    343\u001b[0m \u001b[38;5;28;01mif\u001b[39;00m (\u001b[38;5;28mcls\u001b[39m \u001b[38;5;129;01mis\u001b[39;00m \u001b[38;5;28;01mNone\u001b[39;00m \u001b[38;5;129;01mand\u001b[39;00m object_hook \u001b[38;5;129;01mis\u001b[39;00m \u001b[38;5;28;01mNone\u001b[39;00m \u001b[38;5;129;01mand\u001b[39;00m\n\u001b[1;32m    344\u001b[0m         parse_int \u001b[38;5;129;01mis\u001b[39;00m \u001b[38;5;28;01mNone\u001b[39;00m \u001b[38;5;129;01mand\u001b[39;00m parse_float \u001b[38;5;129;01mis\u001b[39;00m \u001b[38;5;28;01mNone\u001b[39;00m \u001b[38;5;129;01mand\u001b[39;00m\n\u001b[1;32m    345\u001b[0m         parse_constant \u001b[38;5;129;01mis\u001b[39;00m \u001b[38;5;28;01mNone\u001b[39;00m \u001b[38;5;129;01mand\u001b[39;00m object_pairs_hook \u001b[38;5;129;01mis\u001b[39;00m \u001b[38;5;28;01mNone\u001b[39;00m \u001b[38;5;129;01mand\u001b[39;00m \u001b[38;5;129;01mnot\u001b[39;00m kw):\n\u001b[0;32m--> 346\u001b[0m     \u001b[38;5;28;01mreturn\u001b[39;00m \u001b[43m_default_decoder\u001b[49m\u001b[38;5;241;43m.\u001b[39;49m\u001b[43mdecode\u001b[49m\u001b[43m(\u001b[49m\u001b[43ms\u001b[49m\u001b[43m)\u001b[49m\n\u001b[1;32m    347\u001b[0m \u001b[38;5;28;01mif\u001b[39;00m \u001b[38;5;28mcls\u001b[39m \u001b[38;5;129;01mis\u001b[39;00m \u001b[38;5;28;01mNone\u001b[39;00m:\n\u001b[1;32m    348\u001b[0m     \u001b[38;5;28mcls\u001b[39m \u001b[38;5;241m=\u001b[39m JSONDecoder\n",
      "File \u001b[0;32m~/.tools/pyenv/versions/3.10.2/lib/python3.10/json/decoder.py:337\u001b[0m, in \u001b[0;36mJSONDecoder.decode\u001b[0;34m(self, s, _w)\u001b[0m\n\u001b[1;32m    332\u001b[0m \u001b[38;5;28;01mdef\u001b[39;00m \u001b[38;5;21mdecode\u001b[39m(\u001b[38;5;28mself\u001b[39m, s, _w\u001b[38;5;241m=\u001b[39mWHITESPACE\u001b[38;5;241m.\u001b[39mmatch):\n\u001b[1;32m    333\u001b[0m     \u001b[38;5;124;03m\"\"\"Return the Python representation of ``s`` (a ``str`` instance\u001b[39;00m\n\u001b[1;32m    334\u001b[0m \u001b[38;5;124;03m    containing a JSON document).\u001b[39;00m\n\u001b[1;32m    335\u001b[0m \n\u001b[1;32m    336\u001b[0m \u001b[38;5;124;03m    \"\"\"\u001b[39;00m\n\u001b[0;32m--> 337\u001b[0m     obj, end \u001b[38;5;241m=\u001b[39m \u001b[38;5;28;43mself\u001b[39;49m\u001b[38;5;241;43m.\u001b[39;49m\u001b[43mraw_decode\u001b[49m\u001b[43m(\u001b[49m\u001b[43ms\u001b[49m\u001b[43m,\u001b[49m\u001b[43m \u001b[49m\u001b[43midx\u001b[49m\u001b[38;5;241;43m=\u001b[39;49m\u001b[43m_w\u001b[49m\u001b[43m(\u001b[49m\u001b[43ms\u001b[49m\u001b[43m,\u001b[49m\u001b[43m \u001b[49m\u001b[38;5;241;43m0\u001b[39;49m\u001b[43m)\u001b[49m\u001b[38;5;241;43m.\u001b[39;49m\u001b[43mend\u001b[49m\u001b[43m(\u001b[49m\u001b[43m)\u001b[49m\u001b[43m)\u001b[49m\n\u001b[1;32m    338\u001b[0m     end \u001b[38;5;241m=\u001b[39m _w(s, end)\u001b[38;5;241m.\u001b[39mend()\n\u001b[1;32m    339\u001b[0m     \u001b[38;5;28;01mif\u001b[39;00m end \u001b[38;5;241m!=\u001b[39m \u001b[38;5;28mlen\u001b[39m(s):\n",
      "File \u001b[0;32m~/.tools/pyenv/versions/3.10.2/lib/python3.10/json/decoder.py:355\u001b[0m, in \u001b[0;36mJSONDecoder.raw_decode\u001b[0;34m(self, s, idx)\u001b[0m\n\u001b[1;32m    353\u001b[0m     obj, end \u001b[38;5;241m=\u001b[39m \u001b[38;5;28mself\u001b[39m\u001b[38;5;241m.\u001b[39mscan_once(s, idx)\n\u001b[1;32m    354\u001b[0m \u001b[38;5;28;01mexcept\u001b[39;00m \u001b[38;5;167;01mStopIteration\u001b[39;00m \u001b[38;5;28;01mas\u001b[39;00m err:\n\u001b[0;32m--> 355\u001b[0m     \u001b[38;5;28;01mraise\u001b[39;00m JSONDecodeError(\u001b[38;5;124m\"\u001b[39m\u001b[38;5;124mExpecting value\u001b[39m\u001b[38;5;124m\"\u001b[39m, s, err\u001b[38;5;241m.\u001b[39mvalue) \u001b[38;5;28;01mfrom\u001b[39;00m \u001b[38;5;28mNone\u001b[39m\n\u001b[1;32m    356\u001b[0m \u001b[38;5;28;01mreturn\u001b[39;00m obj, end\n",
      "\u001b[0;31mJSONDecodeError\u001b[0m: Expecting value: line 1 column 1 (char 0)"
     ]
    }
   ],
   "source": [
    "import twint\n",
    "\n",
    "c = twint.Config()\n",
    "c.Username = \"chixishin\"\n",
    "c.Limit = 1000\n",
    "c.Since = \"2015-12-20\"\n",
    "c.Retries_count = 1000\n",
    "\n",
    "twint.run.Profile(c)"
   ]
  },
  {
   "cell_type": "code",
   "execution_count": 11,
   "id": "6ee64da9",
   "metadata": {},
   "outputs": [
    {
     "name": "stderr",
     "output_type": "stream",
     "text": [
      "CRITICAL:root:twint.feed:Follow:IndexError\n"
     ]
    }
   ],
   "source": [
    "import twint\n",
    "\n",
    "c = twint.Config()\n",
    "c.Username = \"chixishin\"\n",
    "c.User_full = True\n",
    "\n",
    "twint.run.Followers(c)"
   ]
  }
 ],
 "metadata": {
  "kernelspec": {
   "display_name": "Python 3 (ipykernel)",
   "language": "python",
   "name": "python3"
  },
  "language_info": {
   "codemirror_mode": {
    "name": "ipython",
    "version": 3
   },
   "file_extension": ".py",
   "mimetype": "text/x-python",
   "name": "python",
   "nbconvert_exporter": "python",
   "pygments_lexer": "ipython3",
   "version": "3.10.2"
  }
 },
 "nbformat": 4,
 "nbformat_minor": 5
}
