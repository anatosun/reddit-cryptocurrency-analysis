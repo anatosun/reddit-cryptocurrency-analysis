{
  "nbformat": 4,
  "nbformat_minor": 0,
  "metadata": {
    "kernelspec": {
      "display_name": "Python 3",
      "language": "python",
      "name": "python3"
    },
    "language_info": {
      "codemirror_mode": {
        "name": "ipython",
        "version": 3
      },
      "file_extension": ".py",
      "mimetype": "text/x-python",
      "name": "python",
      "nbconvert_exporter": "python",
      "pygments_lexer": "ipython3",
      "version": "3.6.9"
    },
    "colab": {
      "name": "assignment_11_(1).ipynb",
      "provenance": [],
      "collapsed_sections": []
    }
  },
  "cells": [
    {
      "cell_type": "markdown",
      "metadata": {
        "id": "sBfC9IdkrK8a",
        "colab_type": "text"
      },
      "source": [
        "Please fill in your name and that of your teammate.\n",
        "\n",
        "You: Hans Andrea Danuser\n",
        "\n",
        "Teammate: Andrea Tettamanti"
      ]
    },
    {
      "cell_type": "markdown",
      "metadata": {
        "id": "55ChNjMKrK8b",
        "colab_type": "text"
      },
      "source": [
        "# Introduction"
      ]
    },
    {
      "cell_type": "markdown",
      "metadata": {
        "id": "Ag02RQutrK8b",
        "colab_type": "text"
      },
      "source": [
        "Welcome to the eleventh lab. Deep Learning takes the already complex topic of Neural Networks and turns it up a notch. Several notches, in fact. It's hard to find an exercise that would fit in a single assignment, let alone a set of exercises for all of these topics.\n",
        "\n",
        "In pursue of the goal of this course (to arm you for further study), this lab gets you to practice a few bases, while providing several pointers to delve deeper. The required questions may be lighter than you expect by now: this should leave you time to explore the bonus questions and extra material. All of the mentioned links are worthy pursuing, so if any catches your attention you should go ahead and check it out, we got you covered."
      ]
    },
    {
      "cell_type": "markdown",
      "metadata": {
        "id": "NVuMLRuNrK8c",
        "colab_type": "text"
      },
      "source": [
        "### How to pass the lab?"
      ]
    },
    {
      "cell_type": "markdown",
      "metadata": {
        "id": "uhjvZPbWrK8d",
        "colab_type": "text"
      },
      "source": [
        "Below you find the exercise questions. Each question awarding points is numbered and states the number of points like this: **[0pt]**. To answer a question, fill the cell below with your answer (markdown for text, code for implementation). Incorrect or incomplete answers are in principle worth 0 points: to assign partial reward is only up to teacher discretion. Over-complete answers do not award extra points (though they are appreciated and will be kept under consideration). Save your work frequently! (`ctrl+s`)\n",
        "\n",
        "**You need at least 12 points (out of 18 available) to pass** (66%)."
      ]
    },
    {
      "cell_type": "markdown",
      "metadata": {
        "id": "TJLLJyEBrK8d",
        "colab_type": "text"
      },
      "source": [
        "# 1. History and implementations"
      ]
    },
    {
      "cell_type": "markdown",
      "metadata": {
        "id": "T4Q7_NNprK8e",
        "colab_type": "text"
      },
      "source": [
        "#### 1.1 **[1pt]** Mention 3 reasons why DL did not happen 30 years ago."
      ]
    },
    {
      "cell_type": "markdown",
      "metadata": {
        "id": "go-T1tWdrK8e",
        "colab_type": "text"
      },
      "source": [
        "The first reason is that the researcher working in the field in the beginning of the second part of the twentieth century overestimated the power of basic tecniques such as the Perceptron. This led goverments to invest large amount of money in research projects whose objective was to solve problem which were unrealistically hard to solve using basic architectures. A lack of founding and advancement in the field of articificial intelligence followed the failure of those projects.\n",
        "\n",
        "Another reason is the tecnical difficulties associeted with DL. The computing power and the memory of computers in the nineties simply weren't sufficient to train a DL model.\n",
        "\n",
        "\n",
        "A further cause for the late development of DL was the lack of data.\n",
        "In 2016 it has been measure that 90% of the total data available at the time was created in the previous two years. Deep Learning models are used to solve complex problem and the amount of data use to train a model should be proportional to the problem complexity. Thirty years ago there wasn't enough data to train a DL model."
      ]
    },
    {
      "cell_type": "markdown",
      "metadata": {
        "id": "zUWy_lu9rK8e",
        "colab_type": "text"
      },
      "source": [
        "#### 1.2 **[1pt]** Explain the main pros/cons of GPU vs. CPU"
      ]
    },
    {
      "cell_type": "markdown",
      "metadata": {
        "id": "enhxSujwrK8f",
        "colab_type": "text"
      },
      "source": [
        "GPUs are designed for performing parallel computation, having thousands of simple cores which allow for thousands of operations at once. Because of this GPUs are particularly efficient at computing any kind of operation which can be parallelized, such as matrix multiplication. CPUs have a much greater clock rate, but don't support parallelism nearly as much as GPUs. The higher clock rate makes CPUs fast at performing a wide range of operations.\n"
      ]
    },
    {
      "cell_type": "markdown",
      "metadata": {
        "id": "wNRRyRdZrK8f",
        "colab_type": "text"
      },
      "source": [
        "#### 1.3 **[1pt]** How do you implement Model Quantization? What are the advantages?"
      ]
    },
    {
      "cell_type": "markdown",
      "metadata": {
        "id": "yQkmTiAJrK8g",
        "colab_type": "text"
      },
      "source": [
        "Model Quantization is an optimization tecnique used in NNs. The basic idea is to shorten the size of the weights after training in order to save memory. The advantages are the smaller size of the model and an improvement in speed, at the cost of a loss in accuracy. There are several ways to decrease the size of the weights, some of which mitigate the loss in accuracy better than others."
      ]
    },
    {
      "cell_type": "markdown",
      "metadata": {
        "id": "FW1VWi33rK8g",
        "colab_type": "text"
      },
      "source": [
        "# 2. Word Embeddings"
      ]
    },
    {
      "cell_type": "markdown",
      "metadata": {
        "id": "OLQe6VmPrK8h",
        "colab_type": "text"
      },
      "source": [
        "#### 2.1 **[2pt]** Explain in English the meaning of `emb[king] - emb[man] + emb[woman] ~= emb[queen]`."
      ]
    },
    {
      "cell_type": "markdown",
      "metadata": {
        "id": "SBl9uuCnrK8h",
        "colab_type": "text"
      },
      "source": [
        "It is like a gender swap. If you have the embedded word for woman you can add the diffrence of the male counterpart and get to queen. this works since the concept of king and queen only differs in their gender. we could also rearange the equation to `emb[king] - emb[man] ~= emb[queen] - emb[woman]`. This would now mean that king and queen are essentially the same without gender. We coulkd even make `emb[king] - emb[man] ~= emb[ruler] ~= emb[queen] - emb[woman]`. It means that there exist a pattern in the embedded space, which connect similar words to each other."
      ]
    },
    {
      "cell_type": "markdown",
      "metadata": {
        "id": "iDHbLebwrK8i",
        "colab_type": "text"
      },
      "source": [
        "#### 2.2 **[1pt]** What is the shape of the weight matrix associated to the hidden layer of the skip-gram model, if the vocabulary is composed by 10,000 words with a hidden layer of 300 neurons? Explain your reasoning."
      ]
    },
    {
      "cell_type": "markdown",
      "metadata": {
        "id": "iHuh0J8VrK8i",
        "colab_type": "text"
      },
      "source": [
        "10'000 x 300 if we assume a fully connected network. There are 300 neurons in the hidden layer connected to each neuron in the outputlayer. Hence the weight matrix associated to the hidden layer consists of 300 coloumns, where each coloumn represents the weight between the neuron in the hidden layer and one neuron in the output layer. Since we have 10'000 different neurons in the output layer, there are also 10'000 rows. Which gets us to the 10'000 x 300 matrix.\n",
        "\n"
      ]
    },
    {
      "cell_type": "markdown",
      "metadata": {
        "id": "4rvqw5CarK8j",
        "colab_type": "text"
      },
      "source": [
        "# 3. Long Short-Term Memory"
      ]
    },
    {
      "cell_type": "markdown",
      "metadata": {
        "id": "uD4a0UnjrK8j",
        "colab_type": "text"
      },
      "source": [
        "#### 3.1 **[3pt]** Implement with Keras a neural network with one LSTM layer and one Dense (decision, output) layer to predict the next number in a sequence.\n",
        "\n",
        "- Generate a dataset from a simple sequence using `gen_dataset()` below. Play with it and print it to understand how it works. Basically, it generates a sequence of multiples of ten, then prepares subsequences of fixed size `x` paired with the next number in the sequence `y`.\n",
        "- Define a model using Sequential, then add an LSTM layer. You can start with 20 neurons, remember to pass `input_shape` because this is your first layer (you saw this last week with the first convolution layer).\n",
        "- For a shallow network, it is better if the LSTM layer uses activations supporting regression, such as `linear` or Rectified Linear Unit ([ReLU](https://machinelearningmastery.com/rectified-linear-activation-function-for-deep-learning-neural-networks/)).\n",
        "- The next layer needs to squeeze the LSTM processing into a single-digit decision. How many neurons you need for this? Which activation function will you choose for the output of this regression problem?\n",
        "- Next you need to compile, and for practical reasons I suggest you use the [Adam optimizer](https://keras.io/optimizers/#adam) (explained [here](https://machinelearningmastery.com/adam-optimization-algorithm-for-deep-learning/)) instead of good _old_ SGD. I use a learning rate of `1e-3` The MSE loss still works.\n",
        "- Finally you can fit it. On my machine 100 epochs don't take long, and I use `verbose=0` to avoid the long output."
      ]
    },
    {
      "cell_type": "code",
      "metadata": {
        "id": "t3PH26_XrR3-",
        "colab_type": "code",
        "colab": {
          "base_uri": "https://localhost:8080/",
          "height": 71
        },
        "outputId": "657af6d2-8d69-4827-ff7e-9ebe61d420d2"
      },
      "source": [
        "%matplotlib inline\n",
        "import matplotlib.pyplot as plt\n",
        "import seaborn as sns\n",
        "import numpy as np\n",
        "import pandas as pd\n",
        "import math\n",
        "sns.set(rc={'figure.figsize':(8,6)}, style=\"whitegrid\")"
      ],
      "execution_count": 6,
      "outputs": [
        {
          "output_type": "stream",
          "text": [
            "/usr/local/lib/python3.6/dist-packages/statsmodels/tools/_testing.py:19: FutureWarning: pandas.util.testing is deprecated. Use the functions in the public API at pandas.testing instead.\n",
            "  import pandas.util.testing as tm\n"
          ],
          "name": "stderr"
        }
      ]
    },
    {
      "cell_type": "code",
      "metadata": {
        "id": "3DzXVftzrK8k",
        "colab_type": "code",
        "colab": {}
      },
      "source": [
        "import numpy as np\n",
        "\n",
        "# Let's predict data from a simple linear `y=10x` for starters\n",
        "sequence = list(range(10, 500, 10))    # this will *exclude* 500\n",
        "# We use a simple sliding window of size 3 and predict each 4th\n",
        "test_x, test_y = [470, 480, 490], 500  # so we can use 500 for testing\n",
        "\n",
        "# params: original data sequence, size of sliding window\n",
        "def gen_dataset(sequence=sequence, win_size=len(test_x)):\n",
        "    # I use a sequence of generators with different starting points\n",
        "    gen_x = [sequence[start:-1] for start in range(win_size)]\n",
        "    x = np.array(list(zip(*gen_x))) # then I simply zip them. Can you understand this?\n",
        "    y = np.array(sequence[win_size:])\n",
        "    x = x.reshape((*x.shape,1)) # Keras requires the \"color channels\" dimension\n",
        "    return x, y\n",
        "\n",
        "# Let's not forget to reshape this too\n",
        "test_x = np.array(test_x).reshape(1,len(test_x),1)\n",
        "test_y = np.array([test_y])"
      ],
      "execution_count": null,
      "outputs": []
    },
    {
      "cell_type": "code",
      "metadata": {
        "id": "I4UdDDSFr2VZ",
        "colab_type": "code",
        "colab": {
          "base_uri": "https://localhost:8080/",
          "height": 34
        },
        "outputId": "e36a9e68-9800-4d29-a603-aef7d669ed04"
      },
      "source": [
        "x_train, y_train = gen_dataset()\n",
        "test_y"
      ],
      "execution_count": null,
      "outputs": [
        {
          "output_type": "execute_result",
          "data": {
            "text/plain": [
              "array([500])"
            ]
          },
          "metadata": {
            "tags": []
          },
          "execution_count": 4
        }
      ]
    },
    {
      "cell_type": "code",
      "metadata": {
        "id": "JCQYc681rK8n",
        "colab_type": "code",
        "colab": {
          "base_uri": "https://localhost:8080/",
          "height": 51
        },
        "outputId": "c68396ef-8885-427d-eacf-9e25d4ad957e"
      },
      "source": [
        "import keras\n",
        "from keras.models import Sequential\n",
        "from keras.layers import Dense\n",
        "from keras.layers import LSTM\n",
        "\n",
        "input_shape = 3\n",
        "\n",
        "model = Sequential()\n",
        "model.add(LSTM(20, activation=\"relu\", input_shape=(3, 1)))\n",
        "model.add(Dense(1, activation='linear'))\n",
        "\n",
        "model.compile(loss='mean_squared_error',\n",
        "              optimizer=keras.optimizers.Adamax(learning_rate= 1e-3),\n",
        "              metrics=['accuracy'])\n",
        "#didnt work with epoch 100, only worked with a lot more\n",
        "model.fit(x_train, y_train,\n",
        "          epochs=1000, \n",
        "          verbose=0,\n",
        "          validation_data=(test_x, test_y))\n",
        "\n",
        "score = model.evaluate(test_x, test_y, verbose=0)\n",
        "\n",
        "print('Test loss:', score[0])\n",
        "print('Test accuracy:', score[1])"
      ],
      "execution_count": null,
      "outputs": [
        {
          "output_type": "stream",
          "text": [
            "Test loss: 0.2785100042819977\n",
            "Test accuracy: 0.0\n"
          ],
          "name": "stdout"
        }
      ]
    },
    {
      "cell_type": "markdown",
      "metadata": {
        "id": "QjOa5aTqrK8p",
        "colab_type": "text"
      },
      "source": [
        "#### 3.2 **[2pt]** Change the model to use two LSTM layers instead of one, of 50 neurons each and ReLU activation, plus of course the output linear layer Dense. Visualize the model's accuracy and loss over time.\n",
        "\n",
        "- The first LSTM needs to pass a whole input sequence to the next one for a stack of LSTM to work, you need to use the `return_sequences` parameter.\n",
        "- Again copy & paste here works well. Here are some SE rules of thumb that maybe are less obvious/known than I expected:\n",
        "    - If you do something once, rough is ok.\n",
        "    - If you do it twice, copy+paste is ok.\n",
        "    - If you do it 3 times, it's time to write a function, the first 2 cases will tell you which parts are fixed and which parameters you need. Clean it up a bit.\n",
        "    - If you call something a lot (e.g. more than 5 times), you better make it readable, refactor names, create classes, and add documentation.\n",
        "    - You _never_ optimize \"by eye\", or just because \"you know how to do it\": when the program feels slow you run a profiler, and you optimize the objectively slowest part, then repeat until it's fast enough.\n",
        "    - You _never_ add infrastructure because it's the right thing to do, aim at elegance and readability instead, and rather avoid using languages that require early structure or are hard to refactor. E.g. C++ you need a distructor from the beginning, Python instead you can keep writing script until you _need_ a class. Important: don't script because lazy and less work, script to make it more compact and readable, and if you need a class invest some time into designing it on paper before writing it.\n",
        "- Remember that to visualize performance you need to compile with a metric, train with a validation split, and save the training history in a variable.\n",
        "- You have more neurons to train, and specifically one extra layer, so training for more epochs is a good idea. You can also generate more data if you like."
      ]
    },
    {
      "cell_type": "code",
      "metadata": {
        "id": "dQGRT9CPrK8p",
        "colab_type": "code",
        "colab": {
          "base_uri": "https://localhost:8080/",
          "height": 837
        },
        "outputId": "71be1d40-9953-482f-d9c5-549cd8dc96b5"
      },
      "source": [
        "import keras\n",
        "from keras.models import Sequential\n",
        "from keras.layers import Dense\n",
        "from keras.layers import LSTM\n",
        "\n",
        "input_shape = 3\n",
        "\n",
        "style = Sequential()\n",
        "style.add(LSTM(50, activation=\"relu\", input_shape=(3, 1), return_sequences=True))\n",
        "style.add(LSTM(50, activation=\"relu\"))\n",
        "style.add(Dense(1, activation='linear'))\n",
        "\n",
        "style.compile(loss='mean_squared_error',\n",
        "              optimizer=keras.optimizers.Adamax(learning_rate= 1e-3),\n",
        "              metrics=['accuracy'])\n",
        "# Didn't work with epoch 100, only worked with a lot more. (One can see in the graphs that epoch 100 is the critical point. \n",
        "# One could conlude we need at least about 125 epochs)\n",
        "history = style.fit(x_train, y_train,\n",
        "          epochs=200, \n",
        "          verbose=0,\n",
        "          validation_data=(test_x, test_y))\n",
        "\n",
        "score = style.evaluate(test_x, test_y, verbose=0)\n",
        "\n",
        "for idx, metric in enumerate(['accuracy','loss']):\n",
        "  plt.figure(idx)\n",
        "  plt.plot(history.history[metric])\n",
        "  plt.plot(history.history['val_'+ metric])\n",
        "  plt.title('Model'+ metric)\n",
        "  plt.ylabel(metric.capitalize())\n",
        "  plt.xlabel('Epoch')\n",
        "  plt.legend(['Train','Test'], loc='upper left')\n",
        "\n",
        "print('Test loss:', score[0])\n",
        "print('Test accuracy:', score[1])"
      ],
      "execution_count": null,
      "outputs": [
        {
          "output_type": "stream",
          "text": [
            "Test loss: 0.058020882308483124\n",
            "Test accuracy: 1.0\n"
          ],
          "name": "stdout"
        },
        {
          "output_type": "display_data",
          "data": {
            "image/png": "[encoded data removed]",
            "text/plain": [
              "<Figure size 576x432 with 1 Axes>"
            ]
          },
          "metadata": {
            "tags": []
          }
        },
        {
          "output_type": "display_data",
          "data": {
            "image/png": "[encoded data removed]",
            "text/plain": [
              "<Figure size 576x432 with 1 Axes>"
            ]
          },
          "metadata": {
            "tags": []
          }
        }
      ]
    },
    {
      "cell_type": "markdown",
      "metadata": {
        "id": "ibpPodyyrK8s",
        "colab_type": "text"
      },
      "source": [
        "#### BONUS **[ZERO pt]** Change the data generated to something a bit more challenging than `y=10x`, e.g. a sinusoid wave or something else nonlinear and more complex. Run your code again and you should see a difference of performance between single and double LSTM layers. Remember that the network structure is only an upper bound for the function complexity."
      ]
    },
    {
      "cell_type": "markdown",
      "metadata": {
        "id": "jXONmJuwrK8t",
        "colab_type": "text"
      },
      "source": [
        "# 4. Deep Convolutional Neural Networks"
      ]
    },
    {
      "cell_type": "markdown",
      "metadata": {
        "id": "3SxYITe7rK8t",
        "colab_type": "text"
      },
      "source": [
        "#### 4.1 **[1pt]** Explain the meme on slide 16: what happens when the input $Wx+b$ to the ReLU activation is $\\lt 0$?"
      ]
    },
    {
      "cell_type": "markdown",
      "metadata": {
        "id": "8qlkEzc7rK8t",
        "colab_type": "text"
      },
      "source": [
        "If the imput $Wx+b<0$ gets passed to the activation function relu in the next layer, the relu function will correct everything to 0, which means that all the data will be lost."
      ]
    },
    {
      "cell_type": "markdown",
      "metadata": {
        "id": "BjSxOBtgrK8u",
        "colab_type": "text"
      },
      "source": [
        "#### 4.2 **[2pt]** Calculate the dimension of the feature space of the third layer of LeNet-5 (16 filters, slide 34). Explain your reasoning.\n",
        "\n",
        "- Remember it uses Valid Convolution for padding.\n",
        "- The filter size is really $(5\\times5\\times6)$ since it takes all channels at a time.\n",
        "- The number of Filters is the number of neurons."
      ]
    },
    {
      "cell_type": "markdown",
      "metadata": {
        "id": "cZOwRv6hrK8u",
        "colab_type": "text"
      },
      "source": [
        "(10 x 10 x 16). Each of the 16 Filters has dimension (5 x 5 x 6). When applying one filter to a (14 x 14 x 6) matrix we get a 2D matrix with dinensions (10 x 10) because we have no padding. You phrased it: The size of the feature is reduced w.r.t. the input proportionally to the mask size (We loose 2 features of the x axis and 2 features of the y axis with a filtersize of (5 x 5 x 6) and all 6 features of the z axis get reduced to 1). We do this 16 times, so we end up with a (10 x 10 x 16) matrix. Its very hard to explain but would be very easy to show graphically."
      ]
    },
    {
      "cell_type": "markdown",
      "metadata": {
        "id": "RESA2ICdrK8v",
        "colab_type": "text"
      },
      "source": [
        "#### 4.3 **[4pt]** Write a Python function for 2D convolution that accepts as parameters (besides function and input) the window size, the stride, and a choice between two padding techniques.\n",
        "\n",
        "- You can start from the code from last week's question on convolution.\n",
        "- You can stick to square windows if you feel it's easier, though you may find it more natural to generalize to rectangular. Up to you.\n",
        "- We saw two padding techniques in today's lecture: Valid and Same. Same can be used only if the window size is odd (since you add 2*pad elements per row/column) and is computed without considering the stride. For example, with Same padding when we convolve a 6 x 6 matrix by using a 3 x 3 window with stride = 1 we get a 6 x 6 matrix (pad = 1), whereas, if we use stride = 2 we get a 3 x 3 matrix.\n",
        "- This function will be necessarily larger and more complex than last week's. Here are some steps you can follow:\n",
        "    - Assert the validity of the input. Any restriction you choose on (e.g. square input, square window, etc.) should go here.\n",
        "    - Compute the size of the padding, depending on the technique.\n",
        "    - Compute the size of the output, and allocate a numpy array to hold it.\n",
        "    - Pad the input as necessary before you convolve on it.\n",
        "    - Loop the convolution over rows and columns of the output.\n",
        "    - For each output row and column, construct the range accessors to the right input window.\n",
        "    - At the end, test different parameters to ensure you got it right.\n",
        "- Have a look at the Python integer (or 'floor') [division operator `//`](https://python-reference.readthedocs.io/en/latest/docs/operators/floor_division.html) if you didn't know it yet.\n",
        "- If you still feel you'd rather follow a guide/tutorial, have look at how they do this in [Tensorflow](https://www.tensorflow.org/api_docs/python/tf/nn/convolution)."
      ]
    },
    {
      "cell_type": "code",
      "metadata": {
        "id": "QDZw3CTWrK8v",
        "colab_type": "code",
        "colab": {
          "base_uri": "https://localhost:8080/",
          "height": 170
        },
        "outputId": "08bf0056-a09a-4c26-8928-918d053abf78"
      },
      "source": [
        "def convolve(f, inp, window=(3,3), stride=1, paddingtype='valid'):\n",
        "\n",
        "  assert all((\n",
        "      inp.shape[0] == inp.shape[1],\n",
        "      window[0] == window[1],\n",
        "      inp.shape[0] >= window[1],\n",
        "      stride >=1, type(stride) == int,\n",
        "      paddingtype in ('valid','same'),\n",
        "      (paddingtype != 'valid' or window[0] % 2 == 1), #assert padding valid or window is odd sized\n",
        "  )), \"wrong input\"\n",
        "\n",
        "  win_size, _ = window\n",
        "  inp_size, _ = inp.shape\n",
        "\n",
        "  if paddingtype == 'valid': padding = 0\n",
        "  elif paddingtype == 'same': padding = (win_size - 1)//2\n",
        "\n",
        "  output_size = (inp_size + 2 * padding - win_size) // (stride + 1)\n",
        "  output = np.empty((output_size, output_size), dtype='float32')\n",
        "  padded_inp = np.pad(inp, padding)\n",
        "\n",
        "  for row in range(output_size):\n",
        "    from_r = row * stride\n",
        "    to_r = row * stride + win_size #compute where to start the padding\n",
        "    for col in range(output_size):\n",
        "      from_c = col * stride\n",
        "      to_c = col * stride +  win_size\n",
        "      inp_window = padded_inp[from_r:to_r, from_c:to_c]\n",
        "      output[row, col] = fn(inp_window)\n",
        "  \n",
        "  return output\n",
        "\n",
        "fn = lambda x: x.sum()\n",
        "inp = np.random.uniform(size=[7,7])\n",
        "\n",
        "print(convolve(fn, inp, (7,7), 1, 'same'))\n",
        "print()\n",
        "print(convolve(fn, inp, (3,3), 1, 'valid'))\n",
        "print()\n",
        "print(convolve(fn, inp, (3,3), 2, 'same'))"
      ],
      "execution_count": 13,
      "outputs": [
        {
          "output_type": "stream",
          "text": [
            "[[ 7.083957  8.043501 10.400615]\n",
            " [ 9.149225 10.774067 13.396089]\n",
            " [11.273736 13.167449 16.0049  ]]\n",
            "\n",
            "[[3.478114  3.3660145]\n",
            " [3.3405623 3.6560602]]\n",
            "\n",
            "[[1.5935321 2.185142 ]\n",
            " [1.7831733 3.6560602]]\n"
          ],
          "name": "stdout"
        }
      ]
    },
    {
      "cell_type": "markdown",
      "metadata": {
        "id": "COXNN3MprK8x",
        "colab_type": "text"
      },
      "source": [
        "# 5. Generative Adversarial Networks"
      ]
    },
    {
      "cell_type": "markdown",
      "metadata": {
        "id": "9-F2c09vrK8y",
        "colab_type": "text"
      },
      "source": [
        "#### BONUS **[ZERO pt]** GANs are amazing tools and a great topic, but they are complex enough that implementing a decent example would require a lab by itself. So here is a [great tutorial](https://colab.research.google.com/github/tensorflow/gan/blob/master/tensorflow_gan/examples/colab_notebooks/tfgan_tutorial.ipynb), if you choose to play with it share your progress on Moodle and we'll support you!"
      ]
    },
    {
      "cell_type": "markdown",
      "metadata": {
        "id": "KgnGDyMDrK8y",
        "colab_type": "text"
      },
      "source": [
        "# At the end of the exercise"
      ]
    },
    {
      "cell_type": "markdown",
      "metadata": {
        "id": "4xBBAA9wrK8z",
        "colab_type": "text"
      },
      "source": [
        "Bonus question with no points! Answering this will have no influence on your scoring, not at the assignment and not towards the exam score -- really feel free to ignore it with no consequence. But solving it will reward you with skills that will make the next lectures easier, give you real applications, and will be good practice towards the exam.\n",
        "\n",
        "The solution for this questions will not be included in the regular lab solutions pdf, but you are welcome to open a discussion on the Moodle: we will support your addressing it, and you may meet other students that choose to solve this, and find a teammate for the next assignment that is willing to do things for fun and not only for score :)"
      ]
    },
    {
      "cell_type": "markdown",
      "metadata": {
        "id": "bvjYRNX1rK8z",
        "colab_type": "text"
      },
      "source": [
        "#### BONUS **[ZERO pt]** word embeddings are one of the most amazing discoveries in Natural Languages Processing of the last years. Follow [this tutorial](https://radimrehurek.com/gensim/auto_examples/tutorials/run_word2vec.html#sphx-glr-auto-examples-tutorials-run-word2vec-py) to learn how to use existing word embeddings (section \"Word2Vec Demo\") and test if the properties shown during the lecture hold. Then train your own word2vec model as described in section \"Training Your Own Model\"."
      ]
    },
    {
      "cell_type": "markdown",
      "metadata": {
        "id": "Z1Nk9npFrK8z",
        "colab_type": "text"
      },
      "source": [
        "#### BONUS **[ZERO pt]** You now know the basis for time series prediction using recurrent networks. Why don't you try your hand at predicting the evolution of the current COVID-19 situation? You can find the main data from JHU CSSE [here](https://github.com/CSSEGISandData/COVID-19), then the data for Switzerland [here](https://github.com/openZH/covid_19) (specifically Fribourg [here](https://github.com/openZH/covid_19/blob/master/fallzahlen_kanton_total_csv_v2/COVID19_Fallzahlen_Kanton_FR_total.csv)), some work from ETHZ [here](https://bsse.ethz.ch/cevo/research/sars-cov-2/real-time-monitoring-in-switzerland.html), and an example for advanced visualization [here](https://opensource.com/article/20/4/python-data-covid-19)."
      ]
    },
    {
      "cell_type": "markdown",
      "metadata": {
        "id": "w7twMu1VrK80",
        "colab_type": "text"
      },
      "source": [
        "### Final considerations"
      ]
    },
    {
      "cell_type": "markdown",
      "metadata": {
        "id": "U-LJvXaZrK80",
        "colab_type": "text"
      },
      "source": [
        "- You now know how to implement LSTMs with Keras, this is especially important as it allows you to tackle several Natural Language Processing tasks.\n",
        "- You've got a deeper understanding of convolutions and you should have noticed how things that appear to be small and easy, such as padding and striding, can actually become quite complex. For example, can we apply same padding with an filter of an even shape (e.g. 4 x 4, 6 x 6 etc.)? Can we pad such as even after using a stride > 1 we get a matrix with the same shape as the input? Would it make sense?"
      ]
    }
  ]
}