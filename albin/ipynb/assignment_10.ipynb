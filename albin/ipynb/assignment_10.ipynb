{
  "nbformat": 4,
  "nbformat_minor": 0,
  "metadata": {
    "kernelspec": {
      "display_name": "Python 3",
      "language": "python",
      "name": "python3"
    },
    "language_info": {
      "codemirror_mode": {
        "name": "ipython",
        "version": 3
      },
      "file_extension": ".py",
      "mimetype": "text/x-python",
      "name": "python",
      "nbconvert_exporter": "python",
      "pygments_lexer": "ipython3",
      "version": "3.6.9"
    },
    "colab": {
      "name": "assignment_10-2.ipynb",
      "provenance": [],
      "collapsed_sections": []
    }
  },
  "cells": [
    {
      "cell_type": "markdown",
      "metadata": {
        "id": "k8SQCXlXwehV",
        "colab_type": "text"
      },
      "source": [
        "Please fill in your name and that of your teammate.\n",
        "\n",
        "You: Albin Aliu\n",
        "\n",
        "Teammate: Christoph Jutzet"
      ]
    },
    {
      "cell_type": "markdown",
      "metadata": {
        "id": "PoIyxiDIwehX",
        "colab_type": "text"
      },
      "source": [
        "# Introduction"
      ]
    },
    {
      "cell_type": "markdown",
      "metadata": {
        "id": "XC6s4BqEwehY",
        "colab_type": "text"
      },
      "source": [
        "Welcome to the tenth lab. Neural networks are more a class of tools than a single tool, though the foundation you built last week should enable you to understand what is going on here without too much trouble.\n",
        "\n",
        "There is relatively little coding this week, which is unfortunate: we are starting to touch topics that require more than a lab's worth of practice to achieve basic proficiency. Rather than overloading you of work, this week we focus a bit more on foundations and give you time to study; then we should hit more interesting and fun applications over the next lectures with Deep Learning and Reinforcement Learning."
      ]
    },
    {
      "cell_type": "markdown",
      "metadata": {
        "id": "oDXoxNZ1wehZ",
        "colab_type": "text"
      },
      "source": [
        "### How to pass the lab?"
      ]
    },
    {
      "cell_type": "markdown",
      "metadata": {
        "id": "NSEe8OOxweha",
        "colab_type": "text"
      },
      "source": [
        "Below you find the exercise questions. Each question awarding points is numbered and states the number of points like this: **[0pt]**. To answer a question, fill the cell below with your answer (markdown for text, code for implementation). Incorrect or incomplete answers are in principle worth 0 points: to assign partial reward is only up to teacher discretion. Over-complete answers do not award extra points (though they are appreciated and will be kept under consideration). Save your work frequently! (`ctrl+s`)\n",
        "\n",
        "**You need at least 14 points (out of 21 available) to pass** (66%)."
      ]
    },
    {
      "cell_type": "markdown",
      "metadata": {
        "id": "GGuU983Jwehd",
        "colab_type": "text"
      },
      "source": [
        "# 1. Fundamentals"
      ]
    },
    {
      "cell_type": "markdown",
      "metadata": {
        "id": "y1G-fA8_wehe",
        "colab_type": "text"
      },
      "source": [
        "#### 1.1 **[1pt]** Explain in English what is the distinctive feature of a residual network."
      ]
    },
    {
      "cell_type": "markdown",
      "metadata": {
        "id": "g1aKcINNwehe",
        "colab_type": "text"
      },
      "source": [
        "As of my understanding, since the term distinctive feature is not used in the slides, a distinctiv featur consits of two features revieved as inputs from outputs of previous layers, where one is the rather elaborated feature and the second is a lower-abstraction feature. The first of those two features is called rather elaborated, since it does not skip the previous layer(i.e the ouput is more refined), other than the second one."
      ]
    },
    {
      "cell_type": "markdown",
      "metadata": {
        "id": "7bk8AnYkwehf",
        "colab_type": "text"
      },
      "source": [
        "#### 1.2 **[2pt]** Using the equation of the neural network seen last week, write the equation of a network with structure [1, 3, 2], same as last week, but add biases on all neurons, and self-recurrent connections on the hidden layer. How many weights does this network have?"
      ]
    },
    {
      "cell_type": "markdown",
      "metadata": {
        "id": "-sj-i7dGwehg",
        "colab_type": "text"
      },
      "source": [
        "\n",
        "\n",
        "$$ W_{in} = \n",
        "\\begin{pmatrix}\n",
        "w_1 & w_2 & w_3  \\\\ w_4 & w_5 & w_6  \\\\ w_7 & w_8 & w_9\n",
        "\\end{pmatrix}\n",
        "\\ ; \\ \n",
        "x = \n",
        "\\begin{pmatrix}\n",
        "x_1 = x_{1,t} \\\\ x_2 = y_{1,t-1}\\\\ x_3 =  y_{2,t-1} \n",
        "\\end{pmatrix}\n",
        "\\ ; \\\n",
        "W_{hid} = \n",
        "\\begin{pmatrix}\n",
        "w_{10} & w_{11} & w_{12} \\\\ w_{13} & w_{14} & w_{15}\n",
        "\\end{pmatrix}\n",
        "\\ ; \\ \n",
        "n_{hid} =\n",
        "\\begin{pmatrix}\n",
        "n_1 \\\\ n_2 \\\\ n_3 \n",
        "\\end{pmatrix}\n",
        "\\ ; \\ \n",
        "n_{out} =\n",
        "\\begin{pmatrix}\n",
        "n_4 \\\\ n_5\n",
        "\\end{pmatrix}\n",
        "$$\n",
        "\n",
        "\\\\\n",
        "\n",
        "$$ \n",
        "n_{hid} =\n",
        "\\begin{pmatrix}\n",
        "\\sigma(w_1x_1 + w_2x_2 + w_3x_3 + b_1) \\\\ \\sigma(w_4x_1 + w_5x_2 + w_6x_3 + b_2) \\\\ \\sigma(w_7x_1 + w_8x_2 + w_9x_3 + b_3)\n",
        "\\end{pmatrix}\n",
        "$$ \n",
        "\n",
        "\n",
        "$$ \n",
        "n_{out} =\n",
        "\\begin{pmatrix}\n",
        "\\sigma(w_{10}n_1 + w_{11}n_2 + w_{12}n_3 + b_4) \\\\ \\sigma(w_{13}n_1 + w_{14}n_2 + w_{15}n_3 + b_5)\n",
        "\\end{pmatrix}\n",
        "$$\n",
        "\n",
        "\\\\\n",
        "\n",
        " $$ act1 = n_4 = \\sigma [ w_{10} \\sigma(w_1x_1 + w_2x_2 + w_3x_3 + b_1) + w_{11} \\sigma(w_4x_1 + w_5x_2 + w_6x_3 + b_2) + w_{12}\\sigma(w_7x_1 + w_8x_2 + w_9x_3 + b_3) + b_4) ]$$ $$ act2 = n_5 = \\sigma [w_{13} \\sigma(w_1x_1 + w_2x_2 + w_3x_3 + b_1) + w_{14} \\sigma(w_4x_1 + w_5x_2 + w_6x_3 + b_2) + w_{15}\\sigma(w_7x_1 + w_8x_2 + w_9x_3+ b_3) + b_5)] $$   \n",
        "\n",
        "total amount of weights = 15 (= 9 + 2*3)"
      ]
    },
    {
      "cell_type": "markdown",
      "metadata": {
        "id": "3KX6eNOUwehh",
        "colab_type": "text"
      },
      "source": [
        "#### 1.3 **[2pt]** A neural network has only one layer of two convolutional neurons with identity activation and kernels $W_1$ and $W_2$ given below. Activate them on the input $X$ given underneath -- i.e. compute the output by hand in the answer cell. Show the actual calculations you did.\n",
        "\n",
        "- It's easier to understand what you need to explain about your calculations if you actually start doing them :) just mark what you actually input in the calculator, what the calculator returns, and what calculation you are confident skipping.\n",
        "\n",
        "$$\n",
        "W_1 = \n",
        "\\begin{pmatrix}\n",
        "-1 & 1 & -1 \\\\\n",
        "-1 & 1 & -1 \\\\\n",
        "-1 & 1 & -1\n",
        "\\end{pmatrix}\n",
        "\\quad,\\quad\n",
        "W_2 = \n",
        "\\begin{pmatrix}\n",
        "-1 & -1 & -1 \\\\\n",
        " 1 &  1 &  1 \\\\\n",
        "-1 & -1 & -1\n",
        "\\end{pmatrix}\n",
        "\\\\\n",
        "X = \n",
        "\\begin{pmatrix}\n",
        "2 & 3 & 1 & 3 & 2 \\\\\n",
        "2 & 3 & 1 & 3 & 2 \\\\\n",
        "2 & 3 & 1 & 3 & 2 \\\\\n",
        "2 & 3 & 1 & 3 & 2 \\\\\n",
        "2 & 3 & 1 & 3 & 2 \\\\\n",
        "\\end{pmatrix}\n",
        "$$"
      ]
    },
    {
      "cell_type": "markdown",
      "metadata": {
        "id": "UznADkxPwehi",
        "colab_type": "text"
      },
      "source": [
        "Taking $W_1$ first:    \n",
        "Consider: \n",
        "$$\n",
        "\\begin{pmatrix}\n",
        "-1 & 1 & -1 \\\\\n",
        "-1 & 1 & -1 \\\\\n",
        "-1 & 1 & -1\n",
        "\\end{pmatrix}\n",
        ",\n",
        "\\begin{pmatrix}\n",
        "2 & 3 & 1  \\\\\n",
        "2 & 3 & 1  \\\\\n",
        "2 & 3 & 1  \\\\\n",
        "\\end{pmatrix}\n",
        "$$\n",
        "$v_{1,1} = -1*2 + 1*3 + -1*1 + -1*2 + 1*3 + -1*1 + -1*2 + 1*3 + -1*1 = 0$   \n",
        "\n",
        "\\\\\n",
        "\n",
        "$$\n",
        "\\begin{pmatrix}\n",
        "-1 & 1 & -1 \\\\\n",
        "-1 & 1 & -1 \\\\\n",
        "-1 & 1 & -1\n",
        "\\end{pmatrix}\n",
        ",\n",
        "\\begin{pmatrix}\n",
        "3 & 1 & 3  \\\\\n",
        "3 & 1 & 3  \\\\\n",
        "3 & 1 & 3  \\\\\n",
        "\\end{pmatrix}\n",
        "$$\n",
        "$v_{1,2} = -1*3 + 1*1 + -1*3 + -1*3 + 1*1 + -1*3 + -1*3 + 1*1 + -1*3 = - 15$    \n",
        "\n",
        "\\\\\n",
        "\n",
        "$$\n",
        "\\begin{pmatrix}\n",
        "-1 & 1 & -1 \\\\\n",
        "-1 & 1 & -1 \\\\\n",
        "-1 & 1 & -1\n",
        "\\end{pmatrix}\n",
        ",\n",
        "\\begin{pmatrix}\n",
        "1 & 3 & 2  \\\\\n",
        "1 & 3 & 2  \\\\\n",
        "1 & 3 & 2  \\\\\n",
        "\\end{pmatrix}\n",
        "$$\n",
        "$v_{1,3} = -1*1 + 1*3 + -1*2 + -1*1 + 1*3 + -1*2 + -1*1 + 1*3 + -1*2 = 0$\n",
        "\n",
        "\\\n",
        "\n",
        "and then repeat this calculation twice.\n",
        "Thus our first output is: \n",
        "$$ \n",
        "\\begin{pmatrix}\n",
        "0 & -15 & 0  \\\\\n",
        "0 & -15 & 0  \\\\\n",
        "0 & -15 & 0  \\\\\n",
        "\\end{pmatrix}\n",
        "$$\n",
        "\n",
        "Now Taking $W_2$: (similar to the above caluclation) \n",
        "\n",
        "$v_{1,1} = -1*2 + -1*3 + -1*1 + 1*2 + 1*3 + 1*1 + -1*2 + -1*3 + -1*1 = -6$       \n",
        "\n",
        "$v_{1,2} = -1*3 + -1*1 + -1*3 + 1*3 + 1*1 + 1*3 + -1*3 + -1*1 + -1*3 = -7$ \n",
        "\n",
        "$v_{1,3} = -1*1 + -1*3 + -1*2 + 1*1 + 1*3 + 1*2 + -1*1 + -1*3 + -1*2 = -6$   \n",
        "\n",
        "\\\n",
        "\n",
        "and then repeat this calculation twice.\n",
        "Thus our second output is: \n",
        "$$ \n",
        "\\begin{pmatrix}\n",
        "-6 & -7 & -6  \\\\\n",
        "-6 & -7 & -6  \\\\\n",
        "-6 & -7 & -6 \\\\\n",
        "\\end{pmatrix}\n",
        "$$\n",
        "\n"
      ]
    },
    {
      "cell_type": "markdown",
      "metadata": {
        "id": "v8QTtCkTwehj",
        "colab_type": "text"
      },
      "source": [
        "#### 1.1 **[2pt]** Look at how different the results are. Study the regularities in the input, and the values in the mask. Which conclusions can you draw about the type of feature extracted by these two kernels?\n",
        "\n",
        "- Again, open question: do not write anything wrong, show competence and intuition, and you can get the points.\n",
        "- Hint: think about the _patterns_ both in the data and in the masks."
      ]
    },
    {
      "cell_type": "markdown",
      "metadata": {
        "id": "Qmoj6CeJwehk",
        "colab_type": "text"
      },
      "source": [
        "So a convolutional layer is used to detect patterns in our \"input matrix\" or just simply in our picture, thus taking any kernel on our input $X$ results in a  Matrix for which all rows are identical, since we see the same pattern in the rows of our input $X$ over and over again. The only thing that differs between two outputs are the values. Those depend on what kind of patterns you want to find. A kernel in that sense is some kind of a filter, which tells you whether in a specific area there was the pattern you were looking for or not.     \n",
        "So what does $W_1$ do, or rather what can I tell about it?    \n",
        "In our case the first kernel values two windows equally if they are vertically mirrior-inverted. The kernel outputs high values if the middle coloumn has the highest values of those 3 values in a row. So let's assume that X is an image and let's match (1,2,3) with (white, grey, black), then the kernel applied on a window would output a positive value if a black line was found that separates a white and grey line, or if a grey line would sparate two white lines.  \n",
        "Same goes for $W_2$ but horizontally.\n",
        "\n",
        "e.g if you are looking for an edges in a picture, then appliying the kernal to a fracture of it will tell you, whether this fracture corresponds to an edge or rather it tells you how much it resembles to an edge."
      ]
    },
    {
      "cell_type": "markdown",
      "metadata": {
        "id": "32LebCgDwehl",
        "colab_type": "text"
      },
      "source": [
        "#### 1.4 **[1pt]** Run (again by hand) a $3x3$ max pooling on the output of the convolution from your previous answer."
      ]
    },
    {
      "cell_type": "markdown",
      "metadata": {
        "id": "I84Y4ZWjwehm",
        "colab_type": "text"
      },
      "source": [
        "Since the convolved feauture is already  $3 x 3$ - matrix, I only have to write down the max value in the Matrix and thus we have for the output generated by $W_1$: Pooled feature = (0) and  for the output generated by $W_2$: Pooled feature = (-6)."
      ]
    },
    {
      "cell_type": "markdown",
      "metadata": {
        "id": "4iM6avxhwehn",
        "colab_type": "text"
      },
      "source": [
        "#### 1.5 **[1pt]** Why do autoencoders have an hourglass shape? Can you make an autoencoder with another shape?"
      ]
    },
    {
      "cell_type": "markdown",
      "metadata": {
        "id": "UcIb3xKrweho",
        "colab_type": "text"
      },
      "source": [
        "An Autoencoder is a sequence of two networks. The first network compresses the data into smaler dimensionality. The second then \"stretches\" the output of the first one into the original dimension, trying to reconstruct the original input. That process of compressing and then stretching again is where the \"shape\" comes from, thus I don't think that there is an autoencoder with another shape and if so, then the shape is rather similar to an hourglass."
      ]
    },
    {
      "cell_type": "markdown",
      "metadata": {
        "id": "mzAvEGjWwehp",
        "colab_type": "text"
      },
      "source": [
        "# 2. Recurrent Neural Networks"
      ]
    },
    {
      "cell_type": "markdown",
      "metadata": {
        "id": "XPRdbqbQwehq",
        "colab_type": "text"
      },
      "source": [
        "#### 2.1 **[4pt]** Augment last week's implementation of a neural network into a fully-connected RNN with bias connections.\n",
        "\n",
        "- Unless otherwise stated, a RNN has self-recurrent connections on each layer.\n",
        "- You should know exactly which connections to add if you answered the RNN question in the fundamentals.\n",
        "- For the bias: you need all elements in `state` to be longer by one element: put actual `1`s in these last positions at initialization, then never touch them again.\n",
        "- Recurrencies: you need to make space in the input to each layer for its own output. I typically sort them as [input, recurrencies, bias], but order is not important: consistency is. Make sure all your sizes are correct.\n",
        "- When you activate a layer remember to copy the activation to both (i) its output and (ii) its input, at the correct indices.\n",
        "- It's easier to compute the size of each input beforehand, then use it to make the `state` list. Then for each weight matrix you can take the number of rows from the structure (as before), and the number of inputs from the `state` sizes.  Don't worry about duplicating the activation in the layer's input, it's actually faster because you have a ready numpy array rather than composing at activation.\n",
        "- Remember to initialize the recurrent output to `0`. Simplest way is to initialize `state` using `np.zeros()` instead of `np.empty()`. Then set the last value of each `state` element to `1` for the bias.\n",
        "- I used myself `import IPython; IPython.embed()` heavily to get this to work. You can also call (once!) `%pdb` to drop in the debugger on error. Keep calm and check the dimensions.\n",
        "- The layer activation function should change because you are saving the activation to two locations (and at specific indices, not direct substitution like before), but the network activation function should change just marginally (add indices to insert input in state)\n",
        "- To _convolve_ with stride 1 and no padding a window of size two on a 1D list (take a pair at a time, advance by one) in Python you can use `zip(lst, lst[1:])`.\n",
        "- This question only refers to neural networks, not learning algorithm, so leave backpropagation out and do not worry about unrolling the network.\n",
        "- Again activate it on a simple input to verify everything is works. The input should be exactly the same as last week's (as the network architecture).\n",
        "- Here are the variables that I defined in my code, censored of course :)\n",
        "    - `struct = [4,3,2,3]`\n",
        "    - `nlayers = len(struct)`\n",
        "    - `nins, *nhids, nouts = struct`\n",
        "    - `state_sizes = [<?> for inp, rec in zip(struct, struct[1:])]`\n",
        "    - `state_sizes += [<?>] # for the output of the last layer`\n",
        "    - `state = [np.zeros <???>]`\n",
        "    - `for s in state: <?> # fix bias`\n",
        "    - `inp_idxs = [range(<?>,<?>) for nins in struct] # indices of inputs in state`\n",
        "    - `rec_idxs = [range(<?>,<?>) for orig, nneur in zip(<?>, <?>)]`\n",
        "    - `wsizes = [[nrows, ncols] for nrows, ncols in zip(<?>, <?>)]`\n",
        "    - `weights = [np.random.normal(size=ws) for ws in wsizes]`\n",
        "    - `sigma = lambda x: 1/(1+np.exp(-x))`\n",
        "    - To write the activation in the neuron's output in the state I can then write:  \n",
        "        `state[nlay+1][inp_idxs[nlay+1]] = act`\n",
        "- Think: how many weights do you have? :) I count 54, can you get to the same number?\n",
        "<!-- secret hint: 12+6+6 + 9+4+9 + 8 -->\n"
      ]
    },
    {
      "cell_type": "code",
      "metadata": {
        "id": "5aTmqZidZYmB",
        "colab_type": "code",
        "colab": {}
      },
      "source": [
        "%matplotlib inline\n",
        "import matplotlib.pyplot as plt\n",
        "import seaborn as sns\n",
        "import numpy as np\n",
        "import pandas as pd\n",
        "import math\n",
        "sns.set(rc={'figure.figsize':(8,6)}, style=\"whitegrid\")"
      ],
      "execution_count": null,
      "outputs": []
    },
    {
      "cell_type": "code",
      "metadata": {
        "id": "l7_TQYhQaOOv",
        "colab_type": "code",
        "colab": {}
      },
      "source": [
        "\n",
        "struct = [4,3,2,3]\n",
        "nlayers = len(struct)\n",
        "nins, *nhids, nouts = struct\n",
        "state_sizes = [inp + rec + 1 for inp, rec in zip(struct, struct[1:])]\n",
        "state_sizes += [struct[-1]] # for the output of the last layer\n",
        "state = [np.zeros(lsize) for lsize in state_sizes]\n",
        "for s in state: \n",
        "  s[-1] = 1 # fix bias\n",
        "inp_idxs = [range(0 ,nins) for nins in struct] # indices of inputs in state\n",
        "rec_idxs = [range(orig, orig +nneur) for orig, nneur in zip(struct, struct[1:])]\n",
        "wsizes = [(nrows, ncols) for nrows, ncols in zip(struct[1:], state_sizes[:-1])]\n",
        "weights = [np.random.normal(size=ws) for ws in wsizes]\n",
        "sigma = lambda x: 1/(1+np.exp(-x))\n"
      ],
      "execution_count": null,
      "outputs": []
    },
    {
      "cell_type": "code",
      "metadata": {
        "id": "Umyc-eEVTiy8",
        "colab_type": "code",
        "colab": {
          "base_uri": "https://localhost:8080/",
          "height": 138
        },
        "outputId": "6d62ab77-8c5a-4352-cb4e-4fed832d9cec"
      },
      "source": [
        "def act_layer(nlay):\n",
        "  # save output in corresponding array in state for the corrseponding indices\n",
        "  state[nlay+1][inp_idxs[nlay+1]] = sigma(weights[nlay].dot(state[nlay]))\n",
        "  # also save output for the next call of act_net\n",
        "  state[nlay][rec_idxs[nlay]] = sigma(weights[nlay].dot(state[nlay]))\n",
        "\n",
        "def act_net(inp):\n",
        "  assert len(inp) == nins, f\"got input {inp} for len {nins}\"\n",
        "  # add input to state for the corresponding indices\n",
        "  state[0][inp_idxs[0]] = inp\n",
        "  for nlay in range(nlayers-1):\n",
        "    act_layer(nlay)\n",
        "\n",
        "  return state[-1]\n",
        "\n",
        "act_net(np.array([1,2,1,2]))\n",
        "state"
      ],
      "execution_count": null,
      "outputs": [
        {
          "output_type": "execute_result",
          "data": {
            "text/plain": [
              "[array([1.        , 2.        , 1.        , 2.        , 0.20393756,\n",
              "        0.99689191, 0.50775293, 1.        ]),\n",
              " array([0.20393756, 0.99689191, 0.50775293, 0.20096884, 0.73564688,\n",
              "        1.        ]),\n",
              " array([0.20096884, 0.73564688, 0.20728574, 0.34862623, 0.10960451,\n",
              "        1.        ]),\n",
              " array([0.20728574, 0.34862623, 0.10960451])]"
            ]
          },
          "metadata": {
            "tags": []
          },
          "execution_count": 88
        }
      ]
    },
    {
      "cell_type": "markdown",
      "metadata": {
        "id": "P8Q_ddpiwehy",
        "colab_type": "text"
      },
      "source": [
        "# 3. Convolutional Networks"
      ]
    },
    {
      "cell_type": "markdown",
      "metadata": {
        "id": "zlJnX6j3wehz",
        "colab_type": "text"
      },
      "source": [
        "#### 1.1 **[2pt]** Write a Python function for 2D convolution, then run it on a randomly generated input matrix.\n",
        "\n",
        "- You need to write a function that takes a 2D input and another function as parameters, then applies the latter over the inputs.\n",
        "- The window size is not specified, you can use a 3x3 to keep it simple.\n",
        "- The function to convolve is not specified, no need for it to be a neural network, use a quick lambda such as `x.sum()`. Remember it should output one value.\n",
        "- The size of the input matrix is not specified, we can go as small as 5x5 and that would still show the work."
      ]
    },
    {
      "cell_type": "code",
      "metadata": {
        "id": "vVt2J4boweh0",
        "colab_type": "code",
        "colab": {
          "base_uri": "https://localhost:8080/",
          "height": 104
        },
        "outputId": "d26eb2ed-9c70-48cd-f751-a437ee416c80"
      },
      "source": [
        "inp = np.random.randint(0, 2, (5, 6))\n",
        "#example from class\n",
        "kernel = np.array([[1,0,1],[0,1,0],[1,0,1]])\n",
        "inp2= np.array([[1,1,1,0,0],[0,1,1,1,0],[0,0,1,1,1],[0,0,1,1,0],[0,1,1,0,0]])\n",
        "\n",
        "# instead of taking a function as arg, I take a kernel matrix, so that the function works as in the example (ex1.3) above\n",
        "def Conv_2D(matrix, kernel):\n",
        "  # saving the shapes of both matrices\n",
        "  k_rows, k_cols = kernel.shape\n",
        "  m_rows, m_cols = matrix.shape\n",
        "  # calculate dimension of convolved feature matrix\n",
        "  f_rows = m_rows - k_rows + 1\n",
        "  f_cols = m_cols - k_cols + 1\n",
        "  # creat matrix with correct shape\n",
        "  Convolved_feature = np.zeros((f_rows,f_cols))\n",
        "  # calculate values of the convolved feature matrix\n",
        "  for i in range(f_rows):\n",
        "    for j in range(f_cols):\n",
        "      Convolved_feature[i][j] = np.sum(matrix[i:i+k_rows, j:j+k_cols]*kernel)\n",
        "  return Convolved_feature\n",
        "\n",
        "Conv_2D(inp2, kernel), Conv_2D(inp, kernel)"
      ],
      "execution_count": null,
      "outputs": [
        {
          "output_type": "execute_result",
          "data": {
            "text/plain": [
              "(array([[4., 3., 4.],\n",
              "        [2., 4., 3.],\n",
              "        [2., 3., 4.]]), array([[3., 3., 1., 3.],\n",
              "        [3., 2., 3., 0.],\n",
              "        [4., 3., 2., 1.]]))"
            ]
          },
          "metadata": {
            "tags": []
          },
          "execution_count": 28
        }
      ]
    },
    {
      "cell_type": "markdown",
      "metadata": {
        "id": "ECc4pL6Nweh5",
        "colab_type": "text"
      },
      "source": [
        "# 4. Handwritten digit recognition with Keras"
      ]
    },
    {
      "cell_type": "markdown",
      "metadata": {
        "id": "U-z-AE-xweh6",
        "colab_type": "text"
      },
      "source": [
        "As mentioned at the beginning, we need to cross a gap in exercise complexity. On one hand you are ready to understand the inner work of a DL library like Keras, on the other asking you for such a task on top of today's lecture is too much even for this course :) So let's leave the creative part for next weeks, where we will see some more advanced applications anyway, and focus today on what we learned and on a new skill: how to justify your code.\n",
        "\n",
        "Here is a tutorial from [Keras](https://keras.io/examples/mnist_cnn/) on convolutional networks. The [MNIST dataset](https://en.wikipedia.org/wiki/MNIST_database) is a standard dataset for handwritten character recognition. Keras offers you a backend to automatically download the dataset, similarly to what we did so far with Seaborn and Iris.\n",
        "\n",
        "Copy the code into the cell below. It should run as is, but take a considerable amount of time. Study it, change it in order to run in few seconds, then answer the questions below."
      ]
    },
    {
      "cell_type": "code",
      "metadata": {
        "id": "UKDmFyT5weh6",
        "colab_type": "code",
        "colab": {
          "base_uri": "https://localhost:8080/",
          "height": 228
        },
        "outputId": "40502b32-676c-4f3f-abdc-b02486707b6a"
      },
      "source": [
        "from __future__ import print_function\n",
        "import keras\n",
        "from keras.datasets import mnist\n",
        "from keras.models import Sequential\n",
        "from keras.layers import Dense, Dropout, Flatten\n",
        "from keras.layers import Conv2D, MaxPooling2D\n",
        "from keras import backend as K\n",
        "\n",
        "batch_size = 128\n",
        "num_classes = 10\n",
        "# I didn't want to wait that long\n",
        "epochs = 1\n",
        "\n",
        "# input image dimensions\n",
        "img_rows, img_cols = 28, 28\n",
        "\n",
        "# the data, split between train and test sets\n",
        "(x_train, y_train), (x_test, y_test) = mnist.load_data()\n",
        "\n",
        "if K.image_data_format() == 'channels_first':\n",
        "    x_train = x_train.reshape(x_train.shape[0], 1, img_rows, img_cols)\n",
        "    x_test = x_test.reshape(x_test.shape[0], 1, img_rows, img_cols)\n",
        "    input_shape = (1, img_rows, img_cols)\n",
        "else:\n",
        "    x_train = x_train.reshape(x_train.shape[0], img_rows, img_cols, 1)\n",
        "    x_test = x_test.reshape(x_test.shape[0], img_rows, img_cols, 1)\n",
        "    input_shape = (img_rows, img_cols, 1)\n",
        "\n",
        "x_train = x_train.astype('float32')\n",
        "x_test = x_test.astype('float32')\n",
        "x_train /= 255\n",
        "x_test /= 255\n",
        "print('x_train shape:', x_train.shape)\n",
        "print(x_train.shape[0], 'train samples')\n",
        "print(x_test.shape[0], 'test samples')\n",
        "\n",
        "# convert class vectors to binary class matrices\n",
        "y_train = keras.utils.to_categorical(y_train, num_classes)\n",
        "y_test = keras.utils.to_categorical(y_test, num_classes)\n",
        "\n",
        "model = Sequential()\n",
        "model.add(Conv2D(32, kernel_size=(3, 3),\n",
        "                 activation='relu',\n",
        "                 input_shape=input_shape))\n",
        "model.add(Conv2D(64, (3, 3), activation='relu'))\n",
        "model.add(MaxPooling2D(pool_size=(2, 2)))\n",
        "model.add(Dropout(0.25))\n",
        "model.add(Flatten())\n",
        "model.add(Dense(128, activation='relu'))\n",
        "model.add(Dropout(0.5))\n",
        "model.add(Dense(num_classes, activation='softmax'))\n",
        "\n",
        "model.compile(loss=keras.losses.categorical_crossentropy,\n",
        "              optimizer=keras.optimizers.Adadelta(),\n",
        "              metrics=['accuracy'])\n",
        "\n",
        "model.fit(x_train, y_train,\n",
        "          batch_size=batch_size,\n",
        "          epochs=epochs,\n",
        "          verbose=1,\n",
        "          validation_data=(x_test, y_test))\n",
        "score = model.evaluate(x_test, y_test, verbose=0)\n",
        "print('Test loss:', score[0])\n",
        "print('Test accuracy:', score[1])"
      ],
      "execution_count": null,
      "outputs": [
        {
          "output_type": "stream",
          "text": [
            "Using TensorFlow backend.\n"
          ],
          "name": "stderr"
        },
        {
          "output_type": "stream",
          "text": [
            "Downloading data from https://s3.amazonaws.com/img-datasets/mnist.npz\n",
            "11493376/11490434 [==============================] - 0s 0us/step\n",
            "x_train shape: (60000, 28, 28, 1)\n",
            "60000 train samples\n",
            "10000 test samples\n",
            "Train on 60000 samples, validate on 10000 samples\n",
            "Epoch 1/1\n",
            "60000/60000 [==============================] - 146s 2ms/step - loss: 0.2647 - accuracy: 0.9176 - val_loss: 0.0581 - val_accuracy: 0.9818\n",
            "Test loss: 0.05812422053855844\n",
            "Test accuracy: 0.9818000197410583\n"
          ],
          "name": "stdout"
        }
      ]
    },
    {
      "cell_type": "markdown",
      "metadata": {
        "id": "e2ZdnPjgweiA",
        "colab_type": "text"
      },
      "source": [
        "#### 4.1 **[1pt]** Plot the first 9 images in MNIST using a 6x6 subplot.\n",
        "\n",
        "- I showed how to use subplots in a recent solution -- do you remember where it was? You'll need the ability to search quickly for what you need at the exam."
      ]
    },
    {
      "cell_type": "code",
      "metadata": {
        "id": "4ofwZ9VwweiB",
        "colab_type": "code",
        "colab": {
          "base_uri": "https://localhost:8080/",
          "height": 96
        },
        "outputId": "52728f15-18cb-4492-b4f0-ccc2877770f3"
      },
      "source": [
        "\n",
        "_, axes = plt.subplots(1,9)\n",
        "\n",
        "for i, ax in zip(range(9), axes):\n",
        "  image=x_train[i]\n",
        "  pixels = image.reshape((28, 28))\n",
        "  ax.imshow(pixels, cmap='gray')\n",
        "  ax.grid(True)\n",
        "\n",
        "plt.show()\n"
      ],
      "execution_count": null,
      "outputs": [
        {
          "output_type": "display_data",
          "data": {
            "image/png": "[encoded data removed]",
            "text/plain": [
              "<Figure size 576x432 with 9 Axes>"
            ]
          },
          "metadata": {
            "tags": []
          }
        }
      ]
    },
    {
      "cell_type": "markdown",
      "metadata": {
        "id": "iQJFhXPZweiH",
        "colab_type": "text"
      },
      "source": [
        "#### 4.2 **[3pt]** Explain the following lines in the Keras MNIST Tutorial code (in English): 8, 10, 16, 39, 43, 44\n",
        "\n",
        "- To answer this question you need to show complete competence, as if you wrote this code yourself and you were asked to explain your choices at an oral exam.\n",
        "- For each of the lines mentioned, check the code provided and explain it thoroughly\n",
        "- For each variable, explain its meaning, its use, and the choice of value assigned\n",
        "- For each function call, explain what it does, the meaning of all parameters, and the choices of all values.\n",
        "- Reading the code like \"assign 12 to variable `epochs`\" will not constitute an acceptable answer.\n",
        "- Reading the code like \"creates a new Sequential\" is also not acceptable: check the documentation for `Sequential`, understand what the call does, and present your findings."
      ]
    },
    {
      "cell_type": "markdown",
      "metadata": {
        "id": "gC_jNdlMweiI",
        "colab_type": "text"
      },
      "source": [
        "- *batch_size = 128:* defines the number of samples on which the network is trained on at a time.  e.g  If you have a set of 500 samples, then *batch_size = 128* means that at the beginning the network is trained on the first 128 samples of the dataset, then it is again trained on the second 128 samples, then on the third 128 samples and so on.\n",
        "\n",
        "- *epochs = 12*: Tells you how many times you run over your set of samples / dataset. i.e after training your network on the last \"sub-sample-set\"(with batch_size we split the set of all sample in multiple subsets), you start again from the beginning.\n",
        "\n",
        "\n",
        "- *(x_train, y_train), (x_test, y_test) = mnist.load_data()*: the dataset is already split into a train and a test set so you can directly load the data into the variables train and test. The x_train and y_train are just used to separtae labels from inputs.\n",
        "\n",
        "- *model = Sequential()*: The variable *model* in this case is a Sequential object. Sequential() initialises a model for a neural network with no layers at the beginning. Layers have to be added one by one with \"model.add(Dense(2, input_dim=1)); model.add(Dense(1))\" for example. The input of the second layer (\"model.add(Dense(1)\") then depends on the output size of the first (\"model.add(Dense(2, input_dim=1)\"), which is 2 in my example.\n",
        "\n",
        "- *model.add(Conv2D(64, (3, 3), activation='relu'))*: Adds a 2 dimensional convolution layer to the Sequential object. The first required Conv2D parameter is the output dimensionality. The second parameter is the kernel_size, a 2-tuple specifying the width and height of the 2D convolution window and the last parameter decides the activation function used for the layer, in our case it is the Rectified Linear Unit activation function.\n",
        "\n",
        "- *model.add(MaxPooling2D(pool_size=(2, 2)))*: Then you add Max pooling layer, in order to reduce the spatial dimensions of the output. In our case the size of the max pooling windows is 2x2."
      ]
    },
    {
      "cell_type": "markdown",
      "metadata": {
        "id": "_tKZd7xUweiI",
        "colab_type": "text"
      },
      "source": [
        "#### 4.3 **[2pt]** Tweak the variables in the Keras MNIST code to be able to run it in a decent time. Visualize the model's accuracy and loss over time.\n",
        "\n",
        "- This is almost for free since you did the same visualization last week, but you need to get the code to run first.\n",
        "- Also you may want to make sure your changes include setting 'accuracy' and the `history` variable, or at the end of the run you could end up with still nothing to show :)"
      ]
    },
    {
      "cell_type": "code",
      "metadata": {
        "id": "AInVZgXTweiJ",
        "colab_type": "code",
        "colab": {
          "base_uri": "https://localhost:8080/",
          "height": 1000
        },
        "outputId": "9c758afb-7d84-41fd-98f5-d0b174f0d26c"
      },
      "source": [
        "# I just changed batch_size and epoch\n",
        "batch_size = 1024 \n",
        "num_classes = 10\n",
        "epochs = 2\n",
        "\n",
        "# input image dimensions\n",
        "img_rows, img_cols = 28, 28\n",
        "\n",
        "# the data, split between train and test sets\n",
        "(x_train, y_train), (x_test, y_test) = mnist.load_data()\n",
        "\n",
        "if K.image_data_format() == 'channels_first':\n",
        "    x_train = x_train.reshape(x_train.shape[0], 1, img_rows, img_cols)\n",
        "    x_test = x_test.reshape(x_test.shape[0], 1, img_rows, img_cols)\n",
        "    input_shape = (1, img_rows, img_cols)\n",
        "else:\n",
        "    x_train = x_train.reshape(x_train.shape[0], img_rows, img_cols, 1)\n",
        "    x_test = x_test.reshape(x_test.shape[0], img_rows, img_cols, 1)\n",
        "    input_shape = (img_rows, img_cols, 1)\n",
        "\n",
        "x_train = x_train.astype('float32')\n",
        "x_test = x_test.astype('float32')\n",
        "x_train /= 255\n",
        "x_test /= 255\n",
        "print('x_train shape:', x_train.shape)\n",
        "print(x_train.shape[0], 'train samples')\n",
        "print(x_test.shape[0], 'test samples')\n",
        "\n",
        "# convert class vectors to binary class matrices\n",
        "y_train = keras.utils.to_categorical(y_train, num_classes)\n",
        "y_test = keras.utils.to_categorical(y_test, num_classes)\n",
        "\n",
        "model = Sequential()\n",
        "model.add(Conv2D(32, kernel_size=(3, 3),\n",
        "                 activation='relu',\n",
        "                 input_shape=input_shape))\n",
        "model.add(Conv2D(64, (3, 3), activation='relu'))\n",
        "model.add(MaxPooling2D(pool_size=(2, 2)))\n",
        "model.add(Dropout(0.25))\n",
        "model.add(Flatten())\n",
        "model.add(Dense(128, activation='relu'))\n",
        "model.add(Dropout(0.5))\n",
        "model.add(Dense(num_classes, activation='softmax'))\n",
        "\n",
        "model.compile(loss=keras.losses.categorical_crossentropy,\n",
        "              optimizer=keras.optimizers.Adadelta(),\n",
        "              metrics=['accuracy'])\n",
        "\n",
        "history = model.fit(x_train, y_train,\n",
        "                    batch_size=batch_size,\n",
        "                    epochs=epochs,\n",
        "                    verbose=1,\n",
        "                    validation_data=(x_test, y_test))\n",
        "score = model.evaluate(x_test, y_test, verbose=0)\n",
        "print('Test loss:', score[0])\n",
        "print('Test accuracy:', score[1])\n",
        "\n",
        "\n",
        "loss , accuracy = model.evaluate(x_test,y_test)\n",
        "print(f\"\\nAccuracy: {round(accuracy,4)}; loss: {round(loss,4)}\")\n",
        "\n",
        "\n",
        "# Visualize (from last week!)\n",
        "for idx, metric in enumerate(['accuracy','loss']):\n",
        "  plt.figure(idx)\n",
        "  plt.plot(history.history[metric])\n",
        "  plt.plot(history.history['val_'+ metric])\n",
        "  plt.title('Model'+ metric)\n",
        "  plt.ylabel(metric.capitalize())\n",
        "  plt.xlabel('Epoch')\n",
        "  plt.legend(['Train','Test'], loc='upper left')"
      ],
      "execution_count": null,
      "outputs": [
        {
          "output_type": "stream",
          "text": [
            "x_train shape: (60000, 28, 28, 1)\n",
            "60000 train samples\n",
            "10000 test samples\n",
            "Train on 60000 samples, validate on 10000 samples\n",
            "Epoch 1/2\n",
            "60000/60000 [==============================] - 135s 2ms/step - loss: 0.7787 - accuracy: 0.7538 - val_loss: 0.2006 - val_accuracy: 0.9409\n",
            "Epoch 2/2\n",
            "60000/60000 [==============================] - 138s 2ms/step - loss: 0.2264 - accuracy: 0.9338 - val_loss: 0.1037 - val_accuracy: 0.9669\n",
            "Test loss: 0.10371174856312573\n",
            "Test accuracy: 0.9668999910354614\n",
            "10000/10000 [==============================] - 6s 637us/step\n",
            "\n",
            "Accuracy: 0.9669; loss: 0.1037\n"
          ],
          "name": "stdout"
        },
        {
          "output_type": "display_data",
          "data": {
            "image/png": "[encoded data removed]",
            "text/plain": [
              "<Figure size 576x432 with 1 Axes>"
            ]
          },
          "metadata": {
            "tags": []
          }
        },
        {
          "output_type": "display_data",
          "data": {
            "image/png": "[encoded data removed]",
            "text/plain": [
              "<Figure size 576x432 with 1 Axes>"
            ]
          },
          "metadata": {
            "tags": []
          }
        }
      ]
    },
    {
      "cell_type": "markdown",
      "metadata": {
        "id": "v3XYuEPwweiN",
        "colab_type": "text"
      },
      "source": [
        "# At the end of the exercise"
      ]
    },
    {
      "cell_type": "markdown",
      "metadata": {
        "id": "V5t1_0zaweiO",
        "colab_type": "text"
      },
      "source": [
        "Bonus question with no points! Answering this will have no influence on your scoring, not at the assignment and not towards the exam score -- really feel free to ignore it with no consequence. But solving it will reward you with skills that will make the next lectures easier, give you real applications, and will be good practice towards the exam.\n",
        "\n",
        "The solution for this questions will not be included in the regular lab solutions pdf, but you are welcome to open a discussion on the Moodle: we will support your addressing it, and you may meet other students that choose to solve this, and find a teammate for the next assignment that is willing to do things for fun and not only for score :)"
      ]
    },
    {
      "cell_type": "markdown",
      "metadata": {
        "id": "3WPmcwB4weiP",
        "colab_type": "text"
      },
      "source": [
        "#### BONUS **[ZERO pt]** Edit the Keras MNIST code to use a simple RNN, then cheat by passing all images of ones in a sequence. Then reset the network and pass all 2s. RNNs will recognize you expect constant output, decide which output with the first few images, then just saturate the right neurons with recurrent connections to generate a constant output regardless of the input. Notice getting a \"simple\" RNN in Keras is not straightforward; we will see LSTMs next week."
      ]
    },
    {
      "cell_type": "markdown",
      "metadata": {
        "id": "etLWDw6fweiR",
        "colab_type": "text"
      },
      "source": [
        "### Final considerations"
      ]
    },
    {
      "cell_type": "markdown",
      "metadata": {
        "id": "DVc4hoAKweiR",
        "colab_type": "text"
      },
      "source": [
        "- At the end of this lecture + exercise you should _own_ neural networks. It does not mean that you know everything about them, but you have enough to learn from any resource you can find, and you actually know how these things work better than the large majority of people who work with Deep Learning on a daily basis.\n",
        "- Try to get the original Keras MNIST code to work through. You may need a day or two, or activate TPUs on Colab, but the first time you successfully recognize handwritten digits with such high accuracy feels pretty good."
      ]
    }
  ]
}