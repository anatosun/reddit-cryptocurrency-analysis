{
  "nbformat": 4,
  "nbformat_minor": 0,
  "metadata": {
    "kernelspec": {
      "display_name": "Python 3",
      "language": "python",
      "name": "python3"
    },
    "language_info": {
      "codemirror_mode": {
        "name": "ipython",
        "version": 3
      },
      "file_extension": ".py",
      "mimetype": "text/x-python",
      "name": "python",
      "nbconvert_exporter": "python",
      "pygments_lexer": "ipython3",
      "version": "3.6.9"
    },
    "colab": {
      "name": "assignment_13.ipynb",
      "provenance": []
    }
  },
  "cells": [
    {
      "cell_type": "markdown",
      "metadata": {
        "id": "wKcmEWs5h-dk",
        "colab_type": "text"
      },
      "source": [
        "Please fill in your name and that of your teammate.\n",
        "\n",
        "You: Hans-Andrea Danuser\n",
        "\n",
        "Teammate:"
      ]
    },
    {
      "cell_type": "markdown",
      "metadata": {
        "id": "KrwawROah-dl",
        "colab_type": "text"
      },
      "source": [
        "# Introduction"
      ]
    },
    {
      "cell_type": "code",
      "metadata": {
        "id": "sRy5VsCFiJ33",
        "colab_type": "code",
        "colab": {
          "base_uri": "https://localhost:8080/",
          "height": 71
        },
        "outputId": "0fc21e2b-4876-4967-cf62-c0c212505cb8"
      },
      "source": [
        "%matplotlib inline\n",
        "import matplotlib.pyplot as plt\n",
        "import seaborn as sns\n",
        "import numpy as np\n",
        "import pandas as pd\n",
        "import time\n",
        "import gym\n",
        "import IPython\n",
        "sns.set(rc={'figure.figsize':(8,6)}, style=\"whitegrid\")"
      ],
      "execution_count": 1,
      "outputs": [
        {
          "output_type": "stream",
          "text": [
            "/usr/local/lib/python3.6/dist-packages/statsmodels/tools/_testing.py:19: FutureWarning: pandas.util.testing is deprecated. Use the functions in the public API at pandas.testing instead.\n",
            "  import pandas.util.testing as tm\n"
          ],
          "name": "stderr"
        }
      ]
    },
    {
      "cell_type": "markdown",
      "metadata": {
        "id": "jVHrIIjsh-dl",
        "colab_type": "text"
      },
      "source": [
        "Finally. Welcome to the thirteenth, and last, lab. Over the past few weeks you got a whiff of the current state of the art, its complexity, and limitations. Now, there are literally tens of thousands of people trying to push beyond those limitations; of those, maybe 1%-5% are working with Neuroevolution, the number growing drastically in the past 2 years (from an initial few hundreds).\n",
        "\n",
        "Whether these methods will become the new trend or will be surpassed by something else, the future is in your hands. Goal of this lab is to show you that alternatives are possible, and that Occam's Razor is not easily discounted. Enjoy!"
      ]
    },
    {
      "cell_type": "markdown",
      "metadata": {
        "id": "VssRkP9Gh-dm",
        "colab_type": "text"
      },
      "source": [
        "### How to pass the lab?"
      ]
    },
    {
      "cell_type": "markdown",
      "metadata": {
        "id": "_AXX13XPh-dm",
        "colab_type": "text"
      },
      "source": [
        "Below you find the exercise questions. Each question awarding points is numbered and states the number of points like this: **[0pt]**. To answer a question, fill the cell below with your answer (markdown for text, code for implementation). Incorrect or incomplete answers are in principle worth 0 points: to assign partial reward is only up to teacher discretion. Over-complete answers do not award extra points (though they are appreciated and will be kept under consideration). Save your work frequently! (`ctrl+s`)\n",
        "\n",
        "**You need at least 14 points (out of 21 available) to pass** (66%)."
      ]
    },
    {
      "cell_type": "markdown",
      "metadata": {
        "id": "DpZev247h-dn",
        "colab_type": "text"
      },
      "source": [
        "# 1. Fundamentals"
      ]
    },
    {
      "cell_type": "markdown",
      "metadata": {
        "id": "S5rm855ch-dn",
        "colab_type": "text"
      },
      "source": [
        "#### 1.1 **[1pt]** Why are multimodal problems hard?"
      ]
    },
    {
      "cell_type": "markdown",
      "metadata": {
        "id": "FeB0_bAoh-do",
        "colab_type": "text"
      },
      "source": [
        "Because decending their gradiant deceptively leads to local minima. Exploratory techniques are nessesary to make an algorithm robust to deceptive landscapes. "
      ]
    },
    {
      "cell_type": "markdown",
      "metadata": {
        "id": "PMVThmI3h-do",
        "colab_type": "text"
      },
      "source": [
        "#### 1.2 **[2pt]** Define the following: (i) multi-agent algorithm, (ii) black-box optimization, (iii) evolutionary algorithm."
      ]
    },
    {
      "cell_type": "markdown",
      "metadata": {
        "id": "Yxp0Jh_zh-dp",
        "colab_type": "text"
      },
      "source": [
        "(i): Algorithm that considers multiple solutions at the same time instead of focusing on one.\n",
        "\n",
        "(ii): Is a familily of methods to maximize or minimize values ofa function without knowing the function itself.\n",
        "\n",
        "(iii): Is a familiy of multi-agent methods inspired by nature. They create new solutions using randomization, compare them based on their score, then genarte new solutions folowwing the most promising diretion of improvment."
      ]
    },
    {
      "cell_type": "markdown",
      "metadata": {
        "id": "OpNjz0Q3h-dp",
        "colab_type": "text"
      },
      "source": [
        "#### 1.3 **[2pt]** Describe in which way the following algorithms differ from an implementation perspective: (i) Genetic Algorithms, (ii) Evolution Strategies, (iii) Genetic Programming."
      ]
    },
    {
      "cell_type": "markdown",
      "metadata": {
        "id": "cYEWO_FSh-dq",
        "colab_type": "text"
      },
      "source": [
        "(i): They  implement the crossover operation (besides mutation), generating a child based on the parents. They operate on binary string making them ideal for descrete optimization.\n",
        "\n",
        "(ii): They only implement mutation but can adapt it to become invariant to scale and monotonic transformations, which makes the suitable for continous optimizations.\n",
        "\n",
        "(iii): identical to Genetic algorithms, but its implemented on computational trees, thus searching in the space of computable programms."
      ]
    },
    {
      "cell_type": "markdown",
      "metadata": {
        "id": "5rB_dTmbh-dq",
        "colab_type": "text"
      },
      "source": [
        "#### 1.4 **[1pt]** What is the difference between a $(1+1)$ and a $(2,2)$ population model?"
      ]
    },
    {
      "cell_type": "markdown",
      "metadata": {
        "id": "uzr1qNJBh-dr",
        "colab_type": "text"
      },
      "source": [
        "(i): maintains a population of 1 individual: at each generation it creates a new one besed on the old, compares it with the old and chooses the best.\n",
        "\n",
        "(ii): Maintains 2 individuals, generates 2 more (based on the old), but then selects only 1 (best) to create the new population."
      ]
    },
    {
      "cell_type": "markdown",
      "metadata": {
        "id": "8oKgBWV5h-dr",
        "colab_type": "text"
      },
      "source": [
        "#### 1.5 **[1pt]** Define Neuroevolution."
      ]
    },
    {
      "cell_type": "markdown",
      "metadata": {
        "id": "StOaMgRqh-dr",
        "colab_type": "text"
      },
      "source": [
        "Neuroevolution is a machine learning technique that uses neural networks as models, but adapt their parametrization (weights) using evolutionary algorithms."
      ]
    },
    {
      "cell_type": "markdown",
      "metadata": {
        "id": "1h10IfFGh-ds",
        "colab_type": "text"
      },
      "source": [
        "# 2. Evolution Strategy"
      ]
    },
    {
      "cell_type": "markdown",
      "metadata": {
        "id": "2iPuCegWh-ds",
        "colab_type": "text"
      },
      "source": [
        "#### 2.1 **[2pt]** Write a $(1+1)$ Evolution Strategy algorithm in Python as a script (no classes). Run it on the Sphere Minimization problem and plot the sigma and best fitness on a logarithmic scale.\n",
        "\n",
        "- For the learning rate / step size use the formula $c=1+\\frac{1}{d}$ with $d$ number of problem parameters (dimensions).\n",
        "- You can test it on the Sphere Minimization problem: `lambda x: np.linalg.norm(x)**2` (notice you can drop the squaring term: why?).\n",
        "- The plot is there to help you debug it."
      ]
    },
    {
      "cell_type": "code",
      "metadata": {
        "id": "D5bossqoh-dt",
        "colab_type": "code",
        "colab": {
          "base_uri": "https://localhost:8080/",
          "height": 273
        },
        "outputId": "cb0f8533-5b77-40e5-cf7f-219e905ab3d0"
      },
      "source": [
        "fitness = lambda x: np.linalg.norm(x)\n",
        "ndims = 3\n",
        "sigma = 1e-5\n",
        "x = np.random.randn(ndims)\n",
        "trg_fit = 1e-5\n",
        "lrate = 1 + 1 / ndims\n",
        "\n",
        "fit_x = fitness(x)\n",
        "sigmas = [sigma]\n",
        "fits = [fit_x]\n",
        "while fit_x > trg_fit:\n",
        "\n",
        "  #new individual\n",
        "  y = x + sigma * np.random.randn(ndims)\n",
        "  fit_y = fitness(y)\n",
        "\n",
        "  #compare fitness\n",
        "  if fit_y <= fit_x:\n",
        "    x = y\n",
        "    fit_x = fit_y\n",
        "    sigma = sigma * lrate**4 #decrase sigma\n",
        "\n",
        "  else:\n",
        "    sigma = sigma/lrate #increase sigma\n",
        "  \n",
        "  sigmas.append(sigma)\n",
        "  fits.append(fit_x)\n",
        "\n",
        "ax = sns.lineplot(range(len(sigmas)), sigmas)\n",
        "sns.lineplot(range(len(fits)), fits)\n",
        "ax.set_yscale('log')\n"
      ],
      "execution_count": 12,
      "outputs": [
        {
          "output_type": "display_data",
          "data": {
            "image/png": "[encoded data removed]",
            "text/plain": [
              "<Figure size 432x288 with 1 Axes>"
            ]
          },
          "metadata": {
            "tags": [],
            "needs_background": "light"
          }
        }
      ]
    },
    {
      "cell_type": "markdown",
      "metadata": {
        "id": "EHaHjlgrh-dw",
        "colab_type": "text"
      },
      "source": [
        "#### 2.2 **[2pt]** Refactor your implementation of a $(1+1)$ Evolution Strategy using a Class.\n",
        "\n",
        "- This will make it easier to include it later in your Neuroevolution framework.\n",
        "- Careful: I know it sounds obvious, but double- and triple-check all the `self`s. Also restart the kernel and comment all testing so that you make absolutely sure your code is not capturing global variable definitions through closures."
      ]
    },
    {
      "cell_type": "code",
      "metadata": {
        "id": "rACZTpkYh-dw",
        "colab_type": "code",
        "colab": {
          "base_uri": "https://localhost:8080/",
          "height": 305
        },
        "outputId": "18c0605d-e47d-4578-fd8b-d1d115c6e29a"
      },
      "source": [
        "class ES11:\n",
        "  def __init__(self, ndims, sigma, fitness, lrate=None):\n",
        "    self.ndims = ndims\n",
        "    self.sigma = sigma\n",
        "    self.fitness = fitness\n",
        "    self.x = np.random.randn(ndims)\n",
        "    if lrate is None:\n",
        "      self.lrate = 1 + 1 /ndims\n",
        "    else:\n",
        "      self.lrate = lrate\n",
        "  \n",
        "    self.fit_x = fitness(self.x)\n",
        "    self.sigmas = [self.sigma]\n",
        "    self.fits = [self.fit_x]\n",
        "\n",
        "  def step(self):\n",
        "    print('.', end='', flush=True)\n",
        "\n",
        "    #new individual\n",
        "    y = self.x + self.sigma * np.random.randn(self.ndims)\n",
        "    fit_y = self.fitness(y)\n",
        "\n",
        "    #compare fitness\n",
        "    if fit_y <= self.fit_x:\n",
        "      self.x = y\n",
        "      self.fit_x = fit_y\n",
        "      self.sigma = self.sigma * self.lrate**4 #decrase sigma\n",
        "\n",
        "    else:\n",
        "      self.sigma = self.sigma/self.lrate #increase sigma\n",
        "  \n",
        "    self.sigmas.append(self.sigma)\n",
        "    self.fits.append(self.fit_x)\n",
        "\n",
        "  def run(self, ngens=1000):\n",
        "    for ngen in range(ngens):\n",
        "      self.step()\n",
        "    return ngen\n",
        "\n",
        "  def plot(self):\n",
        "    sigma = self.sigmas\n",
        "    fit = self.fits\n",
        "\n",
        "    x_axis = range(len(sigma))\n",
        "    ax = sns.lineplot(x_axis, sigma)\n",
        "    x = sns.lineplot(x_axis, fit)\n",
        "\n",
        "sphere = lambda x: np.linalg.norm(x)\n",
        "\n",
        "es = ES11(ndims = 3, sigma = 1e-5, fitness = sphere)\n",
        "es.run()\n",
        "es.plot()\n",
        "\n"
      ],
      "execution_count": 19,
      "outputs": [
        {
          "output_type": "stream",
          "text": [
            "........................................................................................................................................................................................................................................................................................................................................................................................................................................................................................................................................................................................................................................................................................................................................................................................................................................................................................................................................................................................................................................"
          ],
          "name": "stdout"
        },
        {
          "output_type": "display_data",
          "data": {
            "image/png": "[encoded data removed]",
            "text/plain": [
              "<Figure size 432x288 with 1 Axes>"
            ]
          },
          "metadata": {
            "tags": [],
            "needs_background": "light"
          }
        }
      ]
    },
    {
      "cell_type": "markdown",
      "metadata": {
        "id": "-YH1uzVlh-dy",
        "colab_type": "text"
      },
      "source": [
        "#### BONUS **[ZERO pt]** Try implementing a $(\\mu, \\lambda)$-ES. It will perform much better than the $(1+1)$ above."
      ]
    },
    {
      "cell_type": "markdown",
      "metadata": {
        "id": "VggtiwDdh-dz",
        "colab_type": "text"
      },
      "source": [
        "# 3. Neuroevolution"
      ]
    },
    {
      "cell_type": "markdown",
      "metadata": {
        "id": "4JNHlwyeh-d0",
        "colab_type": "text"
      },
      "source": [
        "- To prepare for the experiment, let's refactor and incapsulate some old code into classes.\n",
        "- Remember that classes are meant to serve you: if you make it too complex you will end up with you serving the class implementation by wasting your time fiddling with it.\n",
        "- Look at the points given to each question: it should be fairly short and straightforward work, take all the shortcuts you can. Leverage the code you already produced.\n",
        "- Everything should be made as simple as possible, but not simpler. *(A. Einstein)*"
      ]
    },
    {
      "cell_type": "markdown",
      "metadata": {
        "id": "2BMq5z_Sh-d0",
        "colab_type": "text"
      },
      "source": [
        "#### 3.1 **[2pt]** Prepare a Neural Network implementation for training with Neuroevolution.\n",
        "\n",
        "- Reuse the implementation of FFNN from Lab 09 or RNN from Lab 10.\n",
        "- You need a new method `set_weights()` that takes a numpy array of weights as parameter, checks its size, then uses it to fill all of the network's weight matrices.\n",
        "- It is useful to define a method or variable `nweights` to hold the number of weights needed to fill up all weight matrices.\n",
        "- Remember to reset the network's `state` after setting new weights, especially with RNNs! You don't want to carry around old activations. You may want to move the functionality to a new method `reset_state()`.\n",
        "- Test the new methods in isolation on a randomly generated weights vector before you move on."
      ]
    },
    {
      "cell_type": "code",
      "metadata": {
        "id": "DfdHqiG9h-d0",
        "colab_type": "code",
        "colab": {
          "base_uri": "https://localhost:8080/",
          "height": 85
        },
        "outputId": "eef4d2f1-cffe-419b-bc5c-450d61a342a5"
      },
      "source": [
        "class RNN:\n",
        "  def __init__(self, struct):\n",
        "    self.struct = struct\n",
        "    self.nlayers = len(self.struct)\n",
        "    self.nins, *self.nhids, self.nouts = self.struct\n",
        "\n",
        "    state_sizes = [inp + rec + 1 for inp, rec in zip(self.struct, self.struct[1:])]\n",
        "    state_sizes += [self.struct[-1]]\n",
        "\n",
        "    self.state = [np.empty(size, dtype='float64') for size in state_sizes]\n",
        "    for s in self.state: \n",
        "      s[-1] = 1 # fix bias\n",
        "    self.reset_state()\n",
        "    self.inp_idxs = [range(nins) for nins in self.struct]\n",
        "    self.rec_idxs = [range(orig, orig +nneur) for orig, nneur in zip(self.struct, self.struct[1:])]\n",
        "\n",
        "    wsizes = [(nrows, ncols) for nrows, ncols in zip(self.struct[1:], state_sizes[:-1])]\n",
        "    self.nweights = sum(r*c for (r, c) in wsizes)\n",
        "    self.weights = [np.random.normal(size=ws) for ws in wsizes]\n",
        "    self.sigma = lambda x: 1/(1+np.exp(-x))\n",
        "\n",
        "  def act_layer(self, nlay):\n",
        "    act = self.sigma(self.weights[nlay].dot(self.state[nlay]))\n",
        "    self.state[nlay+1][self.inp_idxs[nlay+1]] = act\n",
        "    self.state[nlay][self.rec_idxs[nlay]] = act\n",
        "  \n",
        "  def activate(self, inp):\n",
        "    assert len(inp) == self.nins, f\"got input {inp} for len {nins}\"\n",
        "    self.state[0][self.inp_idxs[0]] = inp\n",
        "    for nlay in range(self.nlayers-1):\n",
        "      self.act_layer(nlay)\n",
        "    return self.state[-1]\n",
        "\n",
        "  def reset_state(self):\n",
        "    for s in self.state: s[:-1] = 0\n",
        "    self.state[-1][-1] = 0\n",
        "\n",
        "  def set_weights(self, weights):\n",
        "    assert len(weights) == self.nweights\n",
        "    start = 0\n",
        "    for nmat in range(len(self.weights)):\n",
        "      r, c = self.weights[nmat].shape\n",
        "      end = start + r*c\n",
        "      self.weights[nmat] = weights[start:end].copy().reshape((r,c))\n",
        "      start = end\n",
        "\n",
        "net = RNN([4,3,2,3])\n",
        "print(net.activate(np.array([1,2,1,2])))\n",
        "print(net.activate(np.array([1,2,1,2])))\n",
        "net.set_weights(np.array(np.random.normal(size=net.nweights)))\n",
        "print(net.activate(np.array([1,2,1,2])))\n",
        "print(net.activate(np.array([1,2,1,2])))\n"
      ],
      "execution_count": 22,
      "outputs": [
        {
          "output_type": "stream",
          "text": [
            "[0.49109018 0.62773689 0.57429294]\n",
            "[0.49046201 0.88723321 0.62666266]\n",
            "[0.47983842 0.65070476 0.57611052]\n",
            "[0.51577389 0.67767422 0.60285568]\n"
          ],
          "name": "stdout"
        }
      ]
    },
    {
      "cell_type": "markdown",
      "metadata": {
        "id": "rzmGgda1h-d3",
        "colab_type": "text"
      },
      "source": [
        "#### 3.2 **[2pt]** Prepare a Control Loop class which initializes on an environment name using the OpenAI Gym. It should offer a method `evaluate()` that takes an array of weights and returns the score of the corresponding RNN policy.\n",
        "\n",
        "- You can reuse the implementation of the control loop from Lab 12.\n",
        "- Remember to take the network's input and output sizes from the environment's observation- and action-space. Play with `env.observation_space` and `env.action_space`.\n",
        "- The environments for the OpenAI Gym have small differences that would make all cases hard to cover. Test your implementation only on Cartpole or Frozen Lake for now, and pass the lab. Playing with others is super interesting, and left for the bonus question.\n",
        "- Careful taking the Cartpole loop from lab 12: you won't need any per-step interaction, only accumulate the reward and return it at the end. Remember the policy *is* the network, so from the RL perspective you want the full-greedy implementation. The exploration is done through the multiagent implementation.\n",
        "- I wrote a class that just has an initializer for all parameters, then a function `evaluate` that takes a set of weights and returns the score.\n",
        "- Test the control loop on a randomly generated weights vector."
      ]
    },
    {
      "cell_type": "code",
      "metadata": {
        "id": "Y3tbIPF7h-d4",
        "colab_type": "code",
        "colab": {}
      },
      "source": [
        "class ControlLoop:\n",
        "  def __init__(self, env_name, net_hids, max_nsteps, env_args=[]):\n",
        "    self.env_params = [env_name] + env_args\n",
        "\n",
        "    env = gym.make(*self.env_params)\n",
        "    ninputs = env.observation_space.shape[0]\n",
        "    noutputs = env.action_space.n\n",
        "    self.net = RNN([ninputs, *net_hids, noutputs])\n",
        "    env.close()\n",
        "\n",
        "    self.max_nsteps = max_nsteps\n",
        "  \n",
        "  def evaluate(self, weights, render=False):\n",
        "    env = gym.make(*self.env_params)\n",
        "    self.net.set_weights(weights)\n",
        "    fitness = 0\n",
        "    observation = env.reset()\n",
        "    for nstep in range(self.max_nsteps):\n",
        "      if render:\n",
        "        env.render()\n",
        "        time.sleep(0.05)\n",
        "      action = np.argmax(self.net.activate(observation))\n",
        "      observation, reward, done, info = env.step(action)\n",
        "      fitness -= reward\n",
        "      if done:\n",
        "        if render: env.render()\n",
        "        break\n",
        "    env.close()\n",
        "    return fitness\n",
        "\n",
        "ctrl = ControlLoop('CartPole-v1', [], 200)\n",
        "ctrl.evaluate(np.array(np.random.normal(size=ctrl.net.nweights)));"
      ],
      "execution_count": 0,
      "outputs": []
    },
    {
      "cell_type": "markdown",
      "metadata": {
        "id": "0UB35rCMh-d6",
        "colab_type": "text"
      },
      "source": [
        "#### 3.3 **[3pt]** Solve the OpenAI Gym Cartpole using Neuroevolution for Direct Policy Search. Use only code written by you in the previous questions: the Recurrent Neural Network implementation with the `set_weights()` method, the control loop fitness function, and your $(1+1)$-ES.\n",
        "\n",
        "- CAREFUL: your ES implementation was tested on the Sphere problem, so it is currently tuned for minimization. The OpenAI Gym on the other hand aims at maximizing a score. The simplest way around this is to go up into the ControlLoop above and return the _negated_ cumulative score as the fitness.\n",
        "- If everything is correct it should amount to just a few lines of code. But they work on top of the ES, NN and Control you wrote before, so take your time if it gives you problems.\n",
        "- In the end I'm running 1000 generations with a starting sigma of -.1. The CartPole is limited to 500 steps. Remember that the $(1+1)$-ES is very poor in terms of exploration, since it creates only one individual at each generation, so give it a few tries. On the other hand it is much easier to code (and debug) ;)"
      ]
    },
    {
      "cell_type": "code",
      "metadata": {
        "id": "hm6BKNb2h-d6",
        "colab_type": "code",
        "colab": {
          "base_uri": "https://localhost:8080/",
          "height": 305
        },
        "outputId": "cb188ef2-8f90-49f8-e001-c17029661a0b"
      },
      "source": [
        "ctrl = ControlLoop('CartPole-v1', [], 500)\n",
        "es = ES11(ndims=ctrl.net.nweights, sigma = 0.1, fitness = ctrl.evaluate)\n",
        "es.run(500)\n",
        "es.plot()\n",
        "ctrl.evaluate(es.x)"
      ],
      "execution_count": 28,
      "outputs": [
        {
          "output_type": "stream",
          "text": [
            "...................................................................................................................................................................................................................................................................................................................................................................................................................................................................................................................."
          ],
          "name": "stdout"
        },
        {
          "output_type": "execute_result",
          "data": {
            "text/plain": [
              "-10.0"
            ]
          },
          "metadata": {
            "tags": []
          },
          "execution_count": 28
        },
        {
          "output_type": "display_data",
          "data": {
            "image/png": "[encoded data removed]",
            "text/plain": [
              "<Figure size 432x288 with 1 Axes>"
            ]
          },
          "metadata": {
            "tags": [],
            "needs_background": "light"
          }
        }
      ]
    },
    {
      "cell_type": "markdown",
      "metadata": {
        "id": "90dUSgxxh-d9",
        "colab_type": "text"
      },
      "source": [
        "#### 3.4 **[3pt]** Solve the OpenAI Gym Cartpole using Neuroevolution for Direct Policy Search. Use both NN and ES implementations from a library.\n",
        "\n",
        "- My (biased) advice for the neural network is to go with [`tinynet`](https://github.com/giuse/tinynet) if you can install it (`pipenv install tinynet` locally, but you need to get around `!pip` commands on Colab). Alternatively you can always use Keras, it's just [a bit more complicated](https://keras.io/api/models/model_saving_apis/#setweights-method).\n",
        "- For the black-box optimization, evolutionary algorithms have not yet been integrated in scikit-learn. You may find some implementation on [GitHub](https://www.google.com/search?q=scikit-learn+evolutionary+algorithms), but it won't likely be better than your implementation above. You can find some state-of-the-art algorithm [if you know where to look](https://github.com/openai/evolution-strategies-starter), but it is still not meant for the general public. The industry standard is still going for the `pycma` package, as instructed [here](https://github.com/CMA-ES/pycma) (or just `pipenv install cma`). The instructions are [here](https://pypi.org/project/cma/), and what you need is basically these lines:\n",
        "```python\n",
        "es = cma.CMAEvolutionStrategy(<initial center>, <initial sigma>, <options>)\n",
        "es.optimize(<per-individual fitness function>)\n",
        "print(es.result_pretty())\n",
        "```\n",
        "The third argument `options` is optional, and is a dictionary of options [like these](https://github.com/CMA-ES/pycma/blob/025ef1fed91c86690a21e9ed81713062d29398ff/cma/evolution_strategy.py#L416). The full documentation (for the brave) can be found [here](http://cma.gforge.inria.fr/apidocs-pycma/cma.evolution_strategy.html#fmin).\n",
        "- Feel free to reuse the control loop written above -- you may need to refactor it to take a neural network as a parameter. Or rewrite it from scratch ;)\n",
        "- To make sure everything is working, try printing the action in the fitness after every network activation.\n",
        "- Also careful with minimization/maximization: many implementations (including `pycma`) by default minimize their fitness, while you want to maximize scores in the OpenAI Gym. Thus the fitness should return the negative of the score.\n",
        "- For something as simple as a policy on the Cartpole, you don't need recurrent connections, hidden layers or nonlinear activations, and with only 2 neurons and 10 weights already 10-15 generations (option `{'maxiter':10}` should get you a perfect controller. Compare your final setup with the complexity (and runtime) of the RL implementation from last week.\n",
        "- Feel free to start from a standard normal distribution with a mean of `np.zeros` and sigma `1`. Feel free to verify experimentally the algorithm's robustness to initial conditions."
      ]
    },
    {
      "cell_type": "code",
      "metadata": {
        "id": "25fAYBsvh-d9",
        "colab_type": "code",
        "colab": {
          "base_uri": "https://localhost:8080/",
          "height": 477
        },
        "outputId": "10f0fc09-7bb4-4ca9-d2fc-29b807db3871"
      },
      "source": [
        "!pip install tinynet\n",
        "!pip install cma\n",
        "\n",
        "import tinynet\n",
        "import cma\n",
        "from time import sleep\n",
        "\n",
        "env = gym.make('CartPole-v1')\n",
        "\n",
        "nactions = env.action_space.n\n",
        "ninputs = env.reset().size\n",
        "\n",
        "hidden = []\n",
        "net_struct = [ninputs, *hidden, nactions]\n",
        "\n",
        "net = tinynet.FFNN(net_struct)\n",
        "print(f\"nweights: {net.nweights}\")\n",
        "\n",
        "rseed = np.random.randint(1e10)\n",
        "\n",
        "def fitness(ind, render=False):\n",
        "  env.seed(rseed)\n",
        "  obs = env.reset()\n",
        "  score = 0\n",
        "  done = False\n",
        "  net.set_weights(ind)\n",
        "\n",
        "  while not done:\n",
        "    if render:\n",
        "      env.render()\n",
        "      sleep(0.01)\n",
        "    action = net.activate(obs).argmax\n",
        "    obs, rew, done, info = env.step(action)\n",
        "    score += rew\n",
        "    if render: env.render()\n",
        "  return -score\n",
        "\n",
        "es = cma.CMAEvolutionStrategy(np.zeros(net.nweights), 1, {'maxiter': 50})\n",
        "es.optimize(fitness)\n",
        "\n",
        "best = es.best.get()[0]\n",
        "best_fit = fitness(best, render = True)\n",
        "env.close()\n",
        "\n",
        "print(f\"Best Fitness: {best_fit}(best possible score 500)\")\n"
      ],
      "execution_count": 34,
      "outputs": [
        {
          "output_type": "stream",
          "text": [
            "Requirement already satisfied: tinynet in /usr/local/lib/python3.6/dist-packages (0.1.2)\n",
            "Requirement already satisfied: numpy in /usr/local/lib/python3.6/dist-packages (from tinynet) (1.18.5)\n",
            "Requirement already satisfied: cma in /usr/local/lib/python3.6/dist-packages (3.0.3)\n",
            "Requirement already satisfied: numpy in /usr/local/lib/python3.6/dist-packages (from cma) (1.18.5)\n",
            "nweights: 10\n",
            "(5_w,10)-aCMA-ES (mu_w=3.2,w_1=45%) in dimension 10 (seed=459529, Tue Jun 16 12:01:58 2020)\n"
          ],
          "name": "stdout"
        },
        {
          "output_type": "error",
          "ename": "AssertionError",
          "evalue": "ignored",
          "traceback": [
            "\u001b[0;31m---------------------------------------------------------------------------\u001b[0m",
            "\u001b[0;31mAssertionError\u001b[0m                            Traceback (most recent call last)",
            "\u001b[0;32m<ipython-input-34-997bef62ef7b>\u001b[0m in \u001b[0;36m<module>\u001b[0;34m()\u001b[0m\n\u001b[1;32m     37\u001b[0m \u001b[0;34m\u001b[0m\u001b[0m\n\u001b[1;32m     38\u001b[0m \u001b[0mes\u001b[0m \u001b[0;34m=\u001b[0m \u001b[0mcma\u001b[0m\u001b[0;34m.\u001b[0m\u001b[0mCMAEvolutionStrategy\u001b[0m\u001b[0;34m(\u001b[0m\u001b[0mnp\u001b[0m\u001b[0;34m.\u001b[0m\u001b[0mzeros\u001b[0m\u001b[0;34m(\u001b[0m\u001b[0mnet\u001b[0m\u001b[0;34m.\u001b[0m\u001b[0mnweights\u001b[0m\u001b[0;34m)\u001b[0m\u001b[0;34m,\u001b[0m \u001b[0;36m1\u001b[0m\u001b[0;34m,\u001b[0m \u001b[0;34m{\u001b[0m\u001b[0;34m'maxiter'\u001b[0m\u001b[0;34m:\u001b[0m \u001b[0;36m50\u001b[0m\u001b[0;34m}\u001b[0m\u001b[0;34m)\u001b[0m\u001b[0;34m\u001b[0m\u001b[0;34m\u001b[0m\u001b[0m\n\u001b[0;32m---> 39\u001b[0;31m \u001b[0mes\u001b[0m\u001b[0;34m.\u001b[0m\u001b[0moptimize\u001b[0m\u001b[0;34m(\u001b[0m\u001b[0mfitness\u001b[0m\u001b[0;34m)\u001b[0m\u001b[0;34m\u001b[0m\u001b[0;34m\u001b[0m\u001b[0m\n\u001b[0m\u001b[1;32m     40\u001b[0m \u001b[0;34m\u001b[0m\u001b[0m\n\u001b[1;32m     41\u001b[0m \u001b[0mbest\u001b[0m \u001b[0;34m=\u001b[0m \u001b[0mes\u001b[0m\u001b[0;34m.\u001b[0m\u001b[0mbest\u001b[0m\u001b[0;34m.\u001b[0m\u001b[0mget\u001b[0m\u001b[0;34m(\u001b[0m\u001b[0;34m)\u001b[0m\u001b[0;34m[\u001b[0m\u001b[0;36m0\u001b[0m\u001b[0;34m]\u001b[0m\u001b[0;34m\u001b[0m\u001b[0;34m\u001b[0m\u001b[0m\n",
            "\u001b[0;32m/usr/local/lib/python3.6/dist-packages/cma/interfaces.py\u001b[0m in \u001b[0;36moptimize\u001b[0;34m(self, objective_fct, maxfun, iterations, min_iterations, args, verb_disp, callback, n_jobs, **kwargs)\u001b[0m\n\u001b[1;32m    206\u001b[0m                 \u001b[0mX\u001b[0m \u001b[0;34m=\u001b[0m \u001b[0mself\u001b[0m\u001b[0;34m.\u001b[0m\u001b[0mask\u001b[0m\u001b[0;34m(\u001b[0m\u001b[0;34m)\u001b[0m  \u001b[0;31m# deliver candidate solutions\u001b[0m\u001b[0;34m\u001b[0m\u001b[0;34m\u001b[0m\u001b[0m\n\u001b[1;32m    207\u001b[0m                 \u001b[0;31m# fitvals = [objective_fct(x, *args) for x in X]\u001b[0m\u001b[0;34m\u001b[0m\u001b[0;34m\u001b[0m\u001b[0;34m\u001b[0m\u001b[0m\n\u001b[0;32m--> 208\u001b[0;31m                 \u001b[0mfitvals\u001b[0m \u001b[0;34m=\u001b[0m \u001b[0meval_all\u001b[0m\u001b[0;34m(\u001b[0m\u001b[0mX\u001b[0m\u001b[0;34m,\u001b[0m \u001b[0margs\u001b[0m\u001b[0;34m=\u001b[0m\u001b[0margs\u001b[0m\u001b[0;34m)\u001b[0m\u001b[0;34m\u001b[0m\u001b[0;34m\u001b[0m\u001b[0m\n\u001b[0m\u001b[1;32m    209\u001b[0m                 \u001b[0mcevals\u001b[0m \u001b[0;34m+=\u001b[0m \u001b[0mlen\u001b[0m\u001b[0;34m(\u001b[0m\u001b[0mfitvals\u001b[0m\u001b[0;34m)\u001b[0m\u001b[0;34m\u001b[0m\u001b[0;34m\u001b[0m\u001b[0m\n\u001b[1;32m    210\u001b[0m                 \u001b[0mself\u001b[0m\u001b[0;34m.\u001b[0m\u001b[0mtell\u001b[0m\u001b[0;34m(\u001b[0m\u001b[0mX\u001b[0m\u001b[0;34m,\u001b[0m \u001b[0mfitvals\u001b[0m\u001b[0;34m)\u001b[0m  \u001b[0;31m# all the work is done here\u001b[0m\u001b[0;34m\u001b[0m\u001b[0;34m\u001b[0m\u001b[0m\n",
            "\u001b[0;32m/usr/local/lib/python3.6/dist-packages/cma/optimization_tools.py\u001b[0m in \u001b[0;36m__call__\u001b[0;34m(self, solutions, fitness_function, args, timeout)\u001b[0m\n\u001b[1;32m    269\u001b[0m                              \" passed in `__init__` or `__call__`\")\n\u001b[1;32m    270\u001b[0m         \u001b[0;32mif\u001b[0m \u001b[0;32mnot\u001b[0m \u001b[0mself\u001b[0m\u001b[0;34m.\u001b[0m\u001b[0mpool\u001b[0m\u001b[0;34m:\u001b[0m\u001b[0;34m\u001b[0m\u001b[0;34m\u001b[0m\u001b[0m\n\u001b[0;32m--> 271\u001b[0;31m             \u001b[0;32mreturn\u001b[0m \u001b[0;34m[\u001b[0m\u001b[0mfitness_function\u001b[0m\u001b[0;34m(\u001b[0m\u001b[0mx\u001b[0m\u001b[0;34m,\u001b[0m \u001b[0;34m*\u001b[0m\u001b[0margs\u001b[0m\u001b[0;34m)\u001b[0m \u001b[0;32mfor\u001b[0m \u001b[0mx\u001b[0m \u001b[0;32min\u001b[0m \u001b[0msolutions\u001b[0m\u001b[0;34m]\u001b[0m\u001b[0;34m\u001b[0m\u001b[0;34m\u001b[0m\u001b[0m\n\u001b[0m\u001b[1;32m    272\u001b[0m         warning_str = (\"`fitness_function` must be a function, not a\"\n\u001b[1;32m    273\u001b[0m                        \u001b[0;34m\" `lambda` or an instancemethod, in order to work with\"\u001b[0m\u001b[0;34m\u001b[0m\u001b[0;34m\u001b[0m\u001b[0m\n",
            "\u001b[0;32m/usr/local/lib/python3.6/dist-packages/cma/optimization_tools.py\u001b[0m in \u001b[0;36m<listcomp>\u001b[0;34m(.0)\u001b[0m\n\u001b[1;32m    269\u001b[0m                              \" passed in `__init__` or `__call__`\")\n\u001b[1;32m    270\u001b[0m         \u001b[0;32mif\u001b[0m \u001b[0;32mnot\u001b[0m \u001b[0mself\u001b[0m\u001b[0;34m.\u001b[0m\u001b[0mpool\u001b[0m\u001b[0;34m:\u001b[0m\u001b[0;34m\u001b[0m\u001b[0;34m\u001b[0m\u001b[0m\n\u001b[0;32m--> 271\u001b[0;31m             \u001b[0;32mreturn\u001b[0m \u001b[0;34m[\u001b[0m\u001b[0mfitness_function\u001b[0m\u001b[0;34m(\u001b[0m\u001b[0mx\u001b[0m\u001b[0;34m,\u001b[0m \u001b[0;34m*\u001b[0m\u001b[0margs\u001b[0m\u001b[0;34m)\u001b[0m \u001b[0;32mfor\u001b[0m \u001b[0mx\u001b[0m \u001b[0;32min\u001b[0m \u001b[0msolutions\u001b[0m\u001b[0;34m]\u001b[0m\u001b[0;34m\u001b[0m\u001b[0;34m\u001b[0m\u001b[0m\n\u001b[0m\u001b[1;32m    272\u001b[0m         warning_str = (\"`fitness_function` must be a function, not a\"\n\u001b[1;32m    273\u001b[0m                        \u001b[0;34m\" `lambda` or an instancemethod, in order to work with\"\u001b[0m\u001b[0;34m\u001b[0m\u001b[0;34m\u001b[0m\u001b[0m\n",
            "\u001b[0;32m<ipython-input-34-997bef62ef7b>\u001b[0m in \u001b[0;36mfitness\u001b[0;34m(ind, render)\u001b[0m\n\u001b[1;32m     31\u001b[0m       \u001b[0msleep\u001b[0m\u001b[0;34m(\u001b[0m\u001b[0;36m0.01\u001b[0m\u001b[0;34m)\u001b[0m\u001b[0;34m\u001b[0m\u001b[0;34m\u001b[0m\u001b[0m\n\u001b[1;32m     32\u001b[0m     \u001b[0maction\u001b[0m \u001b[0;34m=\u001b[0m \u001b[0mnet\u001b[0m\u001b[0;34m.\u001b[0m\u001b[0mactivate\u001b[0m\u001b[0;34m(\u001b[0m\u001b[0mobs\u001b[0m\u001b[0;34m)\u001b[0m\u001b[0;34m.\u001b[0m\u001b[0margmax\u001b[0m\u001b[0;34m\u001b[0m\u001b[0;34m\u001b[0m\u001b[0m\n\u001b[0;32m---> 33\u001b[0;31m     \u001b[0mobs\u001b[0m\u001b[0;34m,\u001b[0m \u001b[0mrew\u001b[0m\u001b[0;34m,\u001b[0m \u001b[0mdone\u001b[0m\u001b[0;34m,\u001b[0m \u001b[0minfo\u001b[0m \u001b[0;34m=\u001b[0m \u001b[0menv\u001b[0m\u001b[0;34m.\u001b[0m\u001b[0mstep\u001b[0m\u001b[0;34m(\u001b[0m\u001b[0maction\u001b[0m\u001b[0;34m)\u001b[0m\u001b[0;34m\u001b[0m\u001b[0;34m\u001b[0m\u001b[0m\n\u001b[0m\u001b[1;32m     34\u001b[0m     \u001b[0mscore\u001b[0m \u001b[0;34m+=\u001b[0m \u001b[0mrew\u001b[0m\u001b[0;34m\u001b[0m\u001b[0;34m\u001b[0m\u001b[0m\n\u001b[1;32m     35\u001b[0m     \u001b[0;32mif\u001b[0m \u001b[0mrender\u001b[0m\u001b[0;34m:\u001b[0m \u001b[0menv\u001b[0m\u001b[0;34m.\u001b[0m\u001b[0mrender\u001b[0m\u001b[0;34m(\u001b[0m\u001b[0;34m)\u001b[0m\u001b[0;34m\u001b[0m\u001b[0;34m\u001b[0m\u001b[0m\n",
            "\u001b[0;32m/usr/local/lib/python3.6/dist-packages/gym/wrappers/time_limit.py\u001b[0m in \u001b[0;36mstep\u001b[0;34m(self, action)\u001b[0m\n\u001b[1;32m     14\u001b[0m     \u001b[0;32mdef\u001b[0m \u001b[0mstep\u001b[0m\u001b[0;34m(\u001b[0m\u001b[0mself\u001b[0m\u001b[0;34m,\u001b[0m \u001b[0maction\u001b[0m\u001b[0;34m)\u001b[0m\u001b[0;34m:\u001b[0m\u001b[0;34m\u001b[0m\u001b[0;34m\u001b[0m\u001b[0m\n\u001b[1;32m     15\u001b[0m         \u001b[0;32massert\u001b[0m \u001b[0mself\u001b[0m\u001b[0;34m.\u001b[0m\u001b[0m_elapsed_steps\u001b[0m \u001b[0;32mis\u001b[0m \u001b[0;32mnot\u001b[0m \u001b[0;32mNone\u001b[0m\u001b[0;34m,\u001b[0m \u001b[0;34m\"Cannot call env.step() before calling reset()\"\u001b[0m\u001b[0;34m\u001b[0m\u001b[0;34m\u001b[0m\u001b[0m\n\u001b[0;32m---> 16\u001b[0;31m         \u001b[0mobservation\u001b[0m\u001b[0;34m,\u001b[0m \u001b[0mreward\u001b[0m\u001b[0;34m,\u001b[0m \u001b[0mdone\u001b[0m\u001b[0;34m,\u001b[0m \u001b[0minfo\u001b[0m \u001b[0;34m=\u001b[0m \u001b[0mself\u001b[0m\u001b[0;34m.\u001b[0m\u001b[0menv\u001b[0m\u001b[0;34m.\u001b[0m\u001b[0mstep\u001b[0m\u001b[0;34m(\u001b[0m\u001b[0maction\u001b[0m\u001b[0;34m)\u001b[0m\u001b[0;34m\u001b[0m\u001b[0;34m\u001b[0m\u001b[0m\n\u001b[0m\u001b[1;32m     17\u001b[0m         \u001b[0mself\u001b[0m\u001b[0;34m.\u001b[0m\u001b[0m_elapsed_steps\u001b[0m \u001b[0;34m+=\u001b[0m \u001b[0;36m1\u001b[0m\u001b[0;34m\u001b[0m\u001b[0;34m\u001b[0m\u001b[0m\n\u001b[1;32m     18\u001b[0m         \u001b[0;32mif\u001b[0m \u001b[0mself\u001b[0m\u001b[0;34m.\u001b[0m\u001b[0m_elapsed_steps\u001b[0m \u001b[0;34m>=\u001b[0m \u001b[0mself\u001b[0m\u001b[0;34m.\u001b[0m\u001b[0m_max_episode_steps\u001b[0m\u001b[0;34m:\u001b[0m\u001b[0;34m\u001b[0m\u001b[0;34m\u001b[0m\u001b[0m\n",
            "\u001b[0;32m/usr/local/lib/python3.6/dist-packages/gym/envs/classic_control/cartpole.py\u001b[0m in \u001b[0;36mstep\u001b[0;34m(self, action)\u001b[0m\n\u001b[1;32m    102\u001b[0m     \u001b[0;32mdef\u001b[0m \u001b[0mstep\u001b[0m\u001b[0;34m(\u001b[0m\u001b[0mself\u001b[0m\u001b[0;34m,\u001b[0m \u001b[0maction\u001b[0m\u001b[0;34m)\u001b[0m\u001b[0;34m:\u001b[0m\u001b[0;34m\u001b[0m\u001b[0;34m\u001b[0m\u001b[0m\n\u001b[1;32m    103\u001b[0m         \u001b[0merr_msg\u001b[0m \u001b[0;34m=\u001b[0m \u001b[0;34m\"%r (%s) invalid\"\u001b[0m \u001b[0;34m%\u001b[0m \u001b[0;34m(\u001b[0m\u001b[0maction\u001b[0m\u001b[0;34m,\u001b[0m \u001b[0mtype\u001b[0m\u001b[0;34m(\u001b[0m\u001b[0maction\u001b[0m\u001b[0;34m)\u001b[0m\u001b[0;34m)\u001b[0m\u001b[0;34m\u001b[0m\u001b[0;34m\u001b[0m\u001b[0m\n\u001b[0;32m--> 104\u001b[0;31m         \u001b[0;32massert\u001b[0m \u001b[0mself\u001b[0m\u001b[0;34m.\u001b[0m\u001b[0maction_space\u001b[0m\u001b[0;34m.\u001b[0m\u001b[0mcontains\u001b[0m\u001b[0;34m(\u001b[0m\u001b[0maction\u001b[0m\u001b[0;34m)\u001b[0m\u001b[0;34m,\u001b[0m \u001b[0merr_msg\u001b[0m\u001b[0;34m\u001b[0m\u001b[0;34m\u001b[0m\u001b[0m\n\u001b[0m\u001b[1;32m    105\u001b[0m \u001b[0;34m\u001b[0m\u001b[0m\n\u001b[1;32m    106\u001b[0m         \u001b[0mx\u001b[0m\u001b[0;34m,\u001b[0m \u001b[0mx_dot\u001b[0m\u001b[0;34m,\u001b[0m \u001b[0mtheta\u001b[0m\u001b[0;34m,\u001b[0m \u001b[0mtheta_dot\u001b[0m \u001b[0;34m=\u001b[0m \u001b[0mself\u001b[0m\u001b[0;34m.\u001b[0m\u001b[0mstate\u001b[0m\u001b[0;34m\u001b[0m\u001b[0;34m\u001b[0m\u001b[0m\n",
            "\u001b[0;31mAssertionError\u001b[0m: <built-in method argmax of numpy.ndarray object at 0x7ffaa1c888f0> (<class 'builtin_function_or_method'>) invalid"
          ]
        }
      ]
    },
    {
      "cell_type": "markdown",
      "metadata": {
        "id": "-XH9w78oh-eA",
        "colab_type": "text"
      },
      "source": [
        "# At the end of the exercise"
      ]
    },
    {
      "cell_type": "markdown",
      "metadata": {
        "id": "S3urR8vCh-eA",
        "colab_type": "text"
      },
      "source": [
        "Bonus question with no points! Answering this will have no influence on your scoring, not at the assignment and not towards the exam score -- really feel free to ignore it with no consequence. But solving it will reward you with skills that will make the next lectures easier, give you real applications, and will be good practice towards the exam.\n",
        "\n",
        "The solution for this questions will not be included in the regular lab solutions pdf, but you are welcome to open a discussion on the Moodle: we will support your addressing it, and you may meet other students that choose to solve this, and find a teammate for the next assignment that is willing to do things for fun and not only for score :)"
      ]
    },
    {
      "cell_type": "markdown",
      "metadata": {
        "id": "rkylxl4gh-eB",
        "colab_type": "text"
      },
      "source": [
        "#### BONUS **[ZERO pt]** Try solving other OpenAI Gym Environments using Neuroevolution."
      ]
    },
    {
      "cell_type": "markdown",
      "metadata": {
        "id": "j3T3kzYMh-eB",
        "colab_type": "text"
      },
      "source": [
        "#### BONUS **[ZERO pt]** Can you address [Atari games](https://gym.openai.com/envs/#atari)? It might be better to use convolutional networks. Just put together your hand-written convolution with your hand-written network, or write the model on Keras and use `set_weights()`. How would you design a network to play the game?"
      ]
    },
    {
      "cell_type": "markdown",
      "metadata": {
        "id": "oIyE11yuh-eB",
        "colab_type": "text"
      },
      "source": [
        "### Final considerations"
      ]
    },
    {
      "cell_type": "markdown",
      "metadata": {
        "id": "gSD2zmKJh-eC",
        "colab_type": "text"
      },
      "source": [
        "*Machine Learning is the art of adapting generic solvers to specific problems.*\n",
        "\n",
        "- *Art*, because you need to create something new. The evaluation of new methods needs to be rigorously scientific, but ML research is first of all a creative process.\n",
        "- *Generic solvers*, because models need the ability to correspond to a broad set of solutions, based on their parametrization.\n",
        "- *Adapting*, because you need algorithms to find that ideal parametrization. You can call this learning, searching, updating, feedback, even guessing: anything that adapts the parametrization is fair game, so don't restrict yourself to what is already known.\n",
        "- *Specific problems*, because you need to remember that the problem is king. Having an amazing method that does not work on your problem has no value for you. The history of ML is chocked full of restrictions, requirements and limitations because we were figuring out what a model is, what learning is, and what can we learn from. We are finally approaching much broader classes of problems, and we need to find novel ways to address them with eyes uncluttered by preconceptions.\n",
        "\n",
        "Finally, a last remark from my personal side. Success in life necessarily requires both top skill and top luck. Work hard for your skills because those you can improve, but do not take outcomes personally if you are unlucky. And do not envy the lucky unskilled, as eventually they fall the hardest.\n",
        "\n",
        "Hope this course gave you a new skill. Good luck out there."
      ]
    }
  ]
}