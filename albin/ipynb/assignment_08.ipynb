{
  "nbformat": 4,
  "nbformat_minor": 0,
  "metadata": {
    "kernelspec": {
      "display_name": "Python 3",
      "language": "python",
      "name": "python3"
    },
    "language_info": {
      "codemirror_mode": {
        "name": "ipython",
        "version": 3
      },
      "file_extension": ".py",
      "mimetype": "text/x-python",
      "name": "python",
      "nbconvert_exporter": "python",
      "pygments_lexer": "ipython3",
      "version": "3.6.9"
    },
    "colab": {
      "name": "assignment_08.ipynb",
      "provenance": [],
      "collapsed_sections": []
    }
  },
  "cells": [
    {
      "cell_type": "markdown",
      "metadata": {
        "id": "tw-SWo-tcUTp",
        "colab_type": "text"
      },
      "source": [
        "Please fill in your name and that of your teammate.\n",
        "\n",
        "You: Albin Aliu\n",
        "\n",
        "Teammate: (Christoph Jutzet)"
      ]
    },
    {
      "cell_type": "markdown",
      "metadata": {
        "id": "hTE1E0WDN3sd",
        "colab_type": "text"
      },
      "source": [
        ""
      ]
    },
    {
      "cell_type": "markdown",
      "metadata": {
        "id": "eS6MKtYWcUTr",
        "colab_type": "text"
      },
      "source": [
        "# Introduction"
      ]
    },
    {
      "cell_type": "markdown",
      "metadata": {
        "id": "_XzCeVwScUTt",
        "colab_type": "text"
      },
      "source": [
        "Welcome to the eighth lab. Today we have _way too many_ topics to cover to do everything by hand as usual, so I selected different depths to each topic to make sure you gain full insight and applicable experience.\n",
        "\n",
        "As you go through the exercise and you apply algorithm after algorithm, method after method, I want you to think about the actual **competence** you are accumulating over the months, both theoretical and applied. Think about it, and be confident: covering so many, so different algorithms in a single lab may sound like a challenge to the version of Past You from barely two months ago, but I believe Today's You is capable of taking on this whale of a lab and have space for more.\n",
        "\n",
        "Working with many algorithms gives me another chance to shake you out of your confidence zone with respect to _data processing_ . Basically each algorithm requires different formats, so you cannot just define the data on top and keep reusing it: you will need to re-load the dataset for each exercise, applying a different processing each time.\n",
        "Be flexible, and don't forget your train-test splits (and their correct usage) -- I should not need to mention it anymore, right? :)\n",
        "\n",
        "Good luck, have fun!"
      ]
    },
    {
      "cell_type": "markdown",
      "metadata": {
        "id": "sS4oHuMWcUTu",
        "colab_type": "text"
      },
      "source": [
        "### How to pass the lab?"
      ]
    },
    {
      "cell_type": "markdown",
      "metadata": {
        "id": "xjZKUA_JcUTv",
        "colab_type": "text"
      },
      "source": [
        "Below you find the exercise questions. Each question awarding points is numbered and states the number of points like this: **[0pt]**. To answer a question, fill the cell below with your answer (markdown for text, code for implementation). Incorrect or incomplete answers are in principle worth 0 points: to assign partial reward is only up to teacher discretion. Over-complete answers do not award extra points (though they are appreciated and will be kept under consideration). Save your work frequently! (`ctrl+s`)\n",
        "\n",
        "**You need at least 16 points (out of 24 available) to pass** (66%)."
      ]
    },
    {
      "cell_type": "markdown",
      "metadata": {
        "id": "RuwWwvgTcUTw",
        "colab_type": "text"
      },
      "source": [
        "# 1. Fundamentals"
      ]
    },
    {
      "cell_type": "markdown",
      "metadata": {
        "id": "IpS7WOb-cUTx",
        "colab_type": "text"
      },
      "source": [
        "#### 1.1 **[1pt]** Write an example (in English) of a Machine Learning application for which the Supervised Learning paradigm is not (directly) applicable."
      ]
    },
    {
      "cell_type": "markdown",
      "metadata": {
        "id": "0AkZof7qcUT0",
        "colab_type": "text"
      },
      "source": [
        "Autonomous Driving: there are multiple correct \"outputs\" for every input and building a dataset of correct reactions is unfeasible for a single driver."
      ]
    },
    {
      "cell_type": "markdown",
      "metadata": {
        "id": "es3oEHsRcUT2",
        "colab_type": "text"
      },
      "source": [
        "#### 1.2 **[1pt]** Write an example (in English) of a Machine Learning application for which the Unsupervised Learning paradigm is an ideal choice."
      ]
    },
    {
      "cell_type": "markdown",
      "metadata": {
        "id": "8eMfpLOmcUT3",
        "colab_type": "text"
      },
      "source": [
        "Image Segmentation: by finding certain groups of pixels in an image with similar colors and within a minimal distance from each other, it is possible to extract shapes and build masks. "
      ]
    },
    {
      "cell_type": "markdown",
      "metadata": {
        "id": "34lYm-p4cUT4",
        "colab_type": "text"
      },
      "source": [
        "# 2. Clustering"
      ]
    },
    {
      "cell_type": "markdown",
      "metadata": {
        "id": "h_Ry_1-ZcUT5",
        "colab_type": "text"
      },
      "source": [
        "#### 2.1 **[2pt]** Explain the $k$-means algorithm using a few words of your own. Particularly, state any requirements, and what the user needs to define.\n",
        "\n",
        "- To use \"your own words\", a trick is to read the slide, decide which things you need to mention, then close the slide and imagine a friend with only basic technical background in front of you. Now tell this person the things that you decided to mention.\n",
        "- No need to go crazy. This is a type of (vague!) question that you will need to answer over and over, typically to convince your boss to let you use a particular method, or to guide someone with less knowledge in the field. It's not a right/wrong question: you need to show that you have competence, list the key points, be brief and to the point.\n",
        "- And of course, copy+paste+change words from the slide will score you 0 points :) while a sincere, fair try that is not wrong will pass, so no worries."
      ]
    },
    {
      "cell_type": "markdown",
      "metadata": {
        "id": "fg1HlzFkcUT6",
        "colab_type": "text"
      },
      "source": [
        "You define the hyperparameter $k$, which controls the numbers of clusters in which you want to split the data. So, you have now k points (which can be arbitrarily initialized or there are optimal algorithms for it) and you move them around based on the inputs you have. Also, you need to have some kind of similarity measure. Then, for every input you compute the similarity to one of our points and take that point which is closest to our input. Update this point accoridng to a learning rate $\\eta$."
      ]
    },
    {
      "cell_type": "markdown",
      "metadata": {
        "id": "9ze9YfuBcUT6",
        "colab_type": "text"
      },
      "source": [
        "For the next question, we need to understand how to evaluate a clustering algorithm. The main difference between clustering and classification is that, well, it's UL not SL: the labels are not involved in the training, and they should not be involved in the testing. So how do you test the performance of a clustering algorithm?\n",
        "\n",
        "Each mean/cluster gets a numerical identifier, the only problem is that the number does not correspond to our labels because it's assigned randomly based on initialization. The most naïve way then is to bruteforce all mappings between the labels and the cluster numbers: the one that makes the most sense is the intended one. Since this is orthogonal to the lecture and may take a long time to debug, here is a snippet of code that does that.\n",
        "\n",
        "Read it, understand it, play with it, and possibly improve it. Bruteforcing is rarely optimal, which is the very reason why ML exists :)\n",
        "(note: it may be easier to understand it if you first go ahead with answering the next question first, then come back to this)"
      ]
    },
    {
      "cell_type": "code",
      "metadata": {
        "id": "2scBkemGag36",
        "colab_type": "code",
        "colab": {}
      },
      "source": [
        "# Load libs & config\n",
        "%matplotlib inline\n",
        "import matplotlib.pyplot as plt\n",
        "import seaborn as sns\n",
        "import numpy as np\n",
        "import pandas as pd\n",
        "sns.set(rc={'figure.figsize':(8,6)}, style=\"whitegrid\")\n",
        "df = sns.load_dataset('iris')\n",
        "\n",
        "# split into train and test\n",
        "from sklearn.model_selection import train_test_split\n",
        "train, test = train_test_split(df, test_size=0.2) # 80-20 split\n"
      ],
      "execution_count": 12,
      "outputs": []
    },
    {
      "cell_type": "code",
      "metadata": {
        "id": "IdU6VgYqcUT7",
        "colab_type": "code",
        "colab": {}
      },
      "source": [
        "# Goal: convert the labels to the cluster numbers generated by k-means\n",
        "import itertools\n",
        "species_names = sns.load_dataset('iris').species.unique()\n",
        "possible_codes = itertools.permutations(range(len(species_names)))\n",
        "converters = [dict(zip(species_names, perm)) for perm in possible_codes]\n",
        "# try printing each of these variables and understand what they do\n",
        "\n",
        "def cluster_to_class(model, fn_that_counts_misclassified, x_test, y_test):\n",
        "    min_score = np.Infinity # we saw how to write a minimizer already right?\n",
        "    right_conversion = None\n",
        "    for converter in converters:\n",
        "        conv_y_test = y_test.replace(converter) # conveniently works with `dict`s\n",
        "        misclassified = fn_that_counts_misclassified(model, x_test, conv_y_test)\n",
        "        if misclassified < min_score:\n",
        "            min_score = misclassified\n",
        "            right_conversion = converter\n",
        "    return right_conversion\n",
        "\n",
        "## to use this function, you will need something like this\n",
        "# right_conversion = cluster_to_class(k_means_model, my_misclass_fn, x_test, y_test)\n",
        "# conv_y_test = y_test.replace(right_conversion)\n",
        "# k_means_misclassified = my_misclass_fn(k_means_model, x_test, conv_y_test)"
      ],
      "execution_count": 13,
      "outputs": []
    },
    {
      "cell_type": "markdown",
      "metadata": {
        "id": "CX8OnyH1cUUB",
        "colab_type": "text"
      },
      "source": [
        "#### 2.2 **[3pt]** Apply the scikit-learn implementation of the $k$-means algorithm to the Iris dataset (4 features, but drop the labels for training), and print a performance score of your choice.\n",
        "\n",
        "- Of course you want to pass $k=3$.\n",
        "- Passing the trained `KMeans` object to `print()` shows several useful parameters and their default values.\n",
        "- After you get it to work though, why don't you try $k=2$ or $k=4$ and see what happens when you have to _guess_ $k$ (which is the normal case in real applications).\n",
        "- For the performance score, remember this is [clustering, not classification](https://stackoverflow.com/a/48617825/6392246), which means `score()` will ignore the labels and print \"strange numbers\". No worries, you know how to make your own scoring from the past labs, right?\n",
        "- Notice how $k$-means is _very_ sensitive to initialization. To get a consistently better result you may want to explore options `max_iter`, `n_jobs` and of course `init`."
      ]
    },
    {
      "cell_type": "code",
      "metadata": {
        "id": "zfWqIKstcUUC",
        "colab_type": "code",
        "colab": {
          "base_uri": "https://localhost:8080/",
          "height": 153
        },
        "outputId": "03d07928-36d8-467c-d9fa-084b8b51e4d4"
      },
      "source": [
        "x_train = train.iloc[:,:-1]\n",
        "\n",
        "x_test = test.iloc[:,:-1]\n",
        "y_test = test['species']\n",
        "\n",
        "from sklearn.cluster import KMeans\n",
        "\n",
        "k=3\n",
        "kmeans = KMeans(n_clusters=k, random_state=0).fit(x_train)\n",
        "\n",
        "\n",
        "def my_score(model, x_test, y_test):\n",
        "  predictions = model.predict(x_test)\n",
        "  misclassified = (y_test != predictions).sum()\n",
        "  print(f\"misclassified: {misclassified}/{len(predictions)} ({misclassified/len(predictions)})\")\n",
        "  return misclassified\n",
        "\n",
        "right_conversion = cluster_to_class(kmeans, my_score, x_test, y_test)\n",
        "conv_y_test = y_test.replace(right_conversion)\n",
        "\n",
        "missclassified = my_score(kmeans, x_test, conv_y_test)\n",
        "\n",
        "missclassified"
      ],
      "execution_count": 17,
      "outputs": [
        {
          "output_type": "stream",
          "text": [
            "misclassified: 23/30 (0.7666666666666667)\n",
            "misclassified: 30/30 (1.0)\n",
            "misclassified: 2/30 (0.06666666666666667)\n",
            "misclassified: 17/30 (0.5666666666666667)\n",
            "misclassified: 20/30 (0.6666666666666666)\n",
            "misclassified: 28/30 (0.9333333333333333)\n",
            "misclassified: 2/30 (0.06666666666666667)\n"
          ],
          "name": "stdout"
        },
        {
          "output_type": "execute_result",
          "data": {
            "text/plain": [
              "2"
            ]
          },
          "metadata": {
            "tags": []
          },
          "execution_count": 17
        }
      ]
    },
    {
      "cell_type": "markdown",
      "metadata": {
        "id": "O2-QZg4KcUUL",
        "colab_type": "text"
      },
      "source": [
        "#### 2.3 **[1pt]** Plot the centroids learned with $k$-means on top of the data.\n",
        "\n",
        "- To get the centroids coordinates, access attribute `cluster_centers_` of the KMeans object. Here are some options I passed to `scatterplot` for visibility (remember you can use the [double-splat](https://stackoverflow.com/questions/36901/what-does-double-star-asterisk-and-star-asterisk-do-for-parameters) to transform the dict into keyword parameters):\n",
        "```python\n",
        "kwargs = {'marker':'X', 'color':'r', 's':200, 'label':'centroids'}\n",
        "```\n",
        "- The question does not specify the details of what to plot, so it's up to you to provide a correct and useful interpretation. You learned how to make useful plots, just be confident.\n",
        "- The simplest is of course to reproduce what we saw so far: one plot, `petal_width` vs. `petal_length`. As they are the last two features, make sure to pick the corresponding coordinates from the centroids. Remember your ranges and your `transpose()` ;) \n",
        "- Even fancier: why not converting it to a DataFrame? Remember to drop the `species` column when constructing the `df`, as the centroids (learned with UL) have no species information (and thus one less column than iris): `columns=iris.columns.drop('species')`\n",
        "- After answering correctly, if you want to learn something useful and fancy, try plotting a [[PairGrid]](https://seaborn.pydata.org/generated/seaborn.PairGrid.html) that mimics a PairPlot but with added clusters off-diagonal. If you want the usual distributions on the diagonal, it is time to learn it is done with _Density Estimation_ (which is what you learned to do for Gaussians in NB), automated in Seaborn with `kdeplot()`."
      ]
    },
    {
      "cell_type": "code",
      "metadata": {
        "id": "llfiWe9mcUUM",
        "colab_type": "code",
        "colab": {
          "base_uri": "https://localhost:8080/",
          "height": 411
        },
        "outputId": "cf321dc8-cddb-439b-e1b7-b7d9064f584b"
      },
      "source": [
        "x = train['petal_length']\n",
        "y = train['petal_width']\n",
        "sns.scatterplot(x, y)\n",
        "\n",
        "dfcentorid = pd.DataFrame(kmeans.cluster_centers_[:, [-2, -1]], columns=['petal_length', 'petal_width'])\n",
        "sns.scatterplot(dfcentorid['petal_length'], dfcentorid['petal_width'], color = 'red')\n"
      ],
      "execution_count": 19,
      "outputs": [
        {
          "output_type": "execute_result",
          "data": {
            "text/plain": [
              "<matplotlib.axes._subplots.AxesSubplot at 0x7f7e05f2d4a8>"
            ]
          },
          "metadata": {
            "tags": []
          },
          "execution_count": 19
        },
        {
          "output_type": "display_data",
          "data": {
            "image/png": "[encoded data removed]",
            "text/plain": [
              "<Figure size 576x432 with 1 Axes>"
            ]
          },
          "metadata": {
            "tags": []
          }
        }
      ]
    },
    {
      "cell_type": "markdown",
      "metadata": {
        "id": "nTl5PibccUUQ",
        "colab_type": "text"
      },
      "source": [
        "Note: this is very basic, while a decent knowledge of $k$-means can typically be useful, as it cements the definition of clustering, centroid, expectation maximization, and the difference between clustering and classification. I strongly suggest you have a look at [[this very complete tutorial]](https://towardsdatascience.com/k-means-clustering-algorithm-applications-evaluation-methods-and-drawbacks-aa03e644b48a)."
      ]
    },
    {
      "cell_type": "markdown",
      "metadata": {
        "id": "qOJpk0BycUUR",
        "colab_type": "text"
      },
      "source": [
        "#### 2.4 **[2pt]** Train a scikit-learn OneClassSVM on the _versicolor_ class of the Iris dataset, and print the number of missed outliers.\n",
        "\n",
        "- Careful with the input: you need to train this SVM only on the subset of the train data where the species is `versicolor`. That's \"one-class\". The training should not have access to data from the other two species.\n",
        "- Also remember to drop the species column (as always) after selecting the lines with `versicolor`.\n",
        "- The test inputs should work as expected, but the test labels should be converted so that `versicolor` is `1` and the others are `-1` (because those are the model outputs for \"normal\" and \"outlier\").\n",
        "- Again, to compute the missed outliers, you cannot use `score()` or `plot_confusion_matrix()` because technically it's not a classifier. But you already made a function of the scoring code for the previous question right?"
      ]
    },
    {
      "cell_type": "code",
      "metadata": {
        "id": "3WC5rUqIcUUW",
        "colab_type": "code",
        "colab": {
          "base_uri": "https://localhost:8080/",
          "height": 68
        },
        "outputId": "1599b90e-df16-4893-fbe6-5639c61a50ac"
      },
      "source": [
        "df_3 = df\n",
        "\n",
        "# get all indices where species has labele versicolor.\n",
        "indices = df_3.loc[df_3['species'] == 'versicolor', 'species'].index\n",
        "\n",
        "# reduce dataframe\n",
        "df_3 = df_3.loc[indices]\n",
        "\n",
        "# drop species\n",
        "dfnl_3 = df_3.iloc[:,:-1]\n",
        "\n",
        "# split agian\n",
        "train_3, test_3 = train_test_split(dfnl_3, test_size=0.2) # 80-20 split\n",
        "\n",
        "\n",
        "from sklearn.svm import OneClassSVM\n",
        "\n",
        "# Train, kernel: (default=’rbf’) i.e exponential, gamma: ‘auto’, uses 1 / n_features.\n",
        "clf = OneClassSVM(gamma='auto').fit(train_3)\n",
        "\n",
        "# predict\n",
        "pred_3 = clf.predict(test_3)\n",
        "\n",
        "print(pred_3)\n",
        "\n",
        "# count how many -1's there are in clf.predict(test_3) (returns a tuple consisting of two arrays, first array: the unique items, second array: counts of each item)\n",
        "occurences = np.unique(pred_3, return_counts=True)\n",
        "\n",
        "print( occurences)\n",
        "\n",
        "# [1][0] in order to return the second array and its first index ( the arrays are always ordered, so -1 will alawys be in the first index)\n",
        "occurences[1][0]\n"
      ],
      "execution_count": 20,
      "outputs": [
        {
          "output_type": "stream",
          "text": [
            "[-1 -1  1  1 -1  1 -1 -1 -1  1]\n",
            "(array([-1,  1]), array([6, 4]))\n"
          ],
          "name": "stdout"
        },
        {
          "output_type": "execute_result",
          "data": {
            "text/plain": [
              "6"
            ]
          },
          "metadata": {
            "tags": []
          },
          "execution_count": 20
        }
      ]
    },
    {
      "cell_type": "markdown",
      "metadata": {
        "id": "U7bRXhzvcUUd",
        "colab_type": "text"
      },
      "source": [
        "# 3. Compression and encoding"
      ]
    },
    {
      "cell_type": "markdown",
      "metadata": {
        "id": "8whl-KTmcUUd",
        "colab_type": "text"
      },
      "source": [
        "There are too many topics to cover for this lab. Having to choose one to cut off from practice, I had to objectively decide to remove my favorite one: compression and encoding. The reason is that in most jobs experience in the others will be more useful, while you will still see plenty of encoding techniques over the course. And the concept of dictionary building is related to $k$-means and feature extraction anyway.\n",
        "\n",
        "On the other hand, understanding dictionaries as features, and encodings as mappings, allows for a much deeper competence and broader flexibility in the field than being stuck to only the \"big guns\" of Deep Learning for this task.\n",
        "\n",
        "So my gift to you is my favorite paper so far: \"The Importance of Encoding Versus Training with Sparse Coding and Vector Quantization\", from A. Coates and A. Ng [[link]](http://ai.stanford.edu/~acoates/papers/coatesng_icml_2011.pdf).\n",
        "\n",
        "If you want to learn the state of the art, in any scientific field, you need to learn to read papers. A good suggestion not to be overwhelmed, especially at the beginning while building knowledge and glossary, is to read it this way\n",
        "\n",
        "- First the abstract\n",
        "- Then think about it and read the abstract again\n",
        "- Now read the introduction, but don't fret about terms you don't understand, it's normal\n",
        "- Next read the conclusion, and make sure their claims make sense with what you read so far\n",
        "- The \"discussion\" explains how they interpreted their results and built the conclusion, which could be invaluable to understand their claims\n",
        "- If you want more detail on the \"how\", check out the \"method\" section (here called \"learning framework\")\n",
        "- The \"related work\" (sometimes \"literature review\") gives you pointers to extend your study on the field and applications\n",
        "- Do not overlook \"experimental results\", as it will give you the means to reproduce their results. And yes, chances are your thesis (especially if Master) will begin by asking you to reproduce a paper's result. Repeatability and verification (the hypothesis needs to be falsifiable) are at the very core of the scientific process.\n",
        "\n",
        "So: go at least through abstract, introduction and conclusions, and then answer the following question:"
      ]
    },
    {
      "cell_type": "markdown",
      "metadata": {
        "id": "R00aYjp4cUUe",
        "colab_type": "text"
      },
      "source": [
        "#### 3.1 **[4pt]** In the conclusion of the paper \"The Importance of Encoding Versus Training with Sparse Coding and Vector Quantization\", which part do the authors find more effective, the encoding (i.e. decision-making) or the dictionary training (i.e. feature extraction)? Reflect on the consequences on modeling, and express your opinion on Feature Extraction and Decision Mappings."
      ]
    },
    {
      "cell_type": "markdown",
      "metadata": {
        "id": "Aq3Gzyx1cUUg",
        "colab_type": "text"
      },
      "source": [
        "The main strenght of sparse coding lies in encoding the data. The non linear encoding scheme seems to be quite effective, even for small training sets, where on the other hand VQ does not performe as well as Sparse Coding does. Training on the other hand is in fact rather similiar for both methods. Sparse Coding does not learn better basis function than VQ during the training phase. \n",
        "\n",
        "Considering small samples, then using Sparse Coding semes to be a better choice since encoding is going to be more accurate, but when considering larger samples using VQ can be faster with respect to building models and  training and encoding methods are more simple."
      ]
    },
    {
      "cell_type": "markdown",
      "metadata": {
        "id": "sIXmYLkWcUUg",
        "colab_type": "text"
      },
      "source": [
        "# 4. Matrix decomposition"
      ]
    },
    {
      "cell_type": "markdown",
      "metadata": {
        "id": "FXi3CtTXcUUh",
        "colab_type": "text"
      },
      "source": [
        "#### 4.1 **[1pt]** For this data imputation exercise, use the entire Iris dataset (no split in train/test, but do drop `species`). Select the value in row index 100 column index 2, and store it in an outside variable Then delete it from the dataset.\n",
        "\n",
        "- To delete a value from a dataset, simply assign the `not a number` value `np.nan` to the corresponding element.\n",
        "- Have you tried using `drop()` to remove a column? Remember that the default axis is the rows, so you need to pass `axis=1` or `axis='columns'` to drop a column by name.\n",
        "- You can print a few rows around your target to verify everything is going as you expect."
      ]
    },
    {
      "cell_type": "code",
      "metadata": {
        "id": "BUvNwztccUUi",
        "colab_type": "code",
        "colab": {}
      },
      "source": [
        "df_4 = df\n",
        "df_4 = df_4.drop(labels='species', axis=1)\n"
      ],
      "execution_count": null,
      "outputs": []
    },
    {
      "cell_type": "code",
      "metadata": {
        "id": "JaQ3aG6nvGdU",
        "colab_type": "code",
        "colab": {}
      },
      "source": [
        "# Select the value in row index 100 column index 2\n",
        "ROW_100 = df_4.loc[100]\n",
        "\n",
        "# delete it from the dataset\n",
        "df_4.loc[100] = np.nan\n"
      ],
      "execution_count": null,
      "outputs": []
    },
    {
      "cell_type": "markdown",
      "metadata": {
        "id": "GBoV0NWTcUUp",
        "colab_type": "text"
      },
      "source": [
        "#### 4.2 **[4pt]** Reconstruct (impute) the missing value using SVD and dimensionality reduction-based denoising. Print the (absolute) difference between the original and reconstructed values.\n",
        "\n",
        "- Ok, relax, this is not your first complex question. As usual, deconstruct it and work it step by step.\n",
        "- The first thing you need to do is to get rid of is the \"hole\" in the data, because SVD will not work with `nan` values. Simply patch it with an average of the values above and below in the same feature. We know this is not ideal, but no worries. BTW congratulations with this you just learned the foundation of the **$k$-nearest-neighbors algorithm (KNN)**.\n",
        "- Now decompose the entire dataframe('s data matrix) using the SVD implementation in numpy's `linalg` module. Read carefully the documentation: it does not return `u`, $\\Sigma$ and `v` as expected from the lecture! Instead you get `v` as expected $n \\times n$; `s` a vector of size $n$ containing the $\\sigma$ eigenvalues (the diagonal of $\\Sigma$, remember?); and `vh` $m \\times m$ is the transposition of `v` -- saves a transpose, but remember you will need to zero a _row_ not a _column_.\n",
        "- Next you want to drop the least contributing eigenvector. Find the smallest non-zero eigenvalue, and set to zero the corresponding column in `u` and row in `vh`. The relative size also tells you how much precision will you be losing with this reduction.\n",
        "- Now you can already reconstruct the data. Remember the order of the dot products matters. Also, you need to build your $\\Sigma$. There's an example in the documentation of SVD. Importantly: $\\Sigma$ is rectangular, the eigenvalues go in the diagonal of the first \"square\" of this matrix, the rest is zeros. You can set a range of rows and columns of a numpy rectangular matrix to (the values of) a diagonal matrix created with `np.diag()`, just match the sizes.\n",
        "- Fetch the value in the target element's position in the reconstruction matrix. Has it changed w.r.t. its initial estimate? Print the difference with the original and technically you're done.\n",
        "- If you are unsatisfied with the result though, just run the cycle a few times. Place the code written so far in a function, so you can iterate multiple calls. Remember that you need to insert the new value in the _original matrix_ , and then loop all your calls to the denoising function on this matrix. Looping on the reconstruction is a common error which may cost you a lot! With every denoising you are losing a bit of information; copying only the value you are denoising reintegrates the information in the rest of the matrix, allowing for a much more accurate result.\n",
        "- I converge (i.e. no more significant changes) to within 0.07 of the correct value in 50 iterations. I also simply save the errors (abs diff) at every iteration, then do the usual `lineplot`. Nothing new, but these sanity checks are priceless when working with ML.\n",
        "- Alternatively: what happens if you drop two columns instead of one?"
      ]
    },
    {
      "cell_type": "code",
      "metadata": {
        "id": "w_IhE38xcUUq",
        "colab_type": "code",
        "colab": {
          "base_uri": "https://localhost:8080/",
          "height": 104
        },
        "outputId": "61c1e3c5-fb29-49b8-f828-9883f41dafc5"
      },
      "source": [
        "# get rid of is the \"hole\", patch it with an average of the values above and below in the same feature\n",
        "df_4.loc[100] = df_4.mean()\n",
        "\n",
        "# Now decompose the entire dataframe('s data matrix) using the SVD implementation\n",
        "u, s, vh = np.linalg.svd(df_4, full_matrices=True)\n",
        "\n",
        "# Next you want to drop the least contributing eigenvector.\n",
        "# set to zero the corresponding column in u\n",
        "u[:,149] = 0\n",
        "# set to zero the corresponding row in vh\n",
        "vh[3,:] = 0\n",
        "\n",
        "# Now you can already reconstruct the data\n",
        "# \"reshape\" s  to a diagonal matrix\n",
        "smat = np.diag(s)\n",
        "\n",
        "# zeromatrix of shape (146,4)\n",
        "zeromat = np.array([[0]*4]*146)\n",
        "\n",
        "# creat a matrix of correct shape (150,4) in order for the dotproduct below ( Σ has shape (150,4))\n",
        "smat_inshape = np.vstack((smat, zeromat)) \n",
        "\n",
        "# calculate U*Σ = M and M*V^T (consider the matrix-multiplication is associative  i.e it does not matter whether we first calculate Σ*V^T or U*Σ )\n",
        "A = np.dot(u, smat_inshape).dot(vh)\n",
        "\n",
        "# Print the absolute differnece between the reconstructed and the real value \n",
        "abs(A[100] - ROW_100)\n",
        "\n",
        "# well I think the result is quite satisfying to me"
      ],
      "execution_count": null,
      "outputs": [
        {
          "output_type": "execute_result",
          "data": {
            "text/plain": [
              "sepal_length    0.000070\n",
              "sepal_width     0.000070\n",
              "petal_length    0.000105\n",
              "petal_width     0.000163\n",
              "Name: 100, dtype: float64"
            ]
          },
          "metadata": {
            "tags": []
          },
          "execution_count": 95
        }
      ]
    },
    {
      "cell_type": "markdown",
      "metadata": {
        "id": "wm1la3LQcUUw",
        "colab_type": "text"
      },
      "source": [
        "#### 4.3 **[3pt]** Plot the entire Iris dataset (no split, keep the classes) projected into 2 dimensions using PCA.\n",
        "\n",
        "- You aim at producing the same picture as in the slides.\n",
        "- You need a fresh copy of the Iris dataset, then `sklearn` requires the labels to be numeric. Do you remember the `astype('category').cat.codes` trick?\n",
        "- Check the documentation of PCA. You need to set the `n_components` parameter.\n",
        "- Projecting data on the principal components is much, much easier by using the `transform()` function.\n",
        "- For a neat one-line plot with Seaborn, convert the projected data back to a DataFrame and name the columns! Then add back the `species` column so you can use `hue` ;) and use a nice palette!"
      ]
    },
    {
      "cell_type": "code",
      "metadata": {
        "id": "dwCNF-EQcUUx",
        "colab_type": "code",
        "colab": {
          "base_uri": "https://localhost:8080/",
          "height": 412
        },
        "outputId": "3341bd21-fa50-4ad0-ce33-39a76ebf6f4a"
      },
      "source": [
        "from sklearn.decomposition import PCA\n",
        "\n",
        "df_5 = df\n",
        "\n",
        "# set species to no-cat \n",
        "df_5['species'] = df_5['species'].astype('category').cat.codes\n",
        "\n",
        "# PCA with two components\n",
        "pca = PCA(n_components = 2)\n",
        "\n",
        "# Fit the iris-data\n",
        "pca.fit(df_5)\n",
        "\n",
        "# preojecting the isis-data\n",
        "Projection = pca.transform(df_5)\n",
        "\n",
        "# creat a df\n",
        "df_pca =  pd.DataFrame(Projection, columns=['PC 1', 'PC 2'])\n",
        "\n",
        "# add the coloumn 'species'\n",
        "df_pca['species'] = df_5['species']\n",
        "\n",
        "# plot\n",
        "sns.scatterplot(df_pca['PC 1'], \n",
        "                df_pca['PC 2'], \n",
        "                hue = df_pca['species'], \n",
        "                palette = \"muted\",\n",
        "                 s = 60)\n"
      ],
      "execution_count": null,
      "outputs": [
        {
          "output_type": "execute_result",
          "data": {
            "text/plain": [
              "<matplotlib.axes._subplots.AxesSubplot at 0x7f561dab3940>"
            ]
          },
          "metadata": {
            "tags": []
          },
          "execution_count": 119
        },
        {
          "output_type": "display_data",
          "data": {
            "image/png": "[encoded data removed]",
            "text/plain": [
              "<Figure size 576x432 with 1 Axes>"
            ]
          },
          "metadata": {
            "tags": []
          }
        }
      ]
    },
    {
      "cell_type": "markdown",
      "metadata": {
        "id": "7K-EP62vcUU6",
        "colab_type": "text"
      },
      "source": [
        "#### 4.4 **[2pt]** Explain (in English) the relationship between (classic) recommender systems and denoising. Then go one step further: to understand the current state of the art (not covered in the lecture), explain a recommender system in term of _mapping_.\n",
        "\n",
        "- Modern recommender systems rarely use matrix decomposition approaches. Better results have been obtained modeling the mapping directly with flexible, generic function approximators with high generalization capabilities such as neural networks."
      ]
    },
    {
      "cell_type": "markdown",
      "metadata": {
        "id": "EFten6QxcUU7",
        "colab_type": "text"
      },
      "source": [
        "Taking the example of Netflix. In order to recommend a movie to a user, you would need some information about movies the user has already seen and also rated, and you would need data about other users and their ratings. According to this data, one could then reconstruct ratings for other movies, which the user hasn't seen yet. When reconstruciting the data you want to avoid as much noise as possibles thus again you drop \"information\" correspondign to the noise.\n",
        "\n",
        "A recommender system, in the example above, maps a movie to a discrete set consisting of \"recommended\" and \"not recommended\"."
      ]
    },
    {
      "cell_type": "markdown",
      "metadata": {
        "id": "cUpt4CNxcUU7",
        "colab_type": "text"
      },
      "source": [
        "# At the end of the exercise"
      ]
    },
    {
      "cell_type": "markdown",
      "metadata": {
        "id": "Q6fqjzJpcUU8",
        "colab_type": "text"
      },
      "source": [
        "Bonus question with no points! Answering this will have no influence on your scoring, not at the assignment and not towards the exam score -- really feel free to ignore it with no consequence. But solving it will reward you with skills that will make the next lectures easier, give you real applications, and will be good practice towards the exam.\n",
        "\n",
        "The solution for this questions will not be included in the regular lab solutions pdf, but you are welcome to open a discussion on the Moodle: we will support your addressing it, and you may meet other students that choose to solve this, and find a teammate for the next assignment that is willing to do things for fun and not only for score :)"
      ]
    },
    {
      "cell_type": "markdown",
      "metadata": {
        "id": "PlNRm3wBcUU9",
        "colab_type": "text"
      },
      "source": [
        "#### BONUS **[ZERO pt]** Clustering is the core of UL. Master $k$-means with this [[tutorial]](https://towardsdatascience.com/k-means-clustering-algorithm-applications-evaluation-methods-and-drawbacks-aa03e644b48a)."
      ]
    },
    {
      "cell_type": "markdown",
      "metadata": {
        "id": "jukwN2zCcUU-",
        "colab_type": "text"
      },
      "source": [
        "#### BONUS **[ZERO pt]** Curious about how to implement SVD in Python? Here's a good tutorial: [[link]](https://machinelearningmastery.com/singular-value-decomposition-for-machine-learning/)."
      ]
    },
    {
      "cell_type": "markdown",
      "metadata": {
        "id": "jtmRcDY7cUU-",
        "colab_type": "text"
      },
      "source": [
        "#### BONUS **[ZERO pt]** Over the year, I found that experience in whipping out a quick PCA always pays off. Follow [this tutorial](http://bebi103.caltech.edu.s3-website-us-east-1.amazonaws.com/2015/tutorials/r5_pca.html). Challenge: no copy+paste allowed, type everything, muscle memory is much more effective at retaining experience than passive study. Particularly useful is the discussion at the end: learn that Dimensionality Reduction _hides_ information! It is extremely dangerous to found your decisions on a PCA plot on a subset of axis (e.g. 2), people have lost entire careers on that!"
      ]
    },
    {
      "cell_type": "markdown",
      "metadata": {
        "id": "nLtSCj4WcUU_",
        "colab_type": "text"
      },
      "source": [
        "#### BONUS **[ZERO pt]** Study dictionary learning. This scikit-learn page contains explanation, reference to a library algorithm, an example, and even a link to the paper which published the algorithm. [[link]](https://scikit-learn.org/stable/modules/generated/sklearn.decomposition.DictionaryLearning.html)."
      ]
    },
    {
      "cell_type": "markdown",
      "metadata": {
        "id": "ow9V8FMDcUVA",
        "colab_type": "text"
      },
      "source": [
        "#### BONUS **[ZERO pt]** Once you have a dictionary, you can learn about Sparse Coding here: [[link]](https://scikit-learn.org/stable/modules/generated/sklearn.decomposition.SparseCoder.html)."
      ]
    },
    {
      "cell_type": "markdown",
      "metadata": {
        "id": "1-haOzM8cUVA",
        "colab_type": "text"
      },
      "source": [
        "### Final considerations"
      ]
    },
    {
      "cell_type": "markdown",
      "metadata": {
        "id": "hCapPPedcUVB",
        "colab_type": "text"
      },
      "source": [
        "- Supervised Learning imply the presence of a _supervisor_ in the data preparation. This is typically either a human (which means limited data, human errors, time constraints, etc.), or (lately more common) another algorithm that is used as an _oracle_. In Deep Reinforcement Learning we will see that the reward function is learned through SL; in Self-Supervised Learning and in Embeddings applications it is an Unsupervised Learning algorithm to provide the oracle.\n",
        "- All applications of UL stem from two concepts:\n",
        "    - **Similarity**: similar things are put together, different things are separated.\n",
        "    - **Information**: data contains redundancy and noise which can be mitigated by studying/extracting global patterns and references.\n",
        "- Unsupervised Learning is almost always present one way or another in complex applications, yet rarely recognized or credited for what it is -- it's always \"embedding\", \"pre-processing\", \"cleaning\", etc., \"UL\" is so old school nobody says they're doing it. Learn to recognize when it is used, nonetheless, and the competence you gained today will find more applications than you imagine."
      ]
    }
  ]
}