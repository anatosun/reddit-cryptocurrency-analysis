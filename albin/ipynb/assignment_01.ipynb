{
 "cells": [
  {
   "cell_type": "markdown",
   "metadata": {
    "colab_type": "text",
    "id": "q7BUgVEgrpCo"
   },
   "source": [
    "# Introduction"
   ]
  },
  {
   "cell_type": "markdown",
   "metadata": {
    "colab_type": "text",
    "id": "kNHM5ihmrpCq"
   },
   "source": [
    "Welcome to the first lab. Take a moment to familiarize yourself with this interactive notebook. Each notebook is composed of cells. Each cell can be [markdown](https://github.com/adam-p/markdown-here/wiki/Markdown-Cheatsheet) (easy-to-format text) or code (Python 3). Feel free to double-click on the description cells to see how they were made."
   ]
  },
  {
   "cell_type": "markdown",
   "metadata": {
    "colab_type": "text",
    "id": "kqw1ehGOrpCs"
   },
   "source": [
    "When a cell is highlighted, it has two modes: command and input. Press `esc` to go to *command mode*, press `enter` to go into *edit/input mode*. There are a few shortcuts that only work in edit mode that can make your life easier. This will probably satiate your curiosity: [[link]](https://towardsdatascience.com/optimizing-jupyter-notebook-tips-tricks-and-nbextensions-26d75d502663)."
   ]
  },
  {
   "cell_type": "markdown",
   "metadata": {
    "colab_type": "text",
    "id": "pzj_aDk5rpCu"
   },
   "source": [
    "A few shortcuts that will make your life easier: you can always press `shift+enter` to evaluate the current cell; in *command mode*, press `a` to create a new cell above the current, `b` to create one below, `m` to convert to markdown, `y` to convert to code. Cells can be also merged and split (did you check the shortcuts?)."
   ]
  },
  {
   "cell_type": "markdown",
   "metadata": {
    "colab_type": "text",
    "id": "HEJmrUVZrpCw"
   },
   "source": [
    "And if you look for a command for which you don't know the shortcut yet, press `p` for the command palette and try typing what you are looking for in the search field."
   ]
  },
  {
   "cell_type": "markdown",
   "metadata": {
    "colab_type": "text",
    "id": "nt3YBL6vrpCy"
   },
   "source": [
    "### How to pass the lab?"
   ]
  },
  {
   "cell_type": "markdown",
   "metadata": {
    "colab_type": "text",
    "id": "dVIiODzJrpCz"
   },
   "source": [
    "Below you find the exercise questions. Each question awarding points is numbered and states the number of points like this: **[0pts]**. To answer a question, fill the cell below with your answer (markdown for text, code for implementation). Incorrect or incomplete answers are in principle worth 0 points: to assign partial reward is only up to teacher discretion. Overcomplete answers do not award extra points (though they are appreciated and will be kept under consideration). Save your work frequently! (`ctrl+s`)\n",
    "\n",
    "**You need at least 16 points (out of 24 available) to pass** (66%)."
   ]
  },
  {
   "cell_type": "markdown",
   "metadata": {
    "colab_type": "text",
    "id": "s58oq63_rpC0"
   },
   "source": [
    "# 1. Fundamentals"
   ]
  },
  {
   "cell_type": "markdown",
   "metadata": {
    "colab_type": "text",
    "id": "lIi8DuK2rpC2"
   },
   "source": [
    "Let's start simple. \n",
    "#### 1.1 **[1pt]** Write a sentence that correctly employs the words *problem*, *solution*, *model* and *parameters set*."
   ]
  },
  {
   "cell_type": "markdown",
   "metadata": {
    "colab_type": "text",
    "id": "LQfK3JFLrpC3"
   },
   "source": [
    "Solutions to many problems which are alike (e.g. problem: recognizing numbers, alike: recognize number 1, recognize number 2, recognize number 3, etc.) can be provided by finding a model (i.e. the correct parametric equation) which yields solutions to the problems. We can modify the parameter set of such a model to get better solutions."
   ]
  },
  {
   "cell_type": "markdown",
   "metadata": {
    "colab_type": "text",
    "id": "OpXH_mJurpC4"
   },
   "source": [
    "#### 1.2 **[1pt]** Write the equation of a linear model. You should use $\\LaTeX$ formatting, just wrap the equation in between dollar signs (e.g. `$\\LaTeX$`)."
   ]
  },
  {
   "cell_type": "markdown",
   "metadata": {
    "colab_type": "text",
    "id": "XV4kNGvTtVtt"
   },
   "source": [
    "$y = mx + q$"
   ]
  },
  {
   "cell_type": "markdown",
   "metadata": {
    "colab_type": "text",
    "id": "RpftXHFQrpC5"
   },
   "source": [
    "#### 1.3 **[1pt]** When is a system of equations *overdetermined*?"
   ]
  },
  {
   "cell_type": "markdown",
   "metadata": {
    "colab_type": "text",
    "id": "PRCBKPcorpC6"
   },
   "source": [
    "When there are more data points than unknown parameters.\n"
   ]
  },
  {
   "cell_type": "markdown",
   "metadata": {
    "colab_type": "text",
    "id": "dygOBm2orpC7"
   },
   "source": [
    "#### 1.4 **[1pt]** Describe with your own words (i.e. English) what is a *Training Dataset*.\n",
    "Mind, there is not an explicit definition in the slides, you should understand the math (your lecture notes may help)."
   ]
  },
  {
   "cell_type": "markdown",
   "metadata": {
    "colab_type": "text",
    "id": "9DFPqbITrpC8"
   },
   "source": [
    "A Training Dataset is a set of data to train a model, i.e. to set the parameters of the model right/more correct. \n",
    "\n",
    "In a mathematical way: The Training Dataset is a subset of the cartesian Product $Input Space \\times Decision Space$."
   ]
  },
  {
   "cell_type": "markdown",
   "metadata": {
    "colab_type": "text",
    "id": "xpkj_QqTrpC9"
   },
   "source": [
    "#### 1.5 **[1pt]** List the other two (main) learning paradigms beside *supervised learning*."
   ]
  },
  {
   "cell_type": "markdown",
   "metadata": {
    "colab_type": "text",
    "id": "x6k9HE6crpC-"
   },
   "source": [
    "Unsupervised and reinforcement learning. "
   ]
  },
  {
   "cell_type": "markdown",
   "metadata": {
    "colab_type": "text",
    "id": "4ef4e5QDrpC-"
   },
   "source": [
    "#### 1.6 **[1pt]** Which word describes when the model I use is too simplistic to capture the inherent complexity of the data? \n",
    "Careful not to pick the wrong term."
   ]
  },
  {
   "cell_type": "markdown",
   "metadata": {
    "colab_type": "text",
    "id": "uOzlkh6XrpDA"
   },
   "source": [
    "Underfit"
   ]
  },
  {
   "cell_type": "markdown",
   "metadata": {
    "colab_type": "text",
    "id": "Quf7NP6MrpDB"
   },
   "source": [
    "# 2. Error, loss and risk"
   ]
  },
  {
   "cell_type": "markdown",
   "metadata": {
    "colab_type": "text",
    "id": "5OcKwTysrpDC"
   },
   "source": [
    "Understanding the concept of loss and risk is fundamental to comprehending the general idea of an \"error\". The whole ML is founded on the basis of recognizing error and minimizing it. These questions go into a separate section to highlight how important it is that you understand what is going on here."
   ]
  },
  {
   "cell_type": "markdown",
   "metadata": {
    "colab_type": "text",
    "id": "2hfLTF-grpDD"
   },
   "source": [
    "#### 2.1 **[3pt]** About the *Loss Function*: why $L(\\hat y, y) = 0 \\;\\;\\text{if}\\;\\; \\hat y = y, \\;\\;\\forall\n",
    "    y \\in Y$?"
   ]
  },
  {
   "cell_type": "markdown",
   "metadata": {
    "colab_type": "text",
    "id": "2nqnPEZqrpDE"
   },
   "source": [
    "When the correct value ($y$) and the predicted value ($ \\hat y$) are the same, then there is no loss or error, therefore $L(\\hat y, y) = 0$ "
   ]
  },
  {
   "cell_type": "markdown",
   "metadata": {
    "colab_type": "text",
    "id": "tD-fmzijrpDF"
   },
   "source": [
    "If you want to implement the *Empirical Risk* in Python, you need to understand its mathematical form. Let's say that the *Loss* is a simple difference between prediction and target:\n",
    "#### 2.2 **[3pt]** What does $\\hat{R}(h) = \\sum_{i=1}^n L(h(x_i), y_i),\\;\\forall (x_i, y_i) \\in D$ mean?\n",
    "In English, though you will get to code it in one of the next questions."
   ]
  },
  {
   "cell_type": "markdown",
   "metadata": {
    "colab_type": "text",
    "id": "2mGsA_wNrpDG"
   },
   "source": [
    "This is the sum of all Losses of the model $h$ for all values (tuples) of the training data set. The $x_i$ are elements of the input space and $y_i$ are elements of the decision space."
   ]
  },
  {
   "cell_type": "markdown",
   "metadata": {
    "colab_type": "text",
    "id": "IRNt_VejrpDG"
   },
   "source": [
    "# 3. Simplest learning"
   ]
  },
  {
   "cell_type": "markdown",
   "metadata": {
    "colab_type": "text",
    "id": "4D_lYWYbrpDH"
   },
   "source": [
    "Enough concepts, let's have some fun. I hope you are familiar with Python -- if not yet, you should become so by the end of the course. If your confidence is low you should start a discussion on Moodle, so that you can all help each other (and help us help you)."
   ]
  },
  {
   "cell_type": "markdown",
   "metadata": {
    "colab_type": "text",
    "id": "LysffY55rpDH"
   },
   "source": [
    "Do you know about `lambda` functions in Python? You can write a method that returns a function. The function can be used as if it was a method defined with `def`. Only be careful about (i) `lambda`s always (implicitly) return, and (ii) you cannot write multiline lambdas. Still, using them is easier than it sounds:"
   ]
  },
  {
   "cell_type": "code",
   "execution_count": null,
   "metadata": {
    "colab": {},
    "colab_type": "code",
    "id": "K3msWCverpDI"
   },
   "outputs": [],
   "source": [
    "def add_n(n): return lambda x: n+x\n",
    "add_3 = add_n(3)\n",
    "add_3(5)"
   ]
  },
  {
   "cell_type": "markdown",
   "metadata": {
    "colab_type": "text",
    "id": "wZsLABg2rpDL"
   },
   "source": [
    "Ok how about we create and plot some artificial data? Study the code below, if there is any feature you are not yet familiar with you should make sure to learn it (Moodle)."
   ]
  },
  {
   "cell_type": "code",
   "execution_count": null,
   "metadata": {
    "colab": {},
    "colab_type": "code",
    "id": "qdNoxF7ArpDM"
   },
   "outputs": [],
   "source": [
    "# These lines are required for our plotting function below\n",
    "%matplotlib inline\n",
    "import matplotlib.pyplot as plt\n",
    "import seaborn as sns\n",
    "# While this is the library for numerical manipulations\n",
    "import numpy as np\n",
    "\n",
    "# This is just some styiling for the plot\n",
    "sns.set(rc={'figure.figsize':(8,6)}, style=\"whitegrid\")\n",
    "\n",
    "# Let's create the data from a function you should be acquainted with\n",
    "# (do you know lambdas yet? They are basically short, unnamed methods)\n",
    "trg_fn = lambda x: 2*x - 1 \n",
    "# Of course we want the data to be a bit noisy\n",
    "some_noise = lambda: np.random.normal(0,2)\n",
    "# Let's generate it using a list comprehension, just to make sure you know this too\n",
    "data = [[x, trg_fn(x) + some_noise()] for x in np.linspace(-10, 10, 50)]\n",
    "# You will find commonly data treated by axis/column rather than coordinate pairs\n",
    "transpose = lambda lst: list(map(list, zip(*lst)))\n",
    "data_x, data_y = transpose(data)\n",
    "\n",
    "# Ok here's a canned plotting function you are free to use\n",
    "def plot_data_and_model(model=None, text=None):\n",
    "    ret = sns.scatterplot(data_x, data_y)\n",
    "    if model is not None:\n",
    "        sns.lineplot(data_x, [model(x) for x in data_x], color='darkred')\n",
    "    if text is not None:\n",
    "        plt.title(text)\n",
    "    return ret"
   ]
  },
  {
   "cell_type": "code",
   "execution_count": null,
   "metadata": {
    "colab": {
     "base_uri": "https://localhost:8080/",
     "height": 122
    },
    "colab_type": "code",
    "executionInfo": {
     "elapsed": 34763,
     "status": "ok",
     "timestamp": 1582113203380,
     "user": {
      "displayName": "n/a",
      "photoUrl": "",
      "userId": "05363706501552199507"
     },
     "user_tz": -60
    },
    "id": "Nf0AozTmSval",
    "outputId": "910341b4-0a31-438e-890f-30300265db9f"
   },
   "outputs": [
    {
     "name": "stdout",
     "output_type": "stream",
     "text": [
      "Go to this URL in a browser: https://accounts.google.com/o/oauth2/auth?client_id=947318989803-6bn6qk8qdgf4n4g3pfee6491hc0brc4i.apps.googleusercontent.com&redirect_uri=urn%3aietf%3awg%3aoauth%3a2.0%3aoob&response_type=code&scope=email%20https%3a%2f%2fwww.googleapis.com%2fauth%2fdocs.test%20https%3a%2f%2fwww.googleapis.com%2fauth%2fdrive%20https%3a%2f%2fwww.googleapis.com%2fauth%2fdrive.photos.readonly%20https%3a%2f%2fwww.googleapis.com%2fauth%2fpeopleapi.readonly\n",
      "\n",
      "Enter your authorization code:\n",
      "··········\n",
      "Mounted at /content/drive\n"
     ]
    }
   ],
   "source": [
    "from google.colab import drive\n",
    "drive.mount('/content/drive')"
   ]
  },
  {
   "cell_type": "markdown",
   "metadata": {
    "colab_type": "text",
    "id": "u-I-FFUdrpDO"
   },
   "source": [
    "Here is what the data you just generated looks like:"
   ]
  },
  {
   "cell_type": "code",
   "execution_count": null,
   "metadata": {
    "colab": {
     "base_uri": "https://localhost:8080/",
     "height": 410
    },
    "colab_type": "code",
    "executionInfo": {
     "elapsed": 1099,
     "status": "ok",
     "timestamp": 1581955038359,
     "user": {
      "displayName": "n/a",
      "photoUrl": "",
      "userId": "05363706501552199507"
     },
     "user_tz": -60
    },
    "id": "SO0miTUWrpDP",
    "outputId": "5cf5cbbd-5897-499b-8b77-3480da0dae0a"
   },
   "outputs": [
    {
     "data": {
      "text/plain": [
       "<matplotlib.axes._subplots.AxesSubplot at 0x7fdfb9d3c550>"
      ]
     },
     "execution_count": 6,
     "metadata": {
      "tags": []
     },
     "output_type": "execute_result"
    },
    {
     "data": {
      "image/png": "[encoded data removed]",
      "text/plain": [
       "<Figure size 576x432 with 1 Axes>"
      ]
     },
     "metadata": {
      "tags": []
     },
     "output_type": "display_data"
    }
   ],
   "source": [
    "plot_data_and_model(text=\"Just the data\")"
   ]
  },
  {
   "cell_type": "markdown",
   "metadata": {
    "colab_type": "text",
    "id": "NAUR8BGbrpDR"
   },
   "source": [
    "And here is what it looks like if you cheat and plot the underlying function (ideally your final, learned model should look similar)"
   ]
  },
  {
   "cell_type": "code",
   "execution_count": null,
   "metadata": {
    "colab": {
     "base_uri": "https://localhost:8080/",
     "height": 410
    },
    "colab_type": "code",
    "executionInfo": {
     "elapsed": 895,
     "status": "ok",
     "timestamp": 1581955055423,
     "user": {
      "displayName": "n/a",
      "photoUrl": "",
      "userId": "05363706501552199507"
     },
     "user_tz": -60
    },
    "id": "3YtOYM-ZrpDS",
    "outputId": "7334eb9b-456b-4cdb-a5d8-e3785e2018e4"
   },
   "outputs": [
    {
     "data": {
      "text/plain": [
       "<matplotlib.axes._subplots.AxesSubplot at 0x7fdfac654940>"
      ]
     },
     "execution_count": 7,
     "metadata": {
      "tags": []
     },
     "output_type": "execute_result"
    },
    {
     "data": {
      "image/png": "[encoded data removed]",
      "text/plain": [
       "<Figure size 576x432 with 1 Axes>"
      ]
     },
     "metadata": {
      "tags": []
     },
     "output_type": "display_data"
    }
   ],
   "source": [
    "plot_data_and_model(trg_fn, text=\"Data with generating function\")"
   ]
  },
  {
   "cell_type": "markdown",
   "metadata": {
    "colab_type": "text",
    "id": "gpyXafmrrpDU"
   },
   "source": [
    "#### 6.1 **[2pt]** Write your linear model as a method that takes `m` and `q` as input, and return a linear function of the form `mx + q`."
   ]
  },
  {
   "cell_type": "code",
   "execution_count": null,
   "metadata": {
    "colab": {
     "base_uri": "https://localhost:8080/",
     "height": 34
    },
    "colab_type": "code",
    "executionInfo": {
     "elapsed": 707,
     "status": "ok",
     "timestamp": 1582108276832,
     "user": {
      "displayName": "n/a",
      "photoUrl": "",
      "userId": "05363706501552199507"
     },
     "user_tz": -60
    },
    "id": "ynbhY17CrpDV",
    "outputId": "2249784e-8c5d-4fe7-8b56-5282b09a08a0"
   },
   "outputs": [
    {
     "name": "stdout",
     "output_type": "stream",
     "text": [
      "11\n"
     ]
    }
   ],
   "source": [
    "f = lambda m,q: lambda x: m*x + q\n",
    "\n",
    "print(f(2,3)(4))"
   ]
  },
  {
   "cell_type": "markdown",
   "metadata": {
    "colab_type": "text",
    "id": "ygWDraKjrpDW"
   },
   "source": [
    "#### 6.2 **[2pt]** Write your loss as a method that takes an `x` and a target and returns the absolute value of their difference\n",
    "(think: what happens if we forget the absolute value?)"
   ]
  },
  {
   "cell_type": "code",
   "execution_count": null,
   "metadata": {
    "colab": {
     "base_uri": "https://localhost:8080/",
     "height": 51
    },
    "colab_type": "code",
    "executionInfo": {
     "elapsed": 546,
     "status": "ok",
     "timestamp": 1582108279636,
     "user": {
      "displayName": "n/a",
      "photoUrl": "",
      "userId": "05363706501552199507"
     },
     "user_tz": -60
    },
    "id": "RVnmitwqrpDX",
    "outputId": "dedeab59-4948-4c5e-fbe0-fadbb2f00914"
   },
   "outputs": [
    {
     "name": "stdout",
     "output_type": "stream",
     "text": [
      "2\n",
      "-2\n"
     ]
    }
   ],
   "source": [
    "l = lambda x,y: abs(x-y)\n",
    "print(l(3,5))\n",
    "\n",
    "#with no abs()\n",
    "_l = lambda x,y: x-y\n",
    "print(_l(3,5))"
   ]
  },
  {
   "cell_type": "markdown",
   "metadata": {
    "colab_type": "text",
    "id": "OQEH20Jee0n6"
   },
   "source": [
    "If we don't use the abs() function, we get negative values if $x < y$. That shouldn't happen, since $L: Y \\times Y \\rightarrow \\mathbb{R}^{0}_{+}$."
   ]
  },
  {
   "cell_type": "markdown",
   "metadata": {
    "colab_type": "text",
    "id": "F9XXwu8arpDY"
   },
   "source": [
    "#### 6.3 **[2pt]** Write your risk as a method that takes a model as input, and returns the total loss over our data"
   ]
  },
  {
   "cell_type": "code",
   "execution_count": null,
   "metadata": {
    "colab": {
     "base_uri": "https://localhost:8080/",
     "height": 34
    },
    "colab_type": "code",
    "executionInfo": {
     "elapsed": 682,
     "status": "ok",
     "timestamp": 1582108540407,
     "user": {
      "displayName": "n/a",
      "photoUrl": "",
      "userId": "05363706501552199507"
     },
     "user_tz": -60
    },
    "id": "TugUVVvorpDZ",
    "outputId": "e7b4080e-fd4a-439d-d927-5ae8954f6703"
   },
   "outputs": [
    {
     "data": {
      "text/plain": [
       "205.15812779768098"
      ]
     },
     "execution_count": 27,
     "metadata": {
      "tags": []
     },
     "output_type": "execute_result"
    }
   ],
   "source": [
    "r = lambda h: sum([ l(_y,y) for (_y,y) in zip(map(h, data_x), data_y) ])\n",
    "  \n",
    "r(f(2,3))"
   ]
  },
  {
   "cell_type": "markdown",
   "metadata": {
    "colab_type": "text",
    "id": "jC005Nx6rpDa"
   },
   "source": [
    "Here is an example of a loop that generates random numbers and maintains a *minimum*.  \n",
    "(think: will you need to minimize or maximize the risk of your model?)"
   ]
  },
  {
   "cell_type": "code",
   "execution_count": null,
   "metadata": {
    "colab": {
     "base_uri": "https://localhost:8080/",
     "height": 462
    },
    "colab_type": "code",
    "executionInfo": {
     "elapsed": 920,
     "status": "ok",
     "timestamp": 1582109037526,
     "user": {
      "displayName": "n/a",
      "photoUrl": "",
      "userId": "05363706501552199507"
     },
     "user_tz": -60
    },
    "id": "bodb3NGarpDb",
    "outputId": "fdc5c775-01ad-4acb-9cf7-a6d31faca857"
   },
   "outputs": [
    {
     "data": {
      "text/plain": [
       "[-2.775346881288085,\n",
       " -2.820401538031614,\n",
       " -2.828987521702916,\n",
       " -2.9450888700692532,\n",
       " -2.9987238603576047]"
      ]
     },
     "execution_count": 46,
     "metadata": {
      "tags": []
     },
     "output_type": "execute_result"
    },
    {
     "data": {
      "image/png": "[encoded data removed]",
      "text/plain": [
       "<Figure size 576x432 with 1 Axes>"
      ]
     },
     "metadata": {
      "tags": []
     },
     "output_type": "display_data"
    }
   ],
   "source": [
    "min_guess = np.Infinity # higher than highest possible\n",
    "\n",
    "best_guesses = []\n",
    "for _ in range(100):\n",
    "    guess = np.random.uniform(-3,3)\n",
    "    if guess < min_guess:\n",
    "        min_guess = guess\n",
    "        best_guesses.append(min_guess)\n",
    "\n",
    "sns.lineplot(range(len(best_guesses)), best_guesses)\n",
    "best_guesses"
   ]
  },
  {
   "cell_type": "markdown",
   "metadata": {
    "colab_type": "text",
    "id": "KPGok3OUrpDc"
   },
   "source": [
    "TIP: it can be useful to visualize how the loss decreases over time, especially for debugging purposes. You can do the same next for your errors/losses."
   ]
  },
  {
   "cell_type": "markdown",
   "metadata": {
    "colab_type": "text",
    "id": "v2VjZfWyrpDd"
   },
   "source": [
    "#### 6.4 **[6pt]** Randomly guess a model's parameters 1000 times. Then plot it using the call below.\n",
    "```python\n",
    "plot_data_and_model(lin_model(m, q), text=f\"m={round(m,2)}    q={round(q,2)}\")        \n",
    "```\n",
    "Make sure you understand how string interpolation works when using the format `f\"hello w{2+1-3}rld\"`.  \n",
    "You will need to modify the loop above in order to maintain both a best guess for your model and its corresponding best risk/error."
   ]
  },
  {
   "cell_type": "code",
   "execution_count": null,
   "metadata": {
    "colab": {
     "base_uri": "https://localhost:8080/",
     "height": 410
    },
    "colab_type": "code",
    "executionInfo": {
     "elapsed": 1542,
     "status": "ok",
     "timestamp": 1582112986455,
     "user": {
      "displayName": "n/a",
      "photoUrl": "",
      "userId": "05363706501552199507"
     },
     "user_tz": -60
    },
    "id": "OLBiaz2orpDd",
    "outputId": "884fca16-7ecb-4e84-a4bb-3455db045793"
   },
   "outputs": [
    {
     "data": {
      "text/plain": [
       "<matplotlib.axes._subplots.AxesSubplot at 0x7f7423c19eb8>"
      ]
     },
     "execution_count": 74,
     "metadata": {
      "tags": []
     },
     "output_type": "execute_result"
    },
    {
     "data": {
      "image/png": "[encoded data removed]",
      "text/plain": [
       "<Figure size 576x432 with 1 Axes>"
      ]
     },
     "metadata": {
      "tags": []
     },
     "output_type": "display_data"
    }
   ],
   "source": [
    "#returns a tuple (m,q) with the best guesses, where the risk is minimized\n",
    "#n is the number of guesses we want it to try\n",
    "def best_guess(n):\n",
    "  min_guess = np.Infinity # higher than highest possible\n",
    "  best_guesses = []\n",
    "  for _ in range(n):\n",
    "      guess_m = np.random.uniform(-3,3)\n",
    "      guess_q = np.random.uniform(-3,3)\n",
    "      risk = r(f(guess_m, guess_q))\n",
    "      if risk < min_guess:\n",
    "          min_guess = risk\n",
    "          best_guesses.append((guess_m, guess_q))\n",
    "          \n",
    "  #just return the last guess, which is the best\n",
    "  return best_guesses[len(best_guesses)-1]\n",
    "\n",
    "guess = best_guess(10000)\n",
    "m = guess[0]\n",
    "q = guess[1]\n",
    "plot_data_and_model(f(m, q), text=f\"m={round(m,2)}    q={round(q,2)}\")   \n"
   ]
  }
 ],
 "metadata": {
  "colab": {
   "collapsed_sections": [],
   "name": "assignment_01.ipynb",
   "provenance": []
  },
  "kernelspec": {
   "display_name": "Python 3 (ipykernel)",
   "language": "python",
   "name": "python3"
  },
  "language_info": {
   "codemirror_mode": {
    "name": "ipython",
    "version": 3
   },
   "file_extension": ".py",
   "mimetype": "text/x-python",
   "name": "python",
   "nbconvert_exporter": "python",
   "pygments_lexer": "ipython3",
   "version": "3.10.2"
  }
 },
 "nbformat": 4,
 "nbformat_minor": 1
}
