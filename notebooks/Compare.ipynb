{
 "cells": [
  {
   "cell_type": "markdown",
   "id": "77b8af11",
   "metadata": {},
   "source": [
    "# Compare Changes in the Graph with Current Price Data"
   ]
  },
  {
   "cell_type": "markdown",
   "id": "ed00b8a1",
   "metadata": {},
   "source": [
    "Load here the needed libraries and data. Also, filter the data we treat. Finally, choose a time window by computing a column e.g. days, days with hour, etc."
   ]
  },
  {
   "cell_type": "code",
   "execution_count": null,
   "id": "a7f92938",
   "metadata": {},
   "outputs": [],
   "source": [
    "import sys\n",
    "\n",
    "import pandas as pd\n",
    "import networkx as nx\n",
    "import matplotlib.pyplot as plt\n",
    "import matplotlib.dates as mdates\n",
    "import numpy as np\n",
    "\n",
    "from degree_centrality import DegreeCentrality\n",
    "from current_price_fetcher import CurrentPriceFetcher"
   ]
  },
  {
   "cell_type": "markdown",
   "id": "511fd9ee",
   "metadata": {},
   "source": [
    "Load the edgelist into a pandas frame for preprocessing."
   ]
  },
  {
   "cell_type": "code",
   "execution_count": null,
   "id": "540a7b56",
   "metadata": {
    "scrolled": true
   },
   "outputs": [],
   "source": [
    "edges = pd.read_csv('../data/csv/edges_deep_link_no_merge.csv')\n",
    "\n",
    "#prepare human readable time\n",
    "edges['human_time'] = pd.to_datetime(edges['time'], unit='s').dt.date\n",
    "\n",
    "edges['human_time_hour'] = pd.to_datetime(edges['time'], unit='s').dt.strftime('%Y-%m-%d %H')\n",
    "\n",
    "#filter data from to\n",
    "date_from = pd.to_datetime(\"2022-4-23\").date()\n",
    "date_to = pd.to_datetime(\"2022-5-23\").date()\n",
    "frame = edges[(edges['human_time'] >= date_from) & (edges['human_time'] < date_to)]\n",
    "\n",
    "\n",
    "\n",
    "data = frame.sort_values(by='time')\n",
    "\n",
    "data.tail(5)"
   ]
  },
  {
   "cell_type": "markdown",
   "id": "13ebe3b9",
   "metadata": {},
   "source": [
    "## Preprocessing\n",
    "\n",
    "We want to analyze graph development, i.e. the interactions over time. To do so, we will create a list of cumulitative subsets which correspond to a time window. Each subset is a subset of the next time window, i.e. $day[0] \\subset day[1] ...$"
   ]
  },
  {
   "cell_type": "code",
   "execution_count": null,
   "id": "c5840fce",
   "metadata": {},
   "outputs": [],
   "source": [
    "def increasing_table_inclusion(df, by='human_time'):\n",
    "    disj_days = list(df.groupby(by, as_index=False))\n",
    "\n",
    "    first_day = disj_days[0]\n",
    "    cumulated = [\n",
    "        (f'{first_day[0]}:00', #the day to be used on the x axis later\n",
    "         first_day[1] #the data frame\n",
    "        )\n",
    "    ]\n",
    "    \n",
    "    for i, day in enumerate(disj_days,start=0):\n",
    "        if i > 0: #skip first day\n",
    "            cumulated.append(\n",
    "                (f'{day[0]}:00', \n",
    "                 pd.concat([cumulated[i-1][1], day[1]])\n",
    "                )\n",
    "            )\n",
    "            \n",
    "    return cumulated"
   ]
  },
  {
   "cell_type": "markdown",
   "id": "64fc1114",
   "metadata": {},
   "source": [
    "Now, let's create networkx graph instances of these edgelists to analyze them."
   ]
  },
  {
   "cell_type": "code",
   "execution_count": null,
   "id": "8ac6c055",
   "metadata": {},
   "outputs": [],
   "source": [
    "Gs = []\n",
    "for time,cum_days in increasing_table_inclusion(data, by=\"human_time_hour\"):\n",
    "    Gs.append(\n",
    "        (time, \n",
    "         nx.from_pandas_edgelist(\n",
    "             cum_days, create_using=nx.MultiDiGraph(), source='source', target='target', \n",
    "             edge_attr=['score', 'weight', 'time', 'sub'])\n",
    "        )\n",
    "    )"
   ]
  },
  {
   "cell_type": "markdown",
   "id": "4c616a16",
   "metadata": {},
   "source": [
    "Next, we want to compute the differences between each timeframe. We provide here two possible difference functions. One in percentage and one in absolute value."
   ]
  },
  {
   "cell_type": "code",
   "execution_count": null,
   "id": "e165851b",
   "metadata": {
    "scrolled": true
   },
   "outputs": [],
   "source": [
    "pd.set_option('display.max_rows', 50)\n",
    "pd.set_option('display.max_columns', None)\n",
    "\n",
    "def compute_diff_prc(row,col):\n",
    "    old = row[f'{col}_old']\n",
    "    new = row[f'{col}_new']\n",
    "    \n",
    "    if old > 0:\n",
    "        return (new / old - 1) * 100\n",
    "    else:\n",
    "        return 0\n",
    "    \n",
    "def compute_diff_abs(row,col):\n",
    "    old = row[f'{col}_old']\n",
    "    new = row[f'{col}_new']\n",
    "    \n",
    "    return new - old\n",
    "\n",
    "def compute_nodes_degree_difference(G1, G2, f=None, cols=None):\n",
    "    dc = DegreeCentrality()\n",
    "    df1 = dc.compute_degree_centrality(G1)\n",
    "    df2 = dc.compute_degree_centrality(G2)\n",
    "    \n",
    "    if cols is None:\n",
    "        cols = { col : [] for col in list(df2.columns)}\n",
    "        \n",
    "    if f is None:\n",
    "        f = compute_diff_prc\n",
    "    \n",
    "    diff = pd.DataFrame(cols)\n",
    "    \n",
    "    j = df1.join(df2, how='inner', lsuffix='_old', rsuffix='_new')\n",
    "    \n",
    "    for col in cols:\n",
    "        diff[col] = j.apply(lambda row: f(row,col), axis=1)\n",
    "        \n",
    "    s = j.reindex(sorted(j.columns), axis=1)\n",
    "    \n",
    "    diff.drop(labels=['[deleted]'], axis=0, inplace=True,errors='ignore') #remove deleted posts\n",
    "    \n",
    "    \n",
    "    return diff"
   ]
  },
  {
   "cell_type": "markdown",
   "id": "aa067753",
   "metadata": {},
   "source": [
    "Compute the differences."
   ]
  },
  {
   "cell_type": "code",
   "execution_count": null,
   "id": "0bed46b9",
   "metadata": {},
   "outputs": [],
   "source": [
    "differences = [ \n",
    "    (Gs[i][0], #date\n",
    "     compute_nodes_degree_difference(Gs[i][1], Gs[i+1][1], f=compute_diff_prc) #frame\n",
    "    ) \n",
    "    for i in range(len(Gs) - 1) \n",
    "]"
   ]
  },
  {
   "cell_type": "markdown",
   "id": "08dc75f5",
   "metadata": {},
   "source": [
    "Finally, we can prepare our data for plotting"
   ]
  },
  {
   "cell_type": "code",
   "execution_count": null,
   "id": "d545a142",
   "metadata": {
    "scrolled": true
   },
   "outputs": [],
   "source": [
    "degrees = [ df.rename(columns={\"degree\": date} )[date] for date,df in differences ]\n",
    "\n",
    "plot_data = pd.concat(degrees, axis=1)\n",
    "#dropzero rows\n",
    "plot_data = plot_data.loc[~(plot_data==0).all(axis=1)]\n",
    "#fill nan with 0\n",
    "plot_data.fillna(0, inplace=True)\n",
    "plot_data.reset_index(drop=True,inplace=True)"
   ]
  },
  {
   "cell_type": "code",
   "execution_count": null,
   "id": "486003c3",
   "metadata": {},
   "outputs": [],
   "source": [
    "degrees[0]"
   ]
  },
  {
   "cell_type": "code",
   "execution_count": null,
   "id": "31385898",
   "metadata": {
    "scrolled": true
   },
   "outputs": [],
   "source": [
    "cols = list(plot_data.columns)\n",
    "#ax = plot_data.T.plot(figsize=(6, 2),label='_nolegend_')\n",
    "#plt.xticks(range(0,len(cols)), cols, rotation=90)\n",
    "#plt.show()"
   ]
  },
  {
   "cell_type": "code",
   "execution_count": null,
   "id": "60e9ceeb",
   "metadata": {},
   "outputs": [],
   "source": [
    "plot_data.to_csv(\"comp_data.csv\")"
   ]
  },
  {
   "cell_type": "code",
   "execution_count": null,
   "id": "8c50dc3b",
   "metadata": {},
   "outputs": [],
   "source": [
    "plot_data = pd.read_csv('comp_data.csv', index_col=0)\n",
    "plot_data"
   ]
  },
  {
   "cell_type": "markdown",
   "id": "7b2d6ce9",
   "metadata": {},
   "source": [
    "Let's sum up each row and see how it develops; each row represents one user, each column represents one time window."
   ]
  },
  {
   "cell_type": "code",
   "execution_count": null,
   "id": "d0383da5",
   "metadata": {},
   "outputs": [],
   "source": [
    "sums = pd.DataFrame(plot_data.apply(lambda col: sum(col), axis=0))\n",
    "sums.index = pd.to_datetime(sums.index)\n",
    "\n",
    "sums.plot()"
   ]
  },
  {
   "cell_type": "markdown",
   "id": "51f5d938",
   "metadata": {},
   "source": [
    "Compute moving average."
   ]
  },
  {
   "cell_type": "code",
   "execution_count": null,
   "id": "96f1ccf6",
   "metadata": {
    "scrolled": true
   },
   "outputs": [],
   "source": [
    "ma_windows = range(2,30)\n",
    "fig, ax = plt.subplots(figsize=(12, 6))\n",
    "\n",
    "plt.plot(sums)\n",
    "\n",
    "leg = ['no moving average']\n",
    "for i in ma_windows:\n",
    "    sums[f'ma_{i}'] = sums[0].rolling(i).mean()\n",
    "    if i % 6 == 0:\n",
    "        plt.plot(sums[f'ma_{i}'])\n",
    "        leg.append(f'mov avg i={i}')\n",
    "\n",
    "ax.xaxis.set_major_locator(mdates.DayLocator(interval=3))\n",
    "plt.legend(leg)\n",
    "plt.savefig('plots/sums_ma.pdf')\n",
    "plt.show()\n"
   ]
  },
  {
   "cell_type": "markdown",
   "id": "acee5386",
   "metadata": {},
   "source": [
    "### Compare with price\n",
    "\n",
    "Load the price data and preprocess."
   ]
  },
  {
   "cell_type": "code",
   "execution_count": null,
   "id": "92cb09ac",
   "metadata": {
    "scrolled": true
   },
   "outputs": [],
   "source": [
    "df = pd.read_csv('../data/price/BTC-USD-2022-04-01.csv')\n",
    "\n",
    "df['human_time'] = pd.to_datetime(df['unix'], unit='s').dt.date\n",
    "\n",
    "df['human_time_hour'] = pd.to_datetime(df['unix'], unit='s').dt.strftime('%Y-%m-%d %H')\n",
    "\n",
    "frame = df[(df['human_time'] >= date_from) & (df['human_time'] < date_to)]"
   ]
  },
  {
   "cell_type": "code",
   "execution_count": null,
   "id": "6e260ce2",
   "metadata": {},
   "outputs": [],
   "source": [
    "plt.plot(frame['close'])"
   ]
  },
  {
   "cell_type": "markdown",
   "id": "b6575277",
   "metadata": {},
   "source": [
    "Compute moving average also for ."
   ]
  },
  {
   "cell_type": "code",
   "execution_count": null,
   "id": "2a10f68f",
   "metadata": {},
   "outputs": [],
   "source": [
    "closes = pd.DataFrame({})\n",
    "f = frame['close'] #column to use\n",
    "\n",
    "\n",
    "for i in ma_windows:\n",
    "    closes[f'ma_{i}'] = f.rolling(i*2).mean()\n",
    "    plt.plot(closes[f'ma_{i}'])\n",
    "    \n",
    "plt.show()"
   ]
  },
  {
   "cell_type": "markdown",
   "id": "7564c13e",
   "metadata": {},
   "source": [
    "Plot price over set of moving windows of sums."
   ]
  },
  {
   "cell_type": "code",
   "execution_count": null,
   "id": "ed605042",
   "metadata": {},
   "outputs": [],
   "source": [
    "price = frame['close'].copy()\n",
    "for i in ma_windows:\n",
    "    d = sums[f'ma_{i}']\n",
    "    x1 = np.linspace(0, 1, len(price))\n",
    "    x2 = np.linspace(0, 1, len(d))\n",
    "    \n",
    "    normalized_d=(d-d.mean())/d.std()\n",
    "    normalized_price=(price-price.mean())/price.std()\n",
    "    plt.plot(x1, normalized_price)\n",
    "    plt.plot(x2, normalized_d)"
   ]
  },
  {
   "cell_type": "code",
   "execution_count": null,
   "id": "a71601de",
   "metadata": {
    "scrolled": true
   },
   "outputs": [],
   "source": [
    "from scipy.stats import pearsonr\n",
    "\n",
    "def get_correlation(vals):\n",
    "    return pearsonr(vals, normalized_sums)[0]\n",
    "\n",
    "\n",
    "\n",
    "\n",
    "normalized_ds = (sums-sums.mean())/sums.std()\n",
    "normalized_prices = (closes-closes.mean())/closes.std()\n",
    "\n",
    "#i = -1\n",
    "#\n",
    "#for d in normalized_ds.columns:\n",
    "#    for p in normalized_prices.columns:\n",
    "#        f = pd.DataFrame(normalized_prices[p].rolling(window=len(normalized_ds[d])).apply(get_correlation))\n",
    "#        #plot = f.plot()\n",
    "#        #fig = plot.get_figure()\n",
    "#        #fig.savefig(f\"plots/corrs/{i}.pdf\")\n",
    "#        i += 1\n",
    "#\n",
    "\n"
   ]
  },
  {
   "cell_type": "markdown",
   "id": "83a1d088",
   "metadata": {},
   "source": [
    "# Next try, spearman"
   ]
  },
  {
   "cell_type": "code",
   "execution_count": null,
   "id": "d11f41ee",
   "metadata": {},
   "outputs": [],
   "source": [
    "price = frame.copy()\n",
    "\n",
    "#resample data first\n",
    "price['dt'] = pd.to_datetime(price['unix'], unit='s')\n",
    "price.set_index('dt', inplace=True)\n",
    "\n",
    "close = price['close']\n",
    "\n",
    "\n",
    "time_delta_columns = (price.iloc[[1]].unix.values - price.iloc[[0]].unix.values)[0]\n",
    "resample_freq = int((time_delta_columns*len(close))/len(normalized_ds))\n",
    "\n",
    "resample_freq = 60\n",
    "\n",
    "r_close = close.resample(f'{resample_freq}min').mean()\n",
    "\n",
    "#normalize\n",
    "r_close=(r_close-r_close.mean())/r_close.std()\n",
    "\n",
    "r_close"
   ]
  },
  {
   "cell_type": "code",
   "execution_count": null,
   "id": "38ddda38",
   "metadata": {
    "scrolled": true
   },
   "outputs": [],
   "source": [
    "pd.set_option('display.max_rows', 450)\n",
    "normalized_ds.index.to_list()\n",
    "i = 0\n",
    "for g in r_close.index.to_list():\n",
    "    #i1=g.strftime(\"%m/%d/%Y %H:%M:%S\")\n",
    "    #i2=normalized_ds[i].strftime(\"%m/%d/%Y %H:%M:%S\")\n",
    "    #print(i1,i2)\n",
    "    pass\n",
    "    \n",
    "s1 = set(r_close.index.to_list())\n",
    "s2= set(normalized_ds.index.to_list())\n",
    "\n",
    "#\n",
    "#r_close.join(normalized_ds)\n",
    "c = pd.DataFrame(r_close).join(pd.DataFrame(normalized_ds.iloc[:,0]), how='inner')"
   ]
  },
  {
   "cell_type": "code",
   "execution_count": null,
   "id": "ea02c8f2",
   "metadata": {
    "scrolled": true
   },
   "outputs": [],
   "source": [
    "c.iloc[:,0].plot()\n",
    "c.iloc[:,1].plot()"
   ]
  },
  {
   "cell_type": "code",
   "execution_count": null,
   "id": "6b21c8d4",
   "metadata": {
    "scrolled": true
   },
   "outputs": [],
   "source": [
    "#compute moving averages\n",
    "\n",
    "\n",
    "mas_p = pd.DataFrame({})\n",
    "mas_a = pd.DataFrame({})\n",
    "for i in ma_windows:\n",
    "    price = c.iloc[:,0].rolling(i).mean()\n",
    "    mas_p[f'ma_{i}'] = price\n",
    "    plt.plot(mas_p[f'ma_{i}'])\n",
    "    \n",
    "    activity = c.iloc[:,1].rolling(i).mean()\n",
    "    mas_a[f'ma_{i}'] = activity\n",
    "    plt.plot(mas_a[f'ma_{i}'])"
   ]
  },
  {
   "cell_type": "code",
   "execution_count": 120,
   "id": "a77d0199",
   "metadata": {},
   "outputs": [
    {
     "name": "stdout",
     "output_type": "stream",
     "text": [
      "spearman coefficients:\n"
     ]
    },
    {
     "data": {
      "text/plain": [
       "array([[ 1.       , -0.7982054],\n",
       "       [-0.7982054,  1.       ]])"
      ]
     },
     "execution_count": 120,
     "metadata": {},
     "output_type": "execute_result"
    },
    {
     "data": {
      "image/png": "[encoded data removed]",
      "text/plain": [
       "<Figure size 864x432 with 1 Axes>"
      ]
     },
     "metadata": {
      "needs_background": "light"
     },
     "output_type": "display_data"
    }
   ],
   "source": [
    "import seaborn as sns\n",
    "\n",
    "fr = '2022-04-23 00:00:00'\n",
    "to = '2022-05-23 00:00:00'\n",
    "\n",
    "ma = mas_a.loc[fr:to]\n",
    "mp = mas_p.loc[fr:to]\n",
    "\n",
    "r = []\n",
    "\n",
    "for p in mp:\n",
    "    for a in ma:\n",
    "        c = pd.DataFrame(ma[a]).join(pd.DataFrame(mp[p]), how='inner', lsuffix='_activity', rsuffix='_price')\n",
    "        c.dropna(inplace=True)\n",
    "        s = c.corr(method=\"spearman\").values\n",
    "        v = abs(s[0][1]) + abs(s[1][0])\n",
    "        r.append((v,s,c))\n",
    "\n",
    "sort = sorted(r, key=lambda tup: -tup[0])\n",
    "\n",
    "fig, ax = plt.subplots(figsize=(12, 6))\n",
    "\n",
    "\n",
    "\n",
    "print(\"spearman coefficients:\")\n",
    "plt.plot(sort[0][2])\n",
    "plt.savefig('plots/spearman.pdf')\n",
    "sort[0][1]"
   ]
  },
  {
   "cell_type": "code",
   "execution_count": 121,
   "id": "57ae0c39",
   "metadata": {},
   "outputs": [
    {
     "name": "stdout",
     "output_type": "stream",
     "text": [
      "pearson coefficients:\n"
     ]
    },
    {
     "data": {
      "text/plain": [
       "array([[ 1.        , -0.87206723],\n",
       "       [-0.87206723,  1.        ]])"
      ]
     },
     "execution_count": 121,
     "metadata": {},
     "output_type": "execute_result"
    },
    {
     "data": {
      "image/png": "[encoded data removed]",
      "text/plain": [
       "<Figure size 864x432 with 1 Axes>"
      ]
     },
     "metadata": {
      "needs_background": "light"
     },
     "output_type": "display_data"
    }
   ],
   "source": [
    "# Pearson again\n",
    "ma = mas_a.loc[fr:to]\n",
    "mp = mas_p.loc[fr:to]\n",
    "\n",
    "r = []\n",
    "\n",
    "for p in mp:\n",
    "    for a in ma:\n",
    "        c = pd.DataFrame(ma[a]).join(pd.DataFrame(mp[p]), how='inner', lsuffix='_activity', rsuffix='_price')\n",
    "        c.dropna(inplace=True)\n",
    "        s = c.corr().values\n",
    "        v = abs(s[0][1]) + abs(s[1][0])\n",
    "        r.append((v,s,c))\n",
    "\n",
    "sort = sorted(r, key=lambda tup: -tup[0])\n",
    "\n",
    "fig, ax = plt.subplots(figsize=(12, 6))\n",
    "\n",
    "\n",
    "\n",
    "print(\"pearson coefficients:\")\n",
    "plt.plot(sort[0][2])\n",
    "plt.savefig('plots/pearson.pdf')\n",
    "sort[0][1]"
   ]
  },
  {
   "cell_type": "markdown",
   "id": "a0140c25",
   "metadata": {},
   "source": [
    "## Try HSIC\n"
   ]
  },
  {
   "cell_type": "code",
   "execution_count": 119,
   "id": "9e2d86b6",
   "metadata": {},
   "outputs": [
    {
     "name": "stdout",
     "output_type": "stream",
     "text": [
      "HSIC:\n"
     ]
    },
    {
     "data": {
      "text/plain": [
       "0.11707828753982771"
      ]
     },
     "execution_count": 119,
     "metadata": {},
     "output_type": "execute_result"
    },
    {
     "data": {
      "image/png": "[encoded data removed]",
      "text/plain": [
       "<Figure size 864x432 with 1 Axes>"
      ]
     },
     "metadata": {
      "needs_background": "light"
     },
     "output_type": "display_data"
    }
   ],
   "source": [
    "import numpy\n",
    "from hsic import dHSIC\n",
    "\n",
    "\n",
    "r=[]\n",
    "for p in mp:\n",
    "    for a in ma:\n",
    "        c = pd.DataFrame(ma[a]).join(pd.DataFrame(mp[p]), how='inner', lsuffix='_activity', rsuffix='_price')\n",
    "        c.dropna(inplace=True)\n",
    "        \n",
    "        x = np.array(c.iloc[:,0].to_numpy())\n",
    "        y = np.array(c.iloc[:,1].to_numpy())\n",
    "        \n",
    "        v = dHSIC(x, y)\n",
    "        r.append((v,c))\n",
    "\n",
    "\n",
    "sort = sorted(r, key=lambda tup: -tup[0])\n",
    "\n",
    "fig, ax = plt.subplots(figsize=(12, 6))\n",
    "\n",
    "\n",
    "\n",
    "print(\"HSIC:\")\n",
    "plt.plot(sort[0][1])\n",
    "plt.savefig('plots/hisc.pdf')\n",
    "sort[0][0]\n"
   ]
  }
 ],
 "metadata": {
  "kernelspec": {
   "display_name": "Python 3 (ipykernel)",
   "language": "python",
   "name": "python3"
  },
  "language_info": {
   "codemirror_mode": {
    "name": "ipython",
    "version": 3
   },
   "file_extension": ".py",
   "mimetype": "text/x-python",
   "name": "python",
   "nbconvert_exporter": "python",
   "pygments_lexer": "ipython3",
   "version": "3.10.2"
  }
 },
 "nbformat": 4,
 "nbformat_minor": 5
}
