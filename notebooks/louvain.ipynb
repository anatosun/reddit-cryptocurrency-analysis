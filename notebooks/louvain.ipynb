{
 "cells": [
  {
   "cell_type": "code",
   "execution_count": 396,
   "metadata": {},
   "outputs": [],
   "source": [
    "import networkx as nx\n",
    "import pandas as pd\n",
    "\n",
    "df_edges = pd.read_csv('../data/edgelist.csv')\n",
    "G = nx.from_pandas_edgelist(df_edges)"
   ]
  },
  {
   "cell_type": "code",
   "execution_count": 444,
   "metadata": {},
   "outputs": [],
   "source": [
    "G = nx.read_edgelist(\"../data/test_louvain.txt\", nodetype = int)"
   ]
  },
  {
   "cell_type": "code",
   "execution_count": 445,
   "metadata": {},
   "outputs": [
    {
     "name": "stdout",
     "output_type": "stream",
     "text": [
      "{0: 1, 2: 1, 4: 1, 3: 1, 5: 1, 1: 1, 7: 1, 6: 1, 10: 0, 11: 0, 8: 0, 9: 0, 14: 0, 15: 0, 12: 0, 13: 0}\n"
     ]
    }
   ],
   "source": [
    "from community import community_louvain\n",
    "import numpy as np\n",
    "\n",
    "# Compute Louvain method\n",
    "partitions = community_louvain.best_partition(G)\n",
    "unique_coms = np.unique(list(partitions.values()))\n",
    "\n",
    "print(partitions)"
   ]
  },
  {
   "cell_type": "code",
   "execution_count": 446,
   "metadata": {},
   "outputs": [
    {
     "data": {
      "text/plain": [
       "[{0, 1, 2, 3, 4, 5, 6, 7}, {8, 9, 10, 11, 12, 13, 14, 15}]"
      ]
     },
     "execution_count": 446,
     "metadata": {},
     "output_type": "execute_result"
    }
   ],
   "source": [
    "import networkx.algorithms.community as nx_comm\n",
    "\n",
    "nx_comm.louvain_communities(G, seed=123)"
   ]
  },
  {
   "cell_type": "code",
   "execution_count": 448,
   "metadata": {},
   "outputs": [],
   "source": [
    "from networkx.utils import py_random_state\n",
    "\n",
    "def gain(G, ni, nodes, hypernode=False):\n",
    "   m = G.number_of_edges()\n",
    "   \n",
    "   dn = lambda n: G.degree[n]\n",
    "   if hypernode:\n",
    "      dn = lambda n: G[n][n][\"weight\"] if G.has_edge(n, n) else 0\n",
    "\n",
    "   di = dn(ni)\n",
    "   dj = sum(dn(nj) for nj in nodes if ni != nj)\n",
    "   \n",
    "   dij = 2 * sum(G[ni][nj][\"weight\"] for nj in nodes if G.has_edge(ni, nj) and ni != nj)\n",
    "\n",
    "\n",
    "   return 0.5 * (dij - di * dj / m) / m\n",
    "\n",
    "@py_random_state(\"seed\")\n",
    "def get_partition(G, hypernode=False, seed=None):\n",
    "   partition = [{u} for u in G.nodes()]\n",
    "   node_com = {u: i for i, u in enumerate(G.nodes())}\n",
    "   rand_nodes = list(G.nodes)\n",
    "   seed.shuffle(rand_nodes)\n",
    "   loop = True\n",
    "   nbrs = {u: {v for v in G[u] if v != u} for u in G}\n",
    "\n",
    "   while loop:\n",
    "      \n",
    "      loop = False\n",
    "      \n",
    "      for node in rand_nodes:\n",
    "\n",
    "         neighbors_com = set(node_com[j] for j in nbrs[node])\n",
    "         best_com = max_dQ = -1\n",
    "         \n",
    "         for com in neighbors_com:\n",
    "            dQ = gain(G, node, partition[com], hypernode=hypernode)\n",
    "\n",
    "            if dQ > max_dQ:\n",
    "               max_dQ = dQ\n",
    "               best_com = com\n",
    "\n",
    "         if max_dQ > 0 and best_com != node_com[node]:\n",
    "            partition[node_com[node]].remove(node)\n",
    "            partition[best_com].add(node)\n",
    "            node_com[node] = best_com\n",
    "            loop = True\n",
    "            \n",
    "   return [c for c in partition if c]\n",
    "\n",
    "def create_graph(G, partition):\n",
    "   G2 = nx.Graph()\n",
    "   node_com = {}\n",
    "   \n",
    "   for i, com in enumerate(partition):\n",
    "      for node in com: \n",
    "         node_com[node] = i\n",
    "      G2.add_node(i) \n",
    "\n",
    "   for node1, node2 in G.edges():\n",
    "      com1, com2 = node_com[node1], node_com[node2]\n",
    "      weight = 1 if com1 != com2 else 2\n",
    "      if G2.has_edge(com1, com2):\n",
    "         G2[com1][com2][\"weight\"] += weight\n",
    "      else:\n",
    "         G2.add_edge(com1, com2, weight=weight)\n",
    "\n",
    "   return G2\n",
    "\n",
    "def complete_partition(part, partitions):\n",
    "   if not partitions:\n",
    "      return part, False\n",
    "\n",
    "   part_complete = []\n",
    "   for com in part:\n",
    "      tmp = set()\n",
    "      for node in com:\n",
    "         tmp |= partitions[-1][node] \n",
    "      part_complete.append(tmp)\n",
    "\n",
    "   return part_complete, len(part) == len(partitions[-1])\n",
    "\n",
    "def louvain_partitions(graph):\n",
    "   G = nx.Graph()\n",
    "   G.add_nodes_from(graph)\n",
    "   G.add_weighted_edges_from(graph.edges(data=\"weight\", default=1))\n",
    "\n",
    "   partitions = []\n",
    "\n",
    "   while True:\n",
    "      part = get_partition(G)\n",
    "      partition, convergence = complete_partition(part, partitions)\n",
    " \n",
    "      if convergence:\n",
    "         break\n",
    "\n",
    "      partitions.append(partition)\n",
    "      G = create_graph(G, partition)\n",
    "   \n",
    "   return partitions"
   ]
  },
  {
   "cell_type": "code",
   "execution_count": 449,
   "metadata": {},
   "outputs": [
    {
     "data": {
      "text/plain": [
       "[[{0, 1, 2, 4, 5}, {3, 6, 7}, {8, 9, 10, 12, 14, 15}, {11, 13}],\n",
       " [{0, 1, 2, 3, 4, 5, 6, 7}, {8, 9, 10, 11, 12, 13, 14, 15}]]"
      ]
     },
     "execution_count": 449,
     "metadata": {},
     "output_type": "execute_result"
    }
   ],
   "source": [
    "louvain_partitions(G)"
   ]
  }
 ],
 "metadata": {
  "interpreter": {
   "hash": "a149d0f6d3623fa0eed9d07ddb6a4318f5d798df70242368400d6acd55b9b879"
  },
  "kernelspec": {
   "display_name": "Python 3.10.2 ('sma-project-W3EQc3WN')",
   "language": "python",
   "name": "python3"
  },
  "language_info": {
   "codemirror_mode": {
    "name": "ipython",
    "version": 3
   },
   "file_extension": ".py",
   "mimetype": "text/x-python",
   "name": "python",
   "nbconvert_exporter": "python",
   "pygments_lexer": "ipython3",
   "version": "3.10.2"
  },
  "orig_nbformat": 4
 },
 "nbformat": 4,
 "nbformat_minor": 2
}
