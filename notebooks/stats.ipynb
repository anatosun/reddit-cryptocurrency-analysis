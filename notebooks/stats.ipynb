{
 "cells": [
  {
   "cell_type": "code",
   "execution_count": 36,
   "id": "6b1d0566",
   "metadata": {},
   "outputs": [
    {
     "ename": "FileNotFoundError",
     "evalue": "[Errno 2] No such file or directory: 'data/Dogecoin-2022-05-04-01-50-29.json'",
     "output_type": "error",
     "traceback": [
      "\u001b[0;31m---------------------------------------------------------------------------\u001b[0m",
      "\u001b[0;31mFileNotFoundError\u001b[0m                         Traceback (most recent call last)",
      "Input \u001b[0;32mIn [36]\u001b[0m, in \u001b[0;36m<cell line: 24>\u001b[0;34m()\u001b[0m\n\u001b[1;32m     20\u001b[0m                         stack \u001b[38;5;241m=\u001b[39m stack \u001b[38;5;241m+\u001b[39m comment[\u001b[38;5;124m'\u001b[39m\u001b[38;5;124mcomments\u001b[39m\u001b[38;5;124m'\u001b[39m]\n\u001b[1;32m     22\u001b[0m                 \u001b[38;5;28;01mreturn\u001b[39;00m i\n\u001b[0;32m---> 24\u001b[0m \u001b[43mcount_comments\u001b[49m\u001b[43m(\u001b[49m\u001b[38;5;124;43m'\u001b[39;49m\u001b[38;5;124;43mdata/Dogecoin-2022-05-04-01-50-29.json\u001b[39;49m\u001b[38;5;124;43m'\u001b[39;49m\u001b[43m,\u001b[49m\u001b[43m \u001b[49m\u001b[38;5;124;43m'\u001b[39;49m\u001b[38;5;124;43muhdmuq\u001b[39;49m\u001b[38;5;124;43m'\u001b[39;49m\u001b[43m)\u001b[49m\n",
      "Input \u001b[0;32mIn [36]\u001b[0m, in \u001b[0;36mcount_comments\u001b[0;34m(file, uid)\u001b[0m\n\u001b[1;32m      5\u001b[0m \u001b[38;5;28;01mdef\u001b[39;00m \u001b[38;5;21mcount_comments\u001b[39m(file, uid):\n\u001b[0;32m----> 6\u001b[0m     \u001b[38;5;28;01mwith\u001b[39;00m \u001b[38;5;28;43mopen\u001b[39;49m\u001b[43m(\u001b[49m\u001b[43mfile\u001b[49m\u001b[43m,\u001b[49m\u001b[43m \u001b[49m\u001b[38;5;124;43m'\u001b[39;49m\u001b[38;5;124;43mr\u001b[39;49m\u001b[38;5;124;43m'\u001b[39;49m\u001b[43m)\u001b[49m \u001b[38;5;28;01mas\u001b[39;00m f:\n\u001b[1;32m      7\u001b[0m         data \u001b[38;5;241m=\u001b[39m json\u001b[38;5;241m.\u001b[39mload(f)\n\u001b[1;32m      8\u001b[0m         posts \u001b[38;5;241m=\u001b[39m data[\u001b[38;5;124m'\u001b[39m\u001b[38;5;124mposts\u001b[39m\u001b[38;5;124m'\u001b[39m]\n",
      "\u001b[0;31mFileNotFoundError\u001b[0m: [Errno 2] No such file or directory: 'data/Dogecoin-2022-05-04-01-50-29.json'"
     ]
    }
   ],
   "source": [
    "#counts # of comments in a post for a givne ID\n",
    "\n",
    "import json\n",
    "\n",
    "def count_comments(file, uid):\n",
    "    with open(file, 'r') as f:\n",
    "        data = json.load(f)\n",
    "        posts = data['posts']\n",
    "        for post in posts:\n",
    "            if post['id'] == uid:\n",
    "                i = 0\n",
    "                stack = []\n",
    "                comments = post['comments']\n",
    "\n",
    "                stack = comments\n",
    "                while stack != []:  \n",
    "                    comment = stack.pop()\n",
    "                    i+=1\n",
    "                    if len(comment['comments']) > 0:\n",
    "                        stack = stack + comment['comments']\n",
    "\n",
    "                return i\n",
    "\n",
    "count_comments('data/Dogecoin-2022-05-04-01-50-29.json', 'uhdmuq')"
   ]
  },
  {
   "cell_type": "code",
   "execution_count": 7,
   "id": "2433f3e3",
   "metadata": {},
   "outputs": [],
   "source": [
    "import os\n",
    "import pandas as pd\n",
    "import json\n",
    "\n",
    "import matplotlib.pyplot as plt\n",
    "from matplotlib.pyplot import figure\n",
    "\n",
    "\n",
    "\n",
    "\n",
    "l = []\n",
    "for file in os.listdir(os.path.join('../data')):\n",
    "    if file.endswith(\".json\"):\n",
    "\n",
    "        with open(\"../data/\"+file, 'r') as f:\n",
    "            data = json.load(f)\n",
    "            posts = data['posts']\n",
    "            s = data['subreddit']\n",
    "            for post in posts:\n",
    "                    i = 0\n",
    "                    stack = []\n",
    "                    comments = post['comments']\n",
    "                    stack = comments\n",
    "                    while stack != []:  \n",
    "                        comment = stack.pop()\n",
    "                        l.append((comment['id'], comment['author'], comment['score'], comment['created_utc'], comment['depth'],s))\n",
    "                        if len(comment['comments']) > 0:\n",
    "                            stack = stack + comment['comments']\n",
    "\n",
    "df = pd.DataFrame(columns = [\"id\", \"author\", \"score\", \"created_utc\", \"depth\",\"subreddit\"], data=l)\n",
    "df = df.astype({'created_utc': 'int64'})\n",
    "df.sort_values(by=['created_utc'], inplace=True)\n",
    "df['created_utc'] = pd.to_datetime(df['created_utc'], unit='s')\n",
    "\n",
    "df['date'] = df['created_utc'].dt.date"
   ]
  },
  {
   "cell_type": "code",
   "execution_count": 3,
   "id": "d4180a55",
   "metadata": {},
   "outputs": [
    {
     "data": {
      "image/png": "[encoded data removed]",
      "text/plain": [
       "<Figure size 2000x800 with 1 Axes>"
      ]
     },
     "metadata": {
      "needs_background": "light"
     },
     "output_type": "display_data"
    }
   ],
   "source": [
    "# dates\n",
    "import matplotlib.dates as mdates\n",
    "figure(figsize=(25, 10), dpi=80)\n",
    "ax = df['date'].hist(bins=100)\n",
    "ax.xaxis.set_major_locator(mdates.MonthLocator(interval=1))"
   ]
  },
  {
   "cell_type": "code",
   "execution_count": 4,
   "id": "25e573de",
   "metadata": {},
   "outputs": [
    {
     "name": "stdout",
     "output_type": "stream",
     "text": [
      "14018 unique authors in 30747 comments, ratio:0.4559143981526653\n",
      "users who posted more than 1 comment: 4536\n",
      "users who posted more than 2 comments: 2386\n",
      "users who posted more than 3 comments: 1562\n",
      "users who posted more than 5 comments: 838\n",
      "users who posted more than 10 comments: 307\n",
      "users who posted more than 50 comments: 17\n",
      "users who posted more than 100 comments: 3\n"
     ]
    }
   ],
   "source": [
    "ua=len(pd.unique(df['author']))\n",
    "a=len(df['author'])\n",
    "print(f\"{ua} unique authors in {a} comments, ratio:{ua/a}\")\n",
    "\n",
    "vc = df['author'].value_counts()\n",
    "\n",
    "\n",
    "print(f'users who posted more than 1 comment: {len(vc[vc>1])}')\n",
    "print(f'users who posted more than 2 comments: {len(vc[vc>2])}')\n",
    "print(f'users who posted more than 3 comments: {len(vc[vc>3])}')\n",
    "print(f'users who posted more than 5 comments: {len(vc[vc>5])}')\n",
    "print(f'users who posted more than 10 comments: {len(vc[vc>10])}')\n",
    "print(f'users who posted more than 50 comments: {len(vc[vc>50])}')\n",
    "print(f'users who posted more than 100 comments: {len(vc[vc>100])}')"
   ]
  },
  {
   "cell_type": "code",
   "execution_count": 5,
   "id": "91d3a7ea",
   "metadata": {},
   "outputs": [
    {
     "name": "stdout",
     "output_type": "stream",
     "text": [
      "ratio of posts >= 1. april 2022: 0.7743844927960452\n"
     ]
    }
   ],
   "source": [
    "start_date = pd.to_datetime(\"2022-4-1\").date()\n",
    "after_april_2022 = df[(df['date'] >= start_date)]\n",
    "\n",
    "print(f'ratio of posts >= 1. april 2022: {len(after_april_2022)/len(df)}')"
   ]
  },
  {
   "cell_type": "code",
   "execution_count": 13,
   "id": "4814cd2e",
   "metadata": {},
   "outputs": [
    {
     "data": {
      "text/plain": [
       "author\n",
       "--Imposter--            5\n",
       "--Slipp3ry__Snak3--    18\n",
       "-Afro_Senpai-          12\n",
       "-Aporia                68\n",
       "-Captain-               3\n",
       "                       ..\n",
       "zweieinseins211         5\n",
       "zxr01                  17\n",
       "zxygambler             17\n",
       "zygodontfario53        19\n",
       "zyppoboy                3\n",
       "Name: score, Length: 14018, dtype: int64"
      ]
     },
     "execution_count": 13,
     "metadata": {},
     "output_type": "execute_result"
    }
   ],
   "source": [
    "grouped_df = df.groupby([\"author\"])\n",
    "f=grouped_df['score'].agg('sum')\n",
    "f"
   ]
  },
  {
   "cell_type": "code",
   "execution_count": 34,
   "id": "b06ac593",
   "metadata": {},
   "outputs": [
    {
     "data": {
      "text/plain": [
       "author\n",
       "--Imposter--                                                   [Binance]\n",
       "--Slipp3ry__Snak3--                                 [Ethereum, Ethereum]\n",
       "-Afro_Senpai-                                         [BitcoinBeginners]\n",
       "-Aporia                [Ethereum, Ethereum, Ethereum, Ethereum, Crypt...\n",
       "-Captain-                                                     [Dogecoin]\n",
       "                                             ...                        \n",
       "zweieinseins211                                                [Bitcoin]\n",
       "zxr01                  [BitcoinBeginners, BitcoinBeginners, BitcoinBe...\n",
       "zxygambler                                            [Bitcoin, Bitcoin]\n",
       "zygodontfario53                           [CryptoMarkets, CryptoMarkets]\n",
       "zyppoboy                                                      [Dogecoin]\n",
       "Name: subreddit, Length: 14018, dtype: object"
      ]
     },
     "execution_count": 34,
     "metadata": {},
     "output_type": "execute_result"
    }
   ],
   "source": [
    "f = df[[\"author\", \"subreddit\"]].groupby([\"author\"])\n",
    "f2 = f['subreddit'].apply(list)\n",
    "f2"
   ]
  },
  {
   "cell_type": "code",
   "execution_count": 47,
   "id": "6f6a5691",
   "metadata": {},
   "outputs": [],
   "source": [
    "def jsonToEdgeList(file):\n",
    "    with open(file, 'r') as f:\n",
    "        subreddit = json.load(f)\n",
    "        assert subreddit['subreddit'] is not None, \"subreddit name cannot be None\"\n",
    "        assert subreddit['posts'] is not None, \"subreddit name cannot be None\"\n",
    "        for post in subreddit['posts']:\n",
    "            postToEdgeList(post, subreddit['subreddit'])\n",
    "\n",
    "def postToEdgeList(post,subreddit):\n",
    "    commentsToEdgeList(post['comments'], [(post['author'], 1)])\n",
    "\n",
    "l = []\n",
    "edges = {}\n",
    "vertices = {}\n",
    "    \n",
    "def commentsToEdgeList(comments, context):\n",
    "\n",
    "    for comment in comments:\n",
    "        current_comment_author = comment['author']\n",
    "        for prev_author, depth in context:\n",
    "            if prev_author != current_comment_author: #avoid self loops\n",
    "                key = (current_comment_author, prev_author)\n",
    "                if key not in edges.keys():\n",
    "                    edges[key] = comment['score']/depth\n",
    "                else:\n",
    "                    w = edges[key]\n",
    "                    edges[key] = w + comment['score']/depth\n",
    "        if len(comment['comments']) > 0:\n",
    "            commentsToEdgeList(comment['comments'], context + [(current_comment_author, comment['score'])])\n",
    "    \n",
    "    \n",
    "jsonToEdgeList('../data/Binance-2022-05-04-01-50-29.json')"
   ]
  },
  {
   "cell_type": "code",
   "execution_count": 208,
   "id": "2f3c805f",
   "metadata": {
    "scrolled": false
   },
   "outputs": [
    {
     "data": {
      "text/html": [
       "<div>\n",
       "<style scoped>\n",
       "    .dataframe tbody tr th:only-of-type {\n",
       "        vertical-align: middle;\n",
       "    }\n",
       "\n",
       "    .dataframe tbody tr th {\n",
       "        vertical-align: top;\n",
       "    }\n",
       "\n",
       "    .dataframe thead th {\n",
       "        text-align: right;\n",
       "    }\n",
       "</style>\n",
       "<table border=\"1\" class=\"dataframe\">\n",
       "  <thead>\n",
       "    <tr style=\"text-align: right;\">\n",
       "      <th></th>\n",
       "      <th>id</th>\n",
       "      <th>author</th>\n",
       "      <th>score</th>\n",
       "      <th>created_utc</th>\n",
       "      <th>depth</th>\n",
       "      <th>subreddit</th>\n",
       "    </tr>\n",
       "  </thead>\n",
       "  <tbody>\n",
       "    <tr>\n",
       "      <th>0</th>\n",
       "      <td>tyhpab</td>\n",
       "      <td>user1</td>\n",
       "      <td>3</td>\n",
       "      <td>2022-04-07 17:09:44</td>\n",
       "      <td>1</td>\n",
       "      <td>Binance</td>\n",
       "    </tr>\n",
       "    <tr>\n",
       "      <th>1</th>\n",
       "      <td>i3sg5wq</td>\n",
       "      <td>user2</td>\n",
       "      <td>3</td>\n",
       "      <td>2022-04-07 17:52:58</td>\n",
       "      <td>1</td>\n",
       "      <td>Binance</td>\n",
       "    </tr>\n",
       "    <tr>\n",
       "      <th>2</th>\n",
       "      <td>i3sg5wq</td>\n",
       "      <td>user3</td>\n",
       "      <td>5</td>\n",
       "      <td>2022-04-07 17:52:58</td>\n",
       "      <td>2</td>\n",
       "      <td>Binance</td>\n",
       "    </tr>\n",
       "    <tr>\n",
       "      <th>3</th>\n",
       "      <td>i3sg5wq</td>\n",
       "      <td>user4</td>\n",
       "      <td>10</td>\n",
       "      <td>2022-04-07 17:52:58</td>\n",
       "      <td>3</td>\n",
       "      <td>Binance</td>\n",
       "    </tr>\n",
       "    <tr>\n",
       "      <th>4</th>\n",
       "      <td>i3sg5wq</td>\n",
       "      <td>user5</td>\n",
       "      <td>3</td>\n",
       "      <td>2022-04-07 17:52:58</td>\n",
       "      <td>4</td>\n",
       "      <td>Binance</td>\n",
       "    </tr>\n",
       "    <tr>\n",
       "      <th>5</th>\n",
       "      <td>tyhpab</td>\n",
       "      <td>user2</td>\n",
       "      <td>3</td>\n",
       "      <td>2022-04-07 17:09:44</td>\n",
       "      <td>1</td>\n",
       "      <td>Binance</td>\n",
       "    </tr>\n",
       "    <tr>\n",
       "      <th>6</th>\n",
       "      <td>i3sg5wq</td>\n",
       "      <td>user3</td>\n",
       "      <td>3</td>\n",
       "      <td>2022-04-07 17:52:58</td>\n",
       "      <td>1</td>\n",
       "      <td>Binance</td>\n",
       "    </tr>\n",
       "    <tr>\n",
       "      <th>7</th>\n",
       "      <td>i3sg5wq</td>\n",
       "      <td>user4</td>\n",
       "      <td>3</td>\n",
       "      <td>2022-04-07 17:52:58</td>\n",
       "      <td>2</td>\n",
       "      <td>Binance</td>\n",
       "    </tr>\n",
       "    <tr>\n",
       "      <th>8</th>\n",
       "      <td>i3sg5wq</td>\n",
       "      <td>user2</td>\n",
       "      <td>3</td>\n",
       "      <td>2022-04-07 17:52:58</td>\n",
       "      <td>3</td>\n",
       "      <td>Binance</td>\n",
       "    </tr>\n",
       "    <tr>\n",
       "      <th>9</th>\n",
       "      <td>i3sg5wq</td>\n",
       "      <td>user3</td>\n",
       "      <td>3</td>\n",
       "      <td>2022-04-07 17:52:58</td>\n",
       "      <td>4</td>\n",
       "      <td>Binance</td>\n",
       "    </tr>\n",
       "  </tbody>\n",
       "</table>\n",
       "</div>"
      ],
      "text/plain": [
       "        id author  score         created_utc  depth subreddit\n",
       "0   tyhpab  user1      3 2022-04-07 17:09:44      1   Binance\n",
       "1  i3sg5wq  user2      3 2022-04-07 17:52:58      1   Binance\n",
       "2  i3sg5wq  user3      5 2022-04-07 17:52:58      2   Binance\n",
       "3  i3sg5wq  user4     10 2022-04-07 17:52:58      3   Binance\n",
       "4  i3sg5wq  user5      3 2022-04-07 17:52:58      4   Binance\n",
       "5   tyhpab  user2      3 2022-04-07 17:09:44      1   Binance\n",
       "6  i3sg5wq  user3      3 2022-04-07 17:52:58      1   Binance\n",
       "7  i3sg5wq  user4      3 2022-04-07 17:52:58      2   Binance\n",
       "8  i3sg5wq  user2      3 2022-04-07 17:52:58      3   Binance\n",
       "9  i3sg5wq  user3      3 2022-04-07 17:52:58      4   Binance"
      ]
     },
     "execution_count": 208,
     "metadata": {},
     "output_type": "execute_result"
    }
   ],
   "source": [
    "import json\n",
    "import os\n",
    "import pandas as pd\n",
    "\n",
    "class CSVDumper():\n",
    "    def __init__(self):\n",
    "        self.edges = { 'deep_link' : {}, 'next_link': {}} # keys=(source,target), val weight\n",
    "        self.vertices = {}\n",
    "        self.data = []\n",
    "        \n",
    "    def parse_json_file(self, file):\n",
    "        with open(file, 'r') as f:\n",
    "            subreddit = json.load(f)\n",
    "            assert subreddit['subreddit'] is not None, \"subreddit name cannot be None\"\n",
    "            assert subreddit['posts'] is not None, \"subreddit posts cannot be empty\"\n",
    "\n",
    "            for post in subreddit['posts']:\n",
    "\n",
    "                self.parse_comments_pd(post, subreddit['subreddit']) #for internal pd data frame\n",
    "\n",
    "                self.parse_comments_deep_link(post['comments'], [(post['author'], 1)], subreddit['subreddit'])\n",
    "                self.parse_comments_next_link(post['comments'], [(post['author'], 1)], subreddit['subreddit'])\n",
    "\n",
    "    def parse_comments_pd(self, post, sub):\n",
    "        self.data.append((post['id'], post['author'], post['score'], post['created_utc'], 1, sub))\n",
    "        self.parse_comments_pd_r(post['comments'], sub)\n",
    "\n",
    "    def parse_comments_pd_r(self, comments, sub):\n",
    "        for comment in comments:\n",
    "            self.data.append((comment['id'], comment['author'], comment['score'], comment['created_utc'], comment['depth'], sub))\n",
    "            if len(comment['comments']) > 0:\n",
    "                self.parse_comments_pd_r(comment['comments'], sub)\n",
    "\n",
    "    def parse_comments_deep_link(self,comments,context, sub):\n",
    "        for comment in comments:\n",
    "            for prev_author, depth in context:\n",
    "                if prev_author != comment['author']: #avoid self loops\n",
    "                    key = (comment['author'], prev_author)\n",
    "                    \n",
    "                    #insert/update edge\n",
    "                    if key not in self.edges['deep_link'].keys():\n",
    "                        self.edges['deep_link'][key] = comment['score']/depth\n",
    "                    else:\n",
    "                        w = self.edges['deep_link'][key]\n",
    "                        self.edges['deep_link'][key] = w + comment['score']/depth\n",
    "                        \n",
    "            if len(comment['comments']) > 0:\n",
    "                self.parse_comments_deep_link(comment['comments'], context + [(comment['author'], comment['depth'])], sub)\n",
    "    \n",
    "    def parse_comments_next_link(self,comments,context, sub):\n",
    "        for comment in comments:\n",
    "            for prev_author, depth in context:\n",
    "                if prev_author != comment['author']: #avoid self loops\n",
    "                    key = (comment['author'], prev_author)\n",
    "                    \n",
    "                    #insert/update edge\n",
    "                    if key not in self.edges['next_link'].keys():\n",
    "                        self.edges['next_link'][key] = comment['score']/depth\n",
    "                    else:\n",
    "                        w = self.edges['next_link'][key]\n",
    "                        self.edges['next_link'][key] = w + comment['score']/depth\n",
    "                        \n",
    "            if len(comment['comments']) > 0:\n",
    "                self.parse_comments_next_link(comment['comments'], [context[0],(comment['author'], comment['depth'])], sub)\n",
    "\n",
    "\n",
    "\n",
    "    def parse_folder(self, folder):\n",
    "        for file in os.listdir(os.path.join(folder)):\n",
    "            if file.endswith(\".json\"):\n",
    "                self.parse_json_file(os.path.join(folder, file))\n",
    "\n",
    "    def prep_df(self):\n",
    "        df = pd.DataFrame(columns = [\"id\", \"author\", \"score\", \"created_utc\", \"depth\",\"subreddit\"], data=self.data)\n",
    "        df = df.astype({'created_utc': 'int64'})\n",
    "        df['created_utc'] = pd.to_datetime(df['created_utc'], unit='s')\n",
    "        return df\n",
    "    \n",
    "    def dump_scores(self,file):\n",
    "        grouped_df = self.prep_df().groupby([\"author\"])\n",
    "        s = grouped_df['score'].agg('sum')\n",
    "        s.index.names = ['Id']\n",
    "        s.to_csv(file)\n",
    "\n",
    "    def dump_active_subs(self,file):\n",
    "        df = self.prep_df()\n",
    "        g = df[[\"author\", \"subreddit\"]].groupby([\"author\"])\n",
    "        g = g['subreddit'].apply(list)\n",
    "        g.index.names = ['Id']\n",
    "        g.to_csv(file)\n",
    "        \n",
    "    def dump_edges(self, link, file):\n",
    "        d = [ (source,target,weight) for (source,target), weight in self.edges[link].items() ]\n",
    "        pd.DataFrame(columns = [\"source\", \"target\", \"weight\"],data=d).to_csv(file, index=False)\n",
    "    \n",
    "    def dump_gephi(self,file):\n",
    "        pass\n",
    "\n",
    "    def debug(self):\n",
    "        return self.data\n",
    "\n",
    "    \n",
    "dp = CSVDumper()\n",
    "dp.parse_folder('test_data')\n",
    "dp.dump_scores('test_data/csv/scores.csv')\n",
    "dp.dump_active_subs('test_data/csv/subs.csv')\n",
    "dp.dump_edges('next_link', 'test_data/csv/edges_next.csv')\n",
    "dp.dump_edges('deep_link', 'test_data/csv/edges_deep.csv')\n"
   ]
  },
  {
   "cell_type": "code",
   "execution_count": 215,
   "id": "490f9a11",
   "metadata": {
    "scrolled": true
   },
   "outputs": [
    {
     "ename": "TypeError",
     "evalue": "unhashable type: 'set'",
     "output_type": "error",
     "traceback": [
      "\u001b[0;31m---------------------------------------------------------------------------\u001b[0m",
      "\u001b[0;31mTypeError\u001b[0m                                 Traceback (most recent call last)",
      "Input \u001b[0;32mIn [215]\u001b[0m, in \u001b[0;36m<cell line: 5>\u001b[0;34m()\u001b[0m\n\u001b[1;32m      5\u001b[0m \u001b[38;5;28;01mfor\u001b[39;00m x \u001b[38;5;129;01min\u001b[39;00m l1:\n\u001b[1;32m      6\u001b[0m     \u001b[38;5;28;01mfor\u001b[39;00m y \u001b[38;5;129;01min\u001b[39;00m l2:\n\u001b[0;32m----> 7\u001b[0m         \u001b[43mg\u001b[49m\u001b[38;5;241;43m.\u001b[39;49m\u001b[43madd\u001b[49m\u001b[43m(\u001b[49m\u001b[43m{\u001b[49m\u001b[43mx\u001b[49m\u001b[43m,\u001b[49m\u001b[43my\u001b[49m\u001b[43m}\u001b[49m\u001b[43m)\u001b[49m\n\u001b[1;32m      9\u001b[0m g\n",
      "\u001b[0;31mTypeError\u001b[0m: unhashable type: 'set'"
     ]
    }
   ],
   "source": [
    "l1 = [1,2,3,4,5]\n",
    "l2 = [10,11,12,13,14]\n",
    "\n",
    "g=set()\n",
    "for x in l1:\n",
    "    for y in l2:\n",
    "        g.add({x,y})\n",
    "        \n",
    "g"
   ]
  },
  {
   "cell_type": "code",
   "execution_count": 273,
   "id": "ac4eae57",
   "metadata": {
    "scrolled": true
   },
   "outputs": [
    {
     "name": "stdout",
     "output_type": "stream",
     "text": [
      "0\n",
      "1\n",
      "2\n",
      "3\n",
      "4\n",
      "5\n",
      "6\n",
      "7\n",
      "8\n",
      "9\n"
     ]
    }
   ],
   "source": [
    "# First import the libraries that we need to use\n",
    "import pandas as pd\n",
    "import requests\n",
    "import json\n",
    "\n",
    "#fetches 24h-1s from start in 5 min intervals\n",
    "def fetch_daily_data(symbol, start):\n",
    "    pair_split = symbol.split('/')  # symbol must be in format XXX/XXX ie. BTC/EUR\n",
    "    symbol = pair_split[0] + '-' + pair_split[1]\n",
    "    end = start + 60*60*24 - 1\n",
    "    url = f'https://api.pro.coinbase.com/products/{symbol}/candles?granularity=300&start={start}&end={end}'\n",
    "    response = requests.get(url)\n",
    "    if response.status_code == 200:  # check to make sure the response from server is good\n",
    "        data = pd.DataFrame(json.loads(response.text), columns=['unix', 'low', 'high', 'open', 'close', 'volume'])\n",
    "        data['date'] = pd.to_datetime(data['unix'], unit='s')  # convert to a readable date\n",
    "        data['vol_fiat'] = data['volume'] * data['close']      # multiply the BTC volume by closing price to approximate fiat volume\n",
    "\n",
    "        # if we failed to get any data, print an error...otherwise write the file\n",
    "        if data is None:\n",
    "             print(\"Did not return any data from Coinbase for this symbol\")\n",
    "        else:\n",
    "             #data.to_csv(f'Coinbase_{pair_split[0] + pair_split[1]}_dailydata.csv', index=False)\n",
    "            return data\n",
    "    else:\n",
    "        print(response.status_code)\n",
    "        print(\"Did not receieve OK response from Coinbase API\")\n",
    "\n",
    "\n",
    "\n",
    "def fetch_monthly_data(symbol, start):\n",
    "    for i in range(0,10):\n",
    "        start = start+i*24*60*60\n",
    "        sle\n",
    "    \n",
    "pair = \"BTC/USD\"\n",
    "#1.4.22 00:00 = 1648771200\n",
    "data = fetch_daily_data(\"BTC/USD\", 1648771200)\n",
    "\n",
    "fetch_monthly_data(\"BTC/USD\", 1648771200)"
   ]
  },
  {
   "cell_type": "code",
   "execution_count": 250,
   "id": "04d292de",
   "metadata": {},
   "outputs": [
    {
     "name": "stdout",
     "output_type": "stream",
     "text": [
      "2022-04-01\n"
     ]
    }
   ],
   "source": [
    "import datetime\n",
    "print(datetime.datetime.fromtimestamp(1648764000).date())"
   ]
  }
 ],
 "metadata": {
  "kernelspec": {
   "display_name": "Python 3 (ipykernel)",
   "language": "python",
   "name": "python3"
  },
  "language_info": {
   "codemirror_mode": {
    "name": "ipython",
    "version": 3
   },
   "file_extension": ".py",
   "mimetype": "text/x-python",
   "name": "python",
   "nbconvert_exporter": "python",
   "pygments_lexer": "ipython3",
   "version": "3.10.2"
  }
 },
 "nbformat": 4,
 "nbformat_minor": 5
}
