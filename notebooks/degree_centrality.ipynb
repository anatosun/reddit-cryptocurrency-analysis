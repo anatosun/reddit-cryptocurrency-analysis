{
 "cells": [
  {
   "cell_type": "code",
   "execution_count": 152,
   "id": "beaa6005",
   "metadata": {},
   "outputs": [
    {
     "data": {
      "image/png": "[encoded data removed]",
      "text/plain": [
       "<Figure size 432x288 with 1 Axes>"
      ]
     },
     "metadata": {},
     "output_type": "display_data"
    }
   ],
   "source": [
    "import networkx as nx\n",
    "import matplotlib.pyplot as plt\n",
    "\n",
    "G = nx.Graph()\n",
    "G.add_edge(1, 2)\n",
    "G.add_edge(1, 3)\n",
    "G.add_edge(1, 5)\n",
    "G.add_edge(2, 3)\n",
    "G.add_edge(3, 4)\n",
    "G.add_edge(4, 5)\n",
    "G.add_edge(3, 5)\n",
    "G.add_edge(2, 6)\n",
    "\n",
    "nx.draw(G, with_labels=True)"
   ]
  },
  {
   "cell_type": "code",
   "execution_count": 84,
   "id": "cd64e18b",
   "metadata": {},
   "outputs": [
    {
     "data": {
      "text/plain": [
       "DiDegreeView({1: 3, 2: 3, 3: 4, 5: 3, 4: 2, 6: 1})"
      ]
     },
     "execution_count": 84,
     "metadata": {},
     "output_type": "execute_result"
    }
   ],
   "source": [
    "G.degree()"
   ]
  },
  {
   "cell_type": "code",
   "execution_count": 86,
   "id": "1b9f70a9",
   "metadata": {},
   "outputs": [
    {
     "data": {
      "text/plain": [
       "{1: 0.6000000000000001,\n",
       " 2: 0.6000000000000001,\n",
       " 3: 0.8,\n",
       " 5: 0.6000000000000001,\n",
       " 4: 0.4,\n",
       " 6: 0.2}"
      ]
     },
     "execution_count": 86,
     "metadata": {},
     "output_type": "execute_result"
    }
   ],
   "source": [
    "nx.degree_centrality(G)"
   ]
  },
  {
   "cell_type": "code",
   "execution_count": 106,
   "id": "b629cde1",
   "metadata": {},
   "outputs": [
    {
     "data": {
      "text/plain": [
       "True"
      ]
     },
     "execution_count": 106,
     "metadata": {},
     "output_type": "execute_result"
    }
   ],
   "source": []
  },
  {
   "cell_type": "code",
   "execution_count": 108,
   "id": "8db33450",
   "metadata": {},
   "outputs": [
    {
     "data": {
      "text/html": [
       "<div>\n",
       "<style scoped>\n",
       "    .dataframe tbody tr th:only-of-type {\n",
       "        vertical-align: middle;\n",
       "    }\n",
       "\n",
       "    .dataframe tbody tr th {\n",
       "        vertical-align: top;\n",
       "    }\n",
       "\n",
       "    .dataframe thead th {\n",
       "        text-align: right;\n",
       "    }\n",
       "</style>\n",
       "<table border=\"1\" class=\"dataframe\">\n",
       "  <thead>\n",
       "    <tr style=\"text-align: right;\">\n",
       "      <th></th>\n",
       "      <th>degree</th>\n",
       "      <th>deg_centr_max_poss_degree</th>\n",
       "      <th>deg_centr_max_degree</th>\n",
       "    </tr>\n",
       "  </thead>\n",
       "  <tbody>\n",
       "    <tr>\n",
       "      <th>1</th>\n",
       "      <td>3</td>\n",
       "      <td>0.6</td>\n",
       "      <td>0.75</td>\n",
       "    </tr>\n",
       "    <tr>\n",
       "      <th>2</th>\n",
       "      <td>3</td>\n",
       "      <td>0.6</td>\n",
       "      <td>0.75</td>\n",
       "    </tr>\n",
       "    <tr>\n",
       "      <th>3</th>\n",
       "      <td>4</td>\n",
       "      <td>0.8</td>\n",
       "      <td>1.00</td>\n",
       "    </tr>\n",
       "    <tr>\n",
       "      <th>5</th>\n",
       "      <td>3</td>\n",
       "      <td>0.6</td>\n",
       "      <td>0.75</td>\n",
       "    </tr>\n",
       "    <tr>\n",
       "      <th>4</th>\n",
       "      <td>2</td>\n",
       "      <td>0.4</td>\n",
       "      <td>0.50</td>\n",
       "    </tr>\n",
       "    <tr>\n",
       "      <th>6</th>\n",
       "      <td>1</td>\n",
       "      <td>0.2</td>\n",
       "      <td>0.25</td>\n",
       "    </tr>\n",
       "  </tbody>\n",
       "</table>\n",
       "</div>"
      ],
      "text/plain": [
       "   degree  deg_centr_max_poss_degree  deg_centr_max_degree\n",
       "1       3                        0.6                  0.75\n",
       "2       3                        0.6                  0.75\n",
       "3       4                        0.8                  1.00\n",
       "5       3                        0.6                  0.75\n",
       "4       2                        0.4                  0.50\n",
       "6       1                        0.2                  0.25"
      ]
     },
     "execution_count": 108,
     "metadata": {},
     "output_type": "execute_result"
    }
   ],
   "source": [
    "import pandas as pd\n",
    "n = G.number_of_nodes()\n",
    "\n",
    "#pd.DataFrame.from_dict(dict(G.degree()), columns=['degree'], orient='index')\n",
    "\n",
    "degrees = [dict(G.degree())]\n",
    "if isinstance(G, nx.DiGraph):\n",
    "    degrees.append(dict(G.in_degree()))\n",
    "    degrees.append(dict(G.out_degree()))\n",
    "    \n",
    "data = {}\n",
    "for k in degrees[0].keys():\n",
    "    data[k] = tuple(d[k] for d in degrees)\n",
    "\n",
    "\n",
    "df['deg_centr_max_poss_degree'] = df['degree']/(n-1)\n",
    "\n",
    "max_degree = df['degree'].max()\n",
    "df['deg_centr_max_degree'] = df['degree']/max_degree\n",
    "\n",
    "df"
   ]
  },
  {
   "cell_type": "code",
   "execution_count": 153,
   "id": "a9c6c661",
   "metadata": {},
   "outputs": [
    {
     "data": {
      "text/plain": [
       "matrix([[3., 3., 4., 3., 2., 1.]])"
      ]
     },
     "execution_count": 153,
     "metadata": {},
     "output_type": "execute_result"
    }
   ],
   "source": [
    "class DegreeCentrality:\n",
    "    \n",
    "    def __init__(self):\n",
    "        pass\n",
    "    \n",
    "    def load(self, G):\n",
    "        self.n = G.number_of_nodes()\n",
    "        self.G = G\n",
    "        \n",
    "        #load graph\n",
    "        if isinstance(G, nx.DiGraph):\n",
    "            self.load_digraph(G)\n",
    "        else:\n",
    "            self.load_graph(G)\n",
    "            \n",
    "        #compute degree stats\n",
    "        self.df['deg_centr_max_poss_degree'] = self.df['degree']/(self.n-1)\n",
    "        \n",
    "        max_degree = df['degree'].max()\n",
    "        self.df['deg_centr_max_degree'] = self.df['degree']/max_degree\n",
    "        \n",
    "        deg_sum = df['degree'].max()\n",
    "        self.df['deg_centr_max_degree'] = self.df['degree']/max_degree\n",
    "        \n",
    "        self.df['deg_centr_degree_sum'] = self.df['degree']/G.number_of_edges()\n",
    "        \n",
    "        \n",
    "        if self.digraph:\n",
    "            self.df['deg_centr_max_degree_out'] = self.df['out_degree']/max_degree\n",
    "            self.df['deg_centr_max_degree_in'] = self.df['in_degree']/max_degree\n",
    "            \n",
    "            self.df['deg_centr_max_poss_degree_out'] = self.df['out_degree']/(self.n-1)\n",
    "            self.df['deg_centr_max_poss_degree_in'] = self.df['in_degree']/(self.n-1)\n",
    "\n",
    "            self.df['deg_centr_degree_sum_out'] = self.df['out_degree']/G.number_of_edges()\n",
    "            self.df['deg_centr_degree_sum_in'] = self.df['in_degree']/G.number_of_edges()\n",
    "            \n",
    "            \n",
    "        return self.df\n",
    "       \n",
    "    \n",
    "    def load_digraph(self, G):\n",
    "        self.digraph = True\n",
    "        degrees = [dict(G.degree()), dict(G.in_degree()), dict(G.out_degree())]\n",
    "        data = {}\n",
    "        for k in degrees[0].keys():\n",
    "            data[k] = tuple(d[k] for d in degrees)\n",
    "        \n",
    "        self.df = pd.DataFrame.from_dict(data, columns=[\"degree\", \"in_degree\", \"out_degree\"], orient='index')\n",
    "        \n",
    "            \n",
    "    def load_graph(self, G):\n",
    "        self.digraph = False\n",
    "        self.df = pd.DataFrame.from_dict(dict(G.degree()), columns=[\"degree\"], orient='index')\n",
    "        \n",
    "        \n",
    "    def graph_degree_centrality(self):\n",
    "        return nx.to_numpy_matrix(G).dot([1]*self.n)\n",
    "        \n",
    "            \n",
    "    \n",
    "\n",
    "dc = DegreeCentrality()\n",
    "dc.load(G)\n",
    "dc.graph_degree_centrality()"
   ]
  }
 ],
 "metadata": {
  "kernelspec": {
   "display_name": "Python 3 (ipykernel)",
   "language": "python",
   "name": "python3"
  },
  "language_info": {
   "codemirror_mode": {
    "name": "ipython",
    "version": 3
   },
   "file_extension": ".py",
   "mimetype": "text/x-python",
   "name": "python",
   "nbconvert_exporter": "python",
   "pygments_lexer": "ipython3",
   "version": "3.10.2"
  }
 },
 "nbformat": 4,
 "nbformat_minor": 5
}
