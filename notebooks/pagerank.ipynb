{
 "cells": [
  {
   "cell_type": "code",
   "execution_count": 35,
   "metadata": {},
   "outputs": [],
   "source": [
    "import networkx as nx\n",
    "import pandas as pd\n",
    "import numpy as np\n",
    "import scipy as sp"
   ]
  },
  {
   "cell_type": "code",
   "execution_count": 7,
   "metadata": {},
   "outputs": [
    {
     "data": {
      "text/html": [
       "<div>\n",
       "<style scoped>\n",
       "    .dataframe tbody tr th:only-of-type {\n",
       "        vertical-align: middle;\n",
       "    }\n",
       "\n",
       "    .dataframe tbody tr th {\n",
       "        vertical-align: top;\n",
       "    }\n",
       "\n",
       "    .dataframe thead th {\n",
       "        text-align: right;\n",
       "    }\n",
       "</style>\n",
       "<table border=\"1\" class=\"dataframe\">\n",
       "  <thead>\n",
       "    <tr style=\"text-align: right;\">\n",
       "      <th></th>\n",
       "      <th>source</th>\n",
       "      <th>source_score</th>\n",
       "      <th>target</th>\n",
       "      <th>target_score</th>\n",
       "      <th>weight</th>\n",
       "      <th>subreddit</th>\n",
       "    </tr>\n",
       "  </thead>\n",
       "  <tbody>\n",
       "    <tr>\n",
       "      <th>0</th>\n",
       "      <td>Kostik114</td>\n",
       "      <td>1027</td>\n",
       "      <td>KayAyeeWhy</td>\n",
       "      <td>1757</td>\n",
       "      <td>302.000000</td>\n",
       "      <td>dogecoin</td>\n",
       "    </tr>\n",
       "    <tr>\n",
       "      <th>1</th>\n",
       "      <td>No-Relationship-5985</td>\n",
       "      <td>687</td>\n",
       "      <td>KayAyeeWhy</td>\n",
       "      <td>1757</td>\n",
       "      <td>229.000000</td>\n",
       "      <td>dogecoin</td>\n",
       "    </tr>\n",
       "    <tr>\n",
       "      <th>2</th>\n",
       "      <td>No-Relationship-5985</td>\n",
       "      <td>687</td>\n",
       "      <td>Kostik114</td>\n",
       "      <td>1027</td>\n",
       "      <td>0.758278</td>\n",
       "      <td>dogecoin</td>\n",
       "    </tr>\n",
       "    <tr>\n",
       "      <th>3</th>\n",
       "      <td>Sarderiol</td>\n",
       "      <td>453</td>\n",
       "      <td>KayAyeeWhy</td>\n",
       "      <td>1757</td>\n",
       "      <td>170.000000</td>\n",
       "      <td>dogecoin</td>\n",
       "    </tr>\n",
       "    <tr>\n",
       "      <th>4</th>\n",
       "      <td>Sarderiol</td>\n",
       "      <td>453</td>\n",
       "      <td>Kostik114</td>\n",
       "      <td>1027</td>\n",
       "      <td>0.562914</td>\n",
       "      <td>dogecoin</td>\n",
       "    </tr>\n",
       "    <tr>\n",
       "      <th>...</th>\n",
       "      <td>...</td>\n",
       "      <td>...</td>\n",
       "      <td>...</td>\n",
       "      <td>...</td>\n",
       "      <td>...</td>\n",
       "      <td>...</td>\n",
       "    </tr>\n",
       "    <tr>\n",
       "      <th>41093</th>\n",
       "      <td>aoskiev</td>\n",
       "      <td>3</td>\n",
       "      <td>TheWorldofGood</td>\n",
       "      <td>331</td>\n",
       "      <td>3.000000</td>\n",
       "      <td>btc</td>\n",
       "    </tr>\n",
       "    <tr>\n",
       "      <th>41094</th>\n",
       "      <td>geogrant1000</td>\n",
       "      <td>12</td>\n",
       "      <td>Michellerose6834</td>\n",
       "      <td>593</td>\n",
       "      <td>3.000000</td>\n",
       "      <td>CryptoCurrencies</td>\n",
       "    </tr>\n",
       "    <tr>\n",
       "      <th>41095</th>\n",
       "      <td>BasicallyTony</td>\n",
       "      <td>3</td>\n",
       "      <td>Michellerose6834</td>\n",
       "      <td>593</td>\n",
       "      <td>3.000000</td>\n",
       "      <td>CryptoCurrencies</td>\n",
       "    </tr>\n",
       "    <tr>\n",
       "      <th>41096</th>\n",
       "      <td>BasicallyTony</td>\n",
       "      <td>3</td>\n",
       "      <td>geogrant1000</td>\n",
       "      <td>12</td>\n",
       "      <td>1.000000</td>\n",
       "      <td>CryptoCurrencies</td>\n",
       "    </tr>\n",
       "    <tr>\n",
       "      <th>41097</th>\n",
       "      <td>phyLoGG</td>\n",
       "      <td>114</td>\n",
       "      <td>CRYPTOsauceNews</td>\n",
       "      <td>66</td>\n",
       "      <td>8.000000</td>\n",
       "      <td>CryptoCurrencies</td>\n",
       "    </tr>\n",
       "  </tbody>\n",
       "</table>\n",
       "<p>41098 rows × 6 columns</p>\n",
       "</div>"
      ],
      "text/plain": [
       "                     source  source_score            target  target_score  \\\n",
       "0                 Kostik114          1027        KayAyeeWhy          1757   \n",
       "1      No-Relationship-5985           687        KayAyeeWhy          1757   \n",
       "2      No-Relationship-5985           687         Kostik114          1027   \n",
       "3                 Sarderiol           453        KayAyeeWhy          1757   \n",
       "4                 Sarderiol           453         Kostik114          1027   \n",
       "...                     ...           ...               ...           ...   \n",
       "41093               aoskiev             3    TheWorldofGood           331   \n",
       "41094          geogrant1000            12  Michellerose6834           593   \n",
       "41095         BasicallyTony             3  Michellerose6834           593   \n",
       "41096         BasicallyTony             3      geogrant1000            12   \n",
       "41097               phyLoGG           114   CRYPTOsauceNews            66   \n",
       "\n",
       "           weight         subreddit  \n",
       "0      302.000000          dogecoin  \n",
       "1      229.000000          dogecoin  \n",
       "2        0.758278          dogecoin  \n",
       "3      170.000000          dogecoin  \n",
       "4        0.562914          dogecoin  \n",
       "...           ...               ...  \n",
       "41093    3.000000               btc  \n",
       "41094    3.000000  CryptoCurrencies  \n",
       "41095    3.000000  CryptoCurrencies  \n",
       "41096    1.000000  CryptoCurrencies  \n",
       "41097    8.000000  CryptoCurrencies  \n",
       "\n",
       "[41098 rows x 6 columns]"
      ]
     },
     "execution_count": 7,
     "metadata": {},
     "output_type": "execute_result"
    }
   ],
   "source": [
    "df_edges = pd.read_csv('../data/edgelist.csv')\n",
    "df_edges"
   ]
  },
  {
   "cell_type": "code",
   "execution_count": 16,
   "metadata": {},
   "outputs": [],
   "source": [
    "G = nx.from_pandas_edgelist(df_edges, create_using=nx.DiGraph())"
   ]
  },
  {
   "cell_type": "code",
   "execution_count": 88,
   "metadata": {},
   "outputs": [],
   "source": [
    "nx_ranks = nx.pagerank(G)"
   ]
  },
  {
   "cell_type": "code",
   "execution_count": 109,
   "metadata": {},
   "outputs": [],
   "source": [
    "def page_rank(G: nx.digraph, iterations=100, alpha=0.85, error=1.0e-6):\n",
    "    if len(G)==0: return {}\n",
    "    nodes = list(G)\n",
    "    A = nx.to_numpy_array(G, nodelist=nodes, weight=\"weight\", dtype=float)\n",
    "    n, m = A.shape\n",
    "    if n==0: return {}\n",
    "    S = A.sum(axis=1)\n",
    "    S[S != 0] = 1.0 / S[S != 0]\n",
    "    A = sp.sparse.csr_array(sp.sparse.spdiags(S.T, 0, *A.shape)).dot(A)\n",
    "    x = np.ones(n)/n\n",
    "    p = np.ones(n)/n\n",
    "    for _ in range(iterations):\n",
    "        xlast = x\n",
    "        x = alpha * (x.dot(A) + sum(x[np.where(S == 0)[0]]) * p) + (1 - alpha) * p\n",
    "        err = np.absolute(x - xlast).sum()\n",
    "        if err < n * error:\n",
    "            return dict(zip(nodes, map(float, x)))\n",
    "    return dict(zip(nodes,map(float,x)))"
   ]
  },
  {
   "cell_type": "code",
   "execution_count": 110,
   "metadata": {},
   "outputs": [],
   "source": [
    "own_ranks = page_rank(G)"
   ]
  },
  {
   "cell_type": "code",
   "execution_count": 111,
   "metadata": {},
   "outputs": [],
   "source": [
    "overall_error = np.array([np.absolute(own_ranks[k]-nx_ranks[k]) for k in own_ranks.keys()])"
   ]
  },
  {
   "cell_type": "code",
   "execution_count": 112,
   "metadata": {},
   "outputs": [
    {
     "data": {
      "text/plain": [
       "3.189112927730331e-16"
      ]
     },
     "execution_count": 112,
     "metadata": {},
     "output_type": "execute_result"
    }
   ],
   "source": [
    "overall_error.sum()"
   ]
  },
  {
   "cell_type": "code",
   "execution_count": null,
   "metadata": {},
   "outputs": [],
   "source": []
  }
 ],
 "metadata": {
  "kernelspec": {
   "display_name": "Python 3 (ipykernel)",
   "language": "python",
   "name": "python3"
  },
  "language_info": {
   "codemirror_mode": {
    "name": "ipython",
    "version": 3
   },
   "file_extension": ".py",
   "mimetype": "text/x-python",
   "name": "python",
   "nbconvert_exporter": "python",
   "pygments_lexer": "ipython3",
   "version": "3.10.4"
  }
 },
 "nbformat": 4,
 "nbformat_minor": 4
}
