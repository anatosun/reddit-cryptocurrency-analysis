{
 "cells": [
  {
   "cell_type": "markdown",
   "metadata": {},
   "source": [
    "### Compare louvain with subreddit communities\n",
    "In this notebook, the goal is to compare the communities found with Louvain method and the community of each subreddit.\n",
    "\n",
    "First, we build a list of communities by subreddit. A person is assigned to the subreddit's community where he post the most frequently."
   ]
  },
  {
   "cell_type": "code",
   "execution_count": 339,
   "metadata": {},
   "outputs": [],
   "source": [
    "import pandas as pd\n",
    "from collections import Counter\n",
    "import ast\n",
    "\n",
    "# Load csv\n",
    "df_subs = pd.read_csv('../data/csv/subs.csv')\n",
    "\n",
    "# Keep with the most frequent subreddit for each person\n",
    "df_subs[\"subreddit\"] = df_subs[\"subreddit\"].apply(lambda x: Counter(ast.literal_eval(x)).most_common(1)[0][0])\n",
    "\n",
    "# Group by subreddit to build the list of communities\n",
    "df_subs = df_subs.groupby(\"subreddit\")[\"Id\"].agg(lambda x: set(x))\n",
    "com_subreddit = df_subs.values.tolist()"
   ]
  },
  {
   "cell_type": "markdown",
   "metadata": {},
   "source": [
    "Then create another list of communities by running Louvain method on the graph \"edges_deep_link_no_merge\"."
   ]
  },
  {
   "cell_type": "code",
   "execution_count": 340,
   "metadata": {},
   "outputs": [],
   "source": [
    "import networkx as nx\n",
    "import networkx.algorithms.community as nx_comm\n",
    "\n",
    "# Load graph\n",
    "df_edges = pd.read_csv('../data/csv/edges_deep_link_no_merge.csv')\n",
    "G = nx.from_pandas_edgelist(df_edges)\n",
    "\n",
    "# Compute partitions with louvain\n",
    "com_louvain = nx_comm.louvain_communities(G, seed=123)"
   ]
  },
  {
   "cell_type": "markdown",
   "metadata": {},
   "source": [
    "We can print the number of Louvain communities and the number of subreddit."
   ]
  },
  {
   "cell_type": "code",
   "execution_count": 341,
   "metadata": {},
   "outputs": [
    {
     "name": "stdout",
     "output_type": "stream",
     "text": [
      "Number of Louvain communities: 260\n",
      "Number of subreddit: 10\n"
     ]
    }
   ],
   "source": [
    "print(f\"Number of Louvain communities: {len(com_louvain)}\")\n",
    "print(f\"Number of subreddit: {len(com_subreddit)}\")"
   ]
  },
  {
   "cell_type": "markdown",
   "metadata": {},
   "source": [
    "Louvain method extract a lot of communities compare to the number of subreddit. A subreddit can therefore have several inner communities.\n",
    "\n",
    "The two lists of communities are not extracted from the same file. So there may be a difference between the people in the two datasets. We can therefore compare them:"
   ]
  },
  {
   "cell_type": "code",
   "execution_count": 342,
   "metadata": {},
   "outputs": [
    {
     "name": "stdout",
     "output_type": "stream",
     "text": [
      "Total number of person in list of communities:\n",
      " • Louvain - 25723\n",
      " • Subreddit - 27093\n",
      "Intersection between the two set of people: 25723\n"
     ]
    }
   ],
   "source": [
    "persons_louvain = set().union(*com_louvain)\n",
    "persons_subreddit = set().union(*com_subreddit)\n",
    "\n",
    "print(f\"Total number of person in list of communities:\\n • Louvain - {len(persons_louvain)}\\n • Subreddit - {len(persons_subreddit)}\")\n",
    "print(f\"Intersection between the two set of people: {len(persons_louvain.intersection(persons_subreddit))}\")"
   ]
  },
  {
   "cell_type": "markdown",
   "metadata": {},
   "source": [
    "As we said before, a subreddit can have several communities but it can be interesting to see if communities are formed by people from different subreddits. For this, we loop over the Louvain communities and compute the percentage of people coming from each subreddit. It gives a matrix where rows are Louvain communities and columns are the percentage of people from each subreddit.\n",
    "\n",
    "As all the people in the Louvain dataset are included in the subreddit dataset, the sum of element in each line is a percentage of 1.0."
   ]
  },
  {
   "cell_type": "code",
   "execution_count": 355,
   "metadata": {},
   "outputs": [
    {
     "name": "stdout",
     "output_type": "stream",
     "text": [
      "['0.00', '0.00', '0.00', '0.00', '0.00', '0.00', '0.00', '1.00', '0.00', '0.00']\n",
      "['0.01', '0.02', '0.04', '0.87', '0.00', '0.01', '0.01', '0.00', '0.02', '0.01']\n",
      "['0.00', '0.00', '0.00', '0.00', '0.00', '0.00', '0.00', '0.00', '0.00', '1.00']\n",
      "['0.00', '0.24', '0.71', '0.01', '0.00', '0.02', '0.01', '0.00', '0.01', '0.00']\n",
      "...\n",
      "['0.05', '0.81', '0.02', '0.00', '0.04', '0.02', '0.04', '0.02', '0.00', '0.00']\n",
      "['0.00', '0.00', '0.00', '1.00', '0.00', '0.00', '0.00', '0.00', '0.00', '0.00']\n",
      "['0.00', '1.00', '0.00', '0.00', '0.00', '0.00', '0.00', '0.00', '0.00', '0.00']\n",
      "['0.00', '1.00', '0.00', '0.00', '0.00', '0.00', '0.00', '0.00', '0.00', '0.00']\n"
     ]
    }
   ],
   "source": [
    "# Get set intersection between louvain and subreddit communities\n",
    "intersections = []\n",
    "for cl in com_louvain:\n",
    "   intersections.append([len(cl.intersection(cs)) / len(cl) for cs in com_subreddit])\n",
    "\n",
    "# Print matrix\n",

    "for inter in intersections[0:4]:\n",
    "   print(['%.2f' % v for v in inter])\n",
    "print(\"...\")\n",
    "\n",
    "for inter in intersections[-4:]:\n",
    "   print(['%.2f' % v for v in inter])"
   ]
  },
  {
   "cell_type": "markdown",
   "metadata": {},
   "source": [
    "To have a better understanding of the result, we can plot a histogram of the number of different subreddits that people in a Louvain community belong to."
   ]
  },
  {
   "cell_type": "code",
   "execution_count": 344,
   "metadata": {},
   "outputs": [
    {
     "data": {
      "image/png": "[encoded data removed]",
      "text/plain": [
       "<Figure size 432x288 with 1 Axes>"
      ]
     },
     "metadata": {
      "needs_background": "light"
     },
     "output_type": "display_data"
    }
   ],
   "source": [
    "from matplotlib import pyplot as plt\n",
    "\n",
    "# Compute repartition for each Louvain community\n",
    "repartition = [sum(1 if v else 0 for v in inter) for inter in intersections]\n",
    "\n",
    "# Plot\n",
    "plt.hist(repartition, bins=20)\n",
    "plt.ylabel(\"Louvain partitions\")\n",
    "plt.xlabel(\"Number of subreddit\")\n",
    "plt.savefig('../data/images/inner_communities_repartition.pdf')\n",
    "plt.show()"
   ]
  },
  {
   "cell_type": "markdown",
   "metadata": {},
   "source": [
    "We can see that the Louvain communities are not all restricted to one subreddit. Some are interacting in several subreddit but this is not the case for the majority.\n",
    "\n",
    "### Summary\n",
    "\n",
    "Louvain method is a technique that find communities from large networks. In our case, we can see that there is 260 communities found with Louvain method in only 10 subreddit. Thus each subreddit has inner communities that interact with each other but all these communities are not restricted to one subreddit. Some are interacting in several subreddit."
   ]
  }
 ],
 "metadata": {
  "interpreter": {
   "hash": "a149d0f6d3623fa0eed9d07ddb6a4318f5d798df70242368400d6acd55b9b879"
  },
  "kernelspec": {
   "display_name": "Python 3.10.2 ('sma-project-W3EQc3WN')",
   "language": "python",
   "name": "python3"
  },
  "language_info": {
   "codemirror_mode": {
    "name": "ipython",
    "version": 3
   },
   "file_extension": ".py",
   "mimetype": "text/x-python",
   "name": "python",
   "nbconvert_exporter": "python",
   "pygments_lexer": "ipython3",
   "version": "3.10.2"
  },
  "orig_nbformat": 4
 },
 "nbformat": 4,
 "nbformat_minor": 2
}
